{
 "cells": [
  {
   "cell_type": "code",
   "execution_count": 29,
   "metadata": {},
   "outputs": [],
   "source": [
    "import pandas as pd\n",
    "import requests\n",
    "from bs4 import BeautifulSoup"
   ]
  },
  {
   "cell_type": "code",
   "execution_count": 31,
   "metadata": {},
   "outputs": [],
   "source": [
    "url = \"https://www.flipkart.com\"\n",
    "r = requests.get(url)\n",
    "soup = BeautifulSoup(r.content, \"html.parser\")"
   ]
  },
  {
   "cell_type": "code",
   "execution_count": 34,
   "metadata": {},
   "outputs": [
    {
     "name": "stdout",
     "output_type": "stream",
     "text": [
      "<bound method Tag.prettify of <div class=\"_37K3-p\" style=\"-webkit-transform:translateX(0px);-moz-transform:translateX(0px);-o-transform:translateX(0px);-ms-transform:translateX(0px);transform:translateX(0px)\"><div class=\"_3YgSsQ\" style=\"width:195px\"><div class=\"\"><a class=\"_6WQwDJ\" data-tracking-id=\"\" data-widget-type=\"omu\" href=\"/audio-video/headphones/pr?sid=0pm,fcn&amp;offer=nb:mp:0158e7e209,nb:mp:015c6f6109,nb:mp:01fef7ec09&amp;hpid=P1frpC3J6T5S7QjeTFwnsqp7_Hsxr70nj65vMAAFKlc=&amp;fm=neo%2Fmerchandising&amp;iid=M_06f04bde-bd7f-40c5-89b3-840027f0caee_4.LWI5BGOS9CP6&amp;ssid=sz94dwt1f40000001612954832840&amp;otracker=hp_omu_Deals%2Bof%2Bthe%2BDay_1_4.dealCard.OMU_LWI5BGOS9CP6_3&amp;otracker1=hp_omu_SECTIONED_neo%2Fmerchandising_Deals%2Bof%2Bthe%2BDay_NA_dealCard_cc_1_NA_view-all_3&amp;cid=LWI5BGOS9CP6\" title=\"Upto 50% off\"><div class=\"_10pg75\" style=\"height:150px\"><div class=\"CXW8mj\" style=\"height:150px;width:150px\"><img alt=\"Wings Glide Neckband with Siri and Google Assistant Bluetooth Headset\" class=\"_396cs4\" src=\"//img1a.flixcart.com/www/linchpin/fk-cp-zion/img/placeholder_fcebae.svg\"/></div></div><div class=\"_3LU4EM\">Headphones</div><div class=\"_2tDhp2\">Upto 50% off</div><div class=\"_3khuHA\">JBL,Sony &amp; more</div><div class=\"_2LaGin\"></div></a></div></div><div class=\"_3YgSsQ\" style=\"width:195px\"><div class=\"\"><a class=\"_6WQwDJ\" data-tracking-id=\"1\" data-widget-type=\"omu\" href=\"/audio-video/speakers/pr?sid=0pm,0o7&amp;offer=nb:mp:015c6f6109,nb:mp:01fef7ec09&amp;hpid=VSLLAEyWmV_lKuKCKv8svap7_Hsxr70nj65vMAAFKlc=&amp;fm=neo%2Fmerchandising&amp;iid=M_06f04bde-bd7f-40c5-89b3-840027f0caee_4.8XN16G0993ML&amp;ssid=sz94dwt1f40000001612954832840&amp;otracker=hp_omu_Deals%2Bof%2Bthe%2BDay_2_4.dealCard.OMU_8XN16G0993ML_3&amp;otracker1=hp_omu_SECTIONED_neo%2Fmerchandising_Deals%2Bof%2Bthe%2BDay_NA_dealCard_cc_2_NA_view-all_3&amp;cid=8XN16G0993ML\" title=\"Upto 50% off\"><div class=\"_10pg75\" style=\"height:150px\"><div class=\"CXW8mj\" style=\"height:150px;width:150px\"><img alt=\"Mivi Zero Portable Bluetooth  Speaker\" class=\"_396cs4\" src=\"//img1a.flixcart.com/www/linchpin/fk-cp-zion/img/placeholder_fcebae.svg\"/></div></div><div class=\"_3LU4EM\">Speakers</div><div class=\"_2tDhp2\">Upto 50% off</div><div class=\"_3khuHA\">BoAt, Infinity &amp; more</div><div class=\"_2LaGin\"></div></a></div></div><div class=\"_3YgSsQ\" style=\"width:195px\"><div class=\"\"><a class=\"_6WQwDJ\" data-tracking-id=\"2\" data-widget-type=\"omu\" href=\"/kitchen-cookware-serveware/pr?sid=upp&amp;p%5B%5D=facets.brand%255B%255D%3DTuelip&amp;p%5B%5D=facets.brand%255B%255D%3DME%2526YOU&amp;p%5B%5D=facets.brand%255B%255D%3DSKY%2BTRENDS&amp;p%5B%5D=facets.brand%255B%255D%3DFlipkart%2BSmartBuy&amp;p%5B%5D=facets.brand%255B%255D%3DPLAKASHA%2BCREATIONS&amp;p%5B%5D=facets.brand%255B%255D%3DPlakasha%2BCreations&amp;p%5B%5D=facets.brand%255B%255D%3DGiftOwl&amp;p%5B%5D=facets.brand%255B%255D%3DJHINGALALA&amp;p%5B%5D=facets.brand%255B%255D%3DJhingalala&amp;p%5B%5D=facets.brand%255B%255D%3DStylotrendz&amp;p%5B%5D=facets.brand%255B%255D%3DSatyam%2BKraft&amp;p%5B%5D=facets.brand%255B%255D%3DBorosil&amp;p%5B%5D=facets.brand%255B%255D%3DTREO&amp;p%5B%5D=facets.brand%255B%255D%3DTreo&amp;p%5B%5D=facets.brand%255B%255D%3DOcean&amp;p%5B%5D=facets.brand%255B%255D%3DPasabahce&amp;p%5B%5D=facets.brand%255B%255D%3DNOGAIYA&amp;p%5B%5D=facets.brand%255B%255D%3DNogaiya&amp;p%5B%5D=facets.brand%255B%255D%3DFancy%2BCraft&amp;p%5B%5D=facets.brand%255B%255D%3DNEWTOWN&amp;p%5B%5D=facets.brand%255B%255D%3DXEMIT&amp;p%5B%5D=facets.brand%255B%255D%3DAfast&amp;p%5B%5D=facets.brand%255B%255D%3Dkorona&amp;p%5B%5D=facets.brand%255B%255D%3DBENTEX&amp;offer=nb:mp:01b24ac308,nb:mp:01d22a1808&amp;hpid=fqZa-OcHnZEjK4_wZ_URV6p7_Hsxr70nj65vMAAFKlc=&amp;fm=neo%2Fmerchandising&amp;iid=M_06f04bde-bd7f-40c5-89b3-840027f0caee_4.ATEJBV8OA2CS&amp;ssid=sz94dwt1f40000001612954832840&amp;otracker=hp_omu_Deals%2Bof%2Bthe%2BDay_3_4.dealCard.OMU_ATEJBV8OA2CS_3&amp;otracker1=hp_omu_SECTIONED_neo%2Fmerchandising_Deals%2Bof%2Bthe%2BDay_NA_dealCard_cc_3_NA_view-all_3&amp;cid=ATEJBV8OA2CS\" title=\"From ₹119\"><div class=\"_10pg75\" style=\"height:150px\"><div class=\"CXW8mj\" style=\"height:150px;width:150px\"><img alt=\"Treo (Pack of 6) CRESCENT COOL Glass Set\" class=\"_396cs4\" src=\"//img1a.flixcart.com/www/linchpin/fk-cp-zion/img/placeholder_fcebae.svg\"/></div></div><div class=\"_3LU4EM\">Mugs &amp; Glasses</div><div class=\"_2tDhp2\">From ₹119</div><div class=\"_3khuHA\">Valentine's Special</div><div class=\"_2LaGin\"></div></a></div></div><div class=\"_3YgSsQ\" style=\"width:195px\"><div class=\"\"><a class=\"_6WQwDJ\" data-tracking-id=\"3\" data-widget-type=\"omu\" href=\"/beauty-and-grooming/pr?sid=g9b&amp;offer=nb:mp:010e2fd709,nb:mp:01db3a8f09&amp;hpid=Ux9PbDFEna-XiBZ2ro3F4Kp7_Hsxr70nj65vMAAFKlc=&amp;fm=neo%2Fmerchandising&amp;iid=M_06f04bde-bd7f-40c5-89b3-840027f0caee_4.VHWI8E4SHAYI&amp;ssid=sz94dwt1f40000001612954832840&amp;otracker=hp_omu_Deals%2Bof%2Bthe%2BDay_4_4.dealCard.OMU_VHWI8E4SHAYI_3&amp;otracker1=hp_omu_SECTIONED_neo%2Fmerchandising_Deals%2Bof%2Bthe%2BDay_NA_dealCard_cc_4_NA_view-all_3&amp;cid=VHWI8E4SHAYI\" title=\"From ₹99+5% Extra Off\"><div class=\"_10pg75\" style=\"height:150px\"><div class=\"CXW8mj\" style=\"height:150px;width:150px\"><img alt=\"Lakme Eyeconic Kajal Twin Pack\" class=\"_396cs4\" src=\"//img1a.flixcart.com/www/linchpin/fk-cp-zion/img/placeholder_fcebae.svg\"/></div></div><div class=\"_3LU4EM\">Makeup Bestsellers</div><div class=\"_2tDhp2\">From ₹99+5% Extra Off</div><div class=\"_3khuHA\">Lakme, Maybelline, Sugar..</div><div class=\"_2LaGin\"></div></a></div></div><div class=\"_3YgSsQ\" style=\"width:195px\"><div class=\"\"><a class=\"_6WQwDJ\" data-tracking-id=\"4\" data-widget-type=\"omu\" href=\"/offers-list/content?screen=dynamic&amp;pk=themeViews%3DVD-DOTD%3ADealcard%2CVD-DOTD%3ADesk~widgetType%3DdealCard~contentType%3Dneo&amp;wid=2.dealCard.OMU&amp;offer=nb:mp:019c0bb006&amp;fm=neo%2Fmerchandising&amp;iid=M_06f04bde-bd7f-40c5-89b3-840027f0caee_4.K5TWTN407KZM&amp;ssid=sz94dwt1f40000001612954832840&amp;otracker=hp_omu_Deals%2Bof%2Bthe%2BDay_5_4.dealCard.OMU_K5TWTN407KZM_3&amp;otracker1=hp_omu_SECTIONED_neo%2Fmerchandising_Deals%2Bof%2Bthe%2BDay_NA_dealCard_cc_5_NA_view-all_3&amp;cid=K5TWTN407KZM\" title=\"Up to 80% Off\"><div class=\"_10pg75\" style=\"height:150px\"><div class=\"CXW8mj\" style=\"height:150px;width:150px\"><img alt=\"Benny n Bunny ILU Cream Teddy with Red Pink Heart  - 33 cm\" class=\"_396cs4\" src=\"//img1a.flixcart.com/www/linchpin/fk-cp-zion/img/placeholder_fcebae.svg\"/></div></div><div class=\"_3LU4EM\">Valentine Special Offers</div><div class=\"_2tDhp2\">Up to 80% Off</div><div class=\"_3khuHA\">Teddy Bears, Cards &amp; more</div><div class=\"_2LaGin\"></div></a></div></div><div class=\"_3YgSsQ\" style=\"width:195px\"><div class=\"\"><a class=\"_6WQwDJ\" data-tracking-id=\"5\" data-widget-type=\"omu\" href=\"/bags-wallets-belts/~cs-yqpnjob9z8/pr?sid=reh&amp;collection-tab-name=Backpacks%2C%20Handbags%20and%20more&amp;offer=nb:mp:0140c50009,nb:mp:01a98aa209,nb:mp:01bb2e4f09,nb:mp:01c75a0809&amp;fm=neo%2Fmerchandising&amp;iid=M_06f04bde-bd7f-40c5-89b3-840027f0caee_4.A4SYY448NJ2K&amp;ssid=sz94dwt1f40000001612954832840&amp;otracker=hp_omu_Deals%2Bof%2Bthe%2BDay_6_4.dealCard.OMU_A4SYY448NJ2K_3&amp;otracker1=hp_omu_SECTIONED_neo%2Fmerchandising_Deals%2Bof%2Bthe%2BDay_NA_dealCard_cc_6_NA_view-all_3&amp;cid=A4SYY448NJ2K\" title=\"Upto 70%+Extra5%Off\"><div class=\"_10pg75\" style=\"height:150px\"><div class=\"CXW8mj\" style=\"height:150px;width:150px\"><img alt=\"ma\" class=\"_396cs4\" src=\"//img1a.flixcart.com/www/linchpin/fk-cp-zion/img/placeholder_fcebae.svg\"/></div></div><div class=\"_3LU4EM\">Skybags, Safari, Lavie...</div><div class=\"_2tDhp2\">Upto 70%+Extra5%Off</div><div class=\"_3khuHA\">Backpacks, Suitcase, Handbags...</div><div class=\"_2LaGin\"></div></a></div></div><div class=\"_3YgSsQ\" style=\"width:195px\"><div class=\"\"><a class=\"_6WQwDJ\" data-tracking-id=\"6\" data-widget-type=\"omu\" href=\"/offers-list/content?screen=dynamic&amp;pk=themeViews%3DFBF-Decor%3AMapp~widgetType%3DdealCard~contentType%3Dneo&amp;wid=2.dealCard.OMU&amp;offer=nb:mp:0135051408&amp;fm=neo%2Fmerchandising&amp;iid=M_06f04bde-bd7f-40c5-89b3-840027f0caee_4.GNFNI95OVB9P&amp;ssid=sz94dwt1f40000001612954832840&amp;otracker=hp_omu_Deals%2Bof%2Bthe%2BDay_7_4.dealCard.OMU_GNFNI95OVB9P_3&amp;otracker1=hp_omu_SECTIONED_neo%2Fmerchandising_Deals%2Bof%2Bthe%2BDay_NA_dealCard_cc_7_NA_view-all_3&amp;cid=GNFNI95OVB9P\" title=\"From ₹89\"><div class=\"_10pg75\" style=\"height:150px\"><div class=\"CXW8mj\" style=\"height:150px;width:150px\"><img alt=\"Flipkart SmartBuy Analog 28 cm X 28 cm Wall Clock\" class=\"_396cs4\" src=\"//img1a.flixcart.com/www/linchpin/fk-cp-zion/img/placeholder_fcebae.svg\"/></div></div><div class=\"_3LU4EM\">Home Decor Range</div><div class=\"_2tDhp2\">From ₹89</div><div class=\"_3khuHA\">Stickers,Clocks &amp; more</div><div class=\"_2LaGin\"></div></a></div></div><div class=\"_3YgSsQ\" style=\"width:195px\"><div class=\"\"><a class=\"_6WQwDJ\" data-tracking-id=\"7\" data-widget-type=\"omu\" href=\"/womens-footwear/pr?sid=osp%2Ciko&amp;sort=popularity&amp;p%5B%5D=facets.discount_range_v1%255B%255D%3D30%2525%2Bor%2Bmore&amp;offer=nb:mp:015bd1c309,nb:mp:0173cac809&amp;fm=neo%2Fmerchandising&amp;iid=M_06f04bde-bd7f-40c5-89b3-840027f0caee_4.4WIDIFWW5KZ6&amp;ssid=sz94dwt1f40000001612954832840&amp;otracker=hp_omu_Deals%2Bof%2Bthe%2BDay_8_4.dealCard.OMU_4WIDIFWW5KZ6_3&amp;otracker1=hp_omu_SECTIONED_neo%2Fmerchandising_Deals%2Bof%2Bthe%2BDay_NA_dealCard_cc_8_NA_view-all_3&amp;cid=4WIDIFWW5KZ6\" title=\"30-60%+Extra 5% Off\"><div class=\"_10pg75\" style=\"height:150px\"><div class=\"CXW8mj\" style=\"height:150px;width:150px\"><img alt=\"WF\" class=\"_396cs4\" src=\"//img1a.flixcart.com/www/linchpin/fk-cp-zion/img/placeholder_fcebae.svg\"/></div></div><div class=\"_3LU4EM\">Puma, Mochi &amp; more</div><div class=\"_2tDhp2\">30-60%+Extra 5% Off</div><div class=\"_3khuHA\">Flats, Shoes &amp; more</div><div class=\"_2LaGin\"></div></a></div></div></div>>\n"
     ]
    }
   ],
   "source": [
    "class1 = soup.find(class_ = \"_37K3-p\")\n",
    "print(class1.prettify)"
   ]
  },
  {
   "cell_type": "code",
   "execution_count": 43,
   "metadata": {},
   "outputs": [
    {
     "name": "stdout",
     "output_type": "stream",
     "text": [
      "[<div class=\"_3YgSsQ\" style=\"width:195px\"><div class=\"\"><a class=\"_6WQwDJ\" data-tracking-id=\"\" data-widget-type=\"omu\" href=\"/audio-video/headphones/pr?sid=0pm,fcn&amp;offer=nb:mp:0158e7e209,nb:mp:015c6f6109,nb:mp:01fef7ec09&amp;hpid=P1frpC3J6T5S7QjeTFwnsqp7_Hsxr70nj65vMAAFKlc=&amp;fm=neo%2Fmerchandising&amp;iid=M_06f04bde-bd7f-40c5-89b3-840027f0caee_4.LWI5BGOS9CP6&amp;ssid=sz94dwt1f40000001612954832840&amp;otracker=hp_omu_Deals%2Bof%2Bthe%2BDay_1_4.dealCard.OMU_LWI5BGOS9CP6_3&amp;otracker1=hp_omu_SECTIONED_neo%2Fmerchandising_Deals%2Bof%2Bthe%2BDay_NA_dealCard_cc_1_NA_view-all_3&amp;cid=LWI5BGOS9CP6\" title=\"Upto 50% off\"><div class=\"_10pg75\" style=\"height:150px\"><div class=\"CXW8mj\" style=\"height:150px;width:150px\"><img alt=\"Wings Glide Neckband with Siri and Google Assistant Bluetooth Headset\" class=\"_396cs4\" src=\"//img1a.flixcart.com/www/linchpin/fk-cp-zion/img/placeholder_fcebae.svg\"/></div></div><div class=\"_3LU4EM\">Headphones</div><div class=\"_2tDhp2\">Upto 50% off</div><div class=\"_3khuHA\">JBL,Sony &amp; more</div><div class=\"_2LaGin\"></div></a></div></div>, <div class=\"_3YgSsQ\" style=\"width:195px\"><div class=\"\"><a class=\"_6WQwDJ\" data-tracking-id=\"1\" data-widget-type=\"omu\" href=\"/audio-video/speakers/pr?sid=0pm,0o7&amp;offer=nb:mp:015c6f6109,nb:mp:01fef7ec09&amp;hpid=VSLLAEyWmV_lKuKCKv8svap7_Hsxr70nj65vMAAFKlc=&amp;fm=neo%2Fmerchandising&amp;iid=M_06f04bde-bd7f-40c5-89b3-840027f0caee_4.8XN16G0993ML&amp;ssid=sz94dwt1f40000001612954832840&amp;otracker=hp_omu_Deals%2Bof%2Bthe%2BDay_2_4.dealCard.OMU_8XN16G0993ML_3&amp;otracker1=hp_omu_SECTIONED_neo%2Fmerchandising_Deals%2Bof%2Bthe%2BDay_NA_dealCard_cc_2_NA_view-all_3&amp;cid=8XN16G0993ML\" title=\"Upto 50% off\"><div class=\"_10pg75\" style=\"height:150px\"><div class=\"CXW8mj\" style=\"height:150px;width:150px\"><img alt=\"Mivi Zero Portable Bluetooth  Speaker\" class=\"_396cs4\" src=\"//img1a.flixcart.com/www/linchpin/fk-cp-zion/img/placeholder_fcebae.svg\"/></div></div><div class=\"_3LU4EM\">Speakers</div><div class=\"_2tDhp2\">Upto 50% off</div><div class=\"_3khuHA\">BoAt, Infinity &amp; more</div><div class=\"_2LaGin\"></div></a></div></div>, <div class=\"_3YgSsQ\" style=\"width:195px\"><div class=\"\"><a class=\"_6WQwDJ\" data-tracking-id=\"2\" data-widget-type=\"omu\" href=\"/kitchen-cookware-serveware/pr?sid=upp&amp;p%5B%5D=facets.brand%255B%255D%3DTuelip&amp;p%5B%5D=facets.brand%255B%255D%3DME%2526YOU&amp;p%5B%5D=facets.brand%255B%255D%3DSKY%2BTRENDS&amp;p%5B%5D=facets.brand%255B%255D%3DFlipkart%2BSmartBuy&amp;p%5B%5D=facets.brand%255B%255D%3DPLAKASHA%2BCREATIONS&amp;p%5B%5D=facets.brand%255B%255D%3DPlakasha%2BCreations&amp;p%5B%5D=facets.brand%255B%255D%3DGiftOwl&amp;p%5B%5D=facets.brand%255B%255D%3DJHINGALALA&amp;p%5B%5D=facets.brand%255B%255D%3DJhingalala&amp;p%5B%5D=facets.brand%255B%255D%3DStylotrendz&amp;p%5B%5D=facets.brand%255B%255D%3DSatyam%2BKraft&amp;p%5B%5D=facets.brand%255B%255D%3DBorosil&amp;p%5B%5D=facets.brand%255B%255D%3DTREO&amp;p%5B%5D=facets.brand%255B%255D%3DTreo&amp;p%5B%5D=facets.brand%255B%255D%3DOcean&amp;p%5B%5D=facets.brand%255B%255D%3DPasabahce&amp;p%5B%5D=facets.brand%255B%255D%3DNOGAIYA&amp;p%5B%5D=facets.brand%255B%255D%3DNogaiya&amp;p%5B%5D=facets.brand%255B%255D%3DFancy%2BCraft&amp;p%5B%5D=facets.brand%255B%255D%3DNEWTOWN&amp;p%5B%5D=facets.brand%255B%255D%3DXEMIT&amp;p%5B%5D=facets.brand%255B%255D%3DAfast&amp;p%5B%5D=facets.brand%255B%255D%3Dkorona&amp;p%5B%5D=facets.brand%255B%255D%3DBENTEX&amp;offer=nb:mp:01b24ac308,nb:mp:01d22a1808&amp;hpid=fqZa-OcHnZEjK4_wZ_URV6p7_Hsxr70nj65vMAAFKlc=&amp;fm=neo%2Fmerchandising&amp;iid=M_06f04bde-bd7f-40c5-89b3-840027f0caee_4.ATEJBV8OA2CS&amp;ssid=sz94dwt1f40000001612954832840&amp;otracker=hp_omu_Deals%2Bof%2Bthe%2BDay_3_4.dealCard.OMU_ATEJBV8OA2CS_3&amp;otracker1=hp_omu_SECTIONED_neo%2Fmerchandising_Deals%2Bof%2Bthe%2BDay_NA_dealCard_cc_3_NA_view-all_3&amp;cid=ATEJBV8OA2CS\" title=\"From ₹119\"><div class=\"_10pg75\" style=\"height:150px\"><div class=\"CXW8mj\" style=\"height:150px;width:150px\"><img alt=\"Treo (Pack of 6) CRESCENT COOL Glass Set\" class=\"_396cs4\" src=\"//img1a.flixcart.com/www/linchpin/fk-cp-zion/img/placeholder_fcebae.svg\"/></div></div><div class=\"_3LU4EM\">Mugs &amp; Glasses</div><div class=\"_2tDhp2\">From ₹119</div><div class=\"_3khuHA\">Valentine's Special</div><div class=\"_2LaGin\"></div></a></div></div>, <div class=\"_3YgSsQ\" style=\"width:195px\"><div class=\"\"><a class=\"_6WQwDJ\" data-tracking-id=\"3\" data-widget-type=\"omu\" href=\"/beauty-and-grooming/pr?sid=g9b&amp;offer=nb:mp:010e2fd709,nb:mp:01db3a8f09&amp;hpid=Ux9PbDFEna-XiBZ2ro3F4Kp7_Hsxr70nj65vMAAFKlc=&amp;fm=neo%2Fmerchandising&amp;iid=M_06f04bde-bd7f-40c5-89b3-840027f0caee_4.VHWI8E4SHAYI&amp;ssid=sz94dwt1f40000001612954832840&amp;otracker=hp_omu_Deals%2Bof%2Bthe%2BDay_4_4.dealCard.OMU_VHWI8E4SHAYI_3&amp;otracker1=hp_omu_SECTIONED_neo%2Fmerchandising_Deals%2Bof%2Bthe%2BDay_NA_dealCard_cc_4_NA_view-all_3&amp;cid=VHWI8E4SHAYI\" title=\"From ₹99+5% Extra Off\"><div class=\"_10pg75\" style=\"height:150px\"><div class=\"CXW8mj\" style=\"height:150px;width:150px\"><img alt=\"Lakme Eyeconic Kajal Twin Pack\" class=\"_396cs4\" src=\"//img1a.flixcart.com/www/linchpin/fk-cp-zion/img/placeholder_fcebae.svg\"/></div></div><div class=\"_3LU4EM\">Makeup Bestsellers</div><div class=\"_2tDhp2\">From ₹99+5% Extra Off</div><div class=\"_3khuHA\">Lakme, Maybelline, Sugar..</div><div class=\"_2LaGin\"></div></a></div></div>, <div class=\"_3YgSsQ\" style=\"width:195px\"><div class=\"\"><a class=\"_6WQwDJ\" data-tracking-id=\"4\" data-widget-type=\"omu\" href=\"/offers-list/content?screen=dynamic&amp;pk=themeViews%3DVD-DOTD%3ADealcard%2CVD-DOTD%3ADesk~widgetType%3DdealCard~contentType%3Dneo&amp;wid=2.dealCard.OMU&amp;offer=nb:mp:019c0bb006&amp;fm=neo%2Fmerchandising&amp;iid=M_06f04bde-bd7f-40c5-89b3-840027f0caee_4.K5TWTN407KZM&amp;ssid=sz94dwt1f40000001612954832840&amp;otracker=hp_omu_Deals%2Bof%2Bthe%2BDay_5_4.dealCard.OMU_K5TWTN407KZM_3&amp;otracker1=hp_omu_SECTIONED_neo%2Fmerchandising_Deals%2Bof%2Bthe%2BDay_NA_dealCard_cc_5_NA_view-all_3&amp;cid=K5TWTN407KZM\" title=\"Up to 80% Off\"><div class=\"_10pg75\" style=\"height:150px\"><div class=\"CXW8mj\" style=\"height:150px;width:150px\"><img alt=\"Benny n Bunny ILU Cream Teddy with Red Pink Heart  - 33 cm\" class=\"_396cs4\" src=\"//img1a.flixcart.com/www/linchpin/fk-cp-zion/img/placeholder_fcebae.svg\"/></div></div><div class=\"_3LU4EM\">Valentine Special Offers</div><div class=\"_2tDhp2\">Up to 80% Off</div><div class=\"_3khuHA\">Teddy Bears, Cards &amp; more</div><div class=\"_2LaGin\"></div></a></div></div>, <div class=\"_3YgSsQ\" style=\"width:195px\"><div class=\"\"><a class=\"_6WQwDJ\" data-tracking-id=\"5\" data-widget-type=\"omu\" href=\"/bags-wallets-belts/~cs-yqpnjob9z8/pr?sid=reh&amp;collection-tab-name=Backpacks%2C%20Handbags%20and%20more&amp;offer=nb:mp:0140c50009,nb:mp:01a98aa209,nb:mp:01bb2e4f09,nb:mp:01c75a0809&amp;fm=neo%2Fmerchandising&amp;iid=M_06f04bde-bd7f-40c5-89b3-840027f0caee_4.A4SYY448NJ2K&amp;ssid=sz94dwt1f40000001612954832840&amp;otracker=hp_omu_Deals%2Bof%2Bthe%2BDay_6_4.dealCard.OMU_A4SYY448NJ2K_3&amp;otracker1=hp_omu_SECTIONED_neo%2Fmerchandising_Deals%2Bof%2Bthe%2BDay_NA_dealCard_cc_6_NA_view-all_3&amp;cid=A4SYY448NJ2K\" title=\"Upto 70%+Extra5%Off\"><div class=\"_10pg75\" style=\"height:150px\"><div class=\"CXW8mj\" style=\"height:150px;width:150px\"><img alt=\"ma\" class=\"_396cs4\" src=\"//img1a.flixcart.com/www/linchpin/fk-cp-zion/img/placeholder_fcebae.svg\"/></div></div><div class=\"_3LU4EM\">Skybags, Safari, Lavie...</div><div class=\"_2tDhp2\">Upto 70%+Extra5%Off</div><div class=\"_3khuHA\">Backpacks, Suitcase, Handbags...</div><div class=\"_2LaGin\"></div></a></div></div>, <div class=\"_3YgSsQ\" style=\"width:195px\"><div class=\"\"><a class=\"_6WQwDJ\" data-tracking-id=\"6\" data-widget-type=\"omu\" href=\"/offers-list/content?screen=dynamic&amp;pk=themeViews%3DFBF-Decor%3AMapp~widgetType%3DdealCard~contentType%3Dneo&amp;wid=2.dealCard.OMU&amp;offer=nb:mp:0135051408&amp;fm=neo%2Fmerchandising&amp;iid=M_06f04bde-bd7f-40c5-89b3-840027f0caee_4.GNFNI95OVB9P&amp;ssid=sz94dwt1f40000001612954832840&amp;otracker=hp_omu_Deals%2Bof%2Bthe%2BDay_7_4.dealCard.OMU_GNFNI95OVB9P_3&amp;otracker1=hp_omu_SECTIONED_neo%2Fmerchandising_Deals%2Bof%2Bthe%2BDay_NA_dealCard_cc_7_NA_view-all_3&amp;cid=GNFNI95OVB9P\" title=\"From ₹89\"><div class=\"_10pg75\" style=\"height:150px\"><div class=\"CXW8mj\" style=\"height:150px;width:150px\"><img alt=\"Flipkart SmartBuy Analog 28 cm X 28 cm Wall Clock\" class=\"_396cs4\" src=\"//img1a.flixcart.com/www/linchpin/fk-cp-zion/img/placeholder_fcebae.svg\"/></div></div><div class=\"_3LU4EM\">Home Decor Range</div><div class=\"_2tDhp2\">From ₹89</div><div class=\"_3khuHA\">Stickers,Clocks &amp; more</div><div class=\"_2LaGin\"></div></a></div></div>, <div class=\"_3YgSsQ\" style=\"width:195px\"><div class=\"\"><a class=\"_6WQwDJ\" data-tracking-id=\"7\" data-widget-type=\"omu\" href=\"/womens-footwear/pr?sid=osp%2Ciko&amp;sort=popularity&amp;p%5B%5D=facets.discount_range_v1%255B%255D%3D30%2525%2Bor%2Bmore&amp;offer=nb:mp:015bd1c309,nb:mp:0173cac809&amp;fm=neo%2Fmerchandising&amp;iid=M_06f04bde-bd7f-40c5-89b3-840027f0caee_4.4WIDIFWW5KZ6&amp;ssid=sz94dwt1f40000001612954832840&amp;otracker=hp_omu_Deals%2Bof%2Bthe%2BDay_8_4.dealCard.OMU_4WIDIFWW5KZ6_3&amp;otracker1=hp_omu_SECTIONED_neo%2Fmerchandising_Deals%2Bof%2Bthe%2BDay_NA_dealCard_cc_8_NA_view-all_3&amp;cid=4WIDIFWW5KZ6\" title=\"30-60%+Extra 5% Off\"><div class=\"_10pg75\" style=\"height:150px\"><div class=\"CXW8mj\" style=\"height:150px;width:150px\"><img alt=\"WF\" class=\"_396cs4\" src=\"//img1a.flixcart.com/www/linchpin/fk-cp-zion/img/placeholder_fcebae.svg\"/></div></div><div class=\"_3LU4EM\">Puma, Mochi &amp; more</div><div class=\"_2tDhp2\">30-60%+Extra 5% Off</div><div class=\"_3khuHA\">Flats, Shoes &amp; more</div><div class=\"_2LaGin\"></div></a></div></div>]\n"
     ]
    }
   ],
   "source": [
    "All_Product_Name = class1.find_all(class_ = \"_3YgSsQ\")\n",
    "print(All_Product_Name)"
   ]
  },
  {
   "cell_type": "code",
   "execution_count": 44,
   "metadata": {},
   "outputs": [
    {
     "name": "stdout",
     "output_type": "stream",
     "text": [
      "['Headphones', 'Speakers', 'Mugs & Glasses', 'Makeup Bestsellers', 'Valentine Special Offers', 'Skybags, Safari, Lavie...', 'Home Decor Range', 'Puma, Mochi & more']\n"
     ]
    }
   ],
   "source": [
    "Product_Name = [Name.find(class_=\"_3LU4EM\").get_text() for Name in All_Product_Name ]\n",
    "print(Product_Name)"
   ]
  },
  {
   "cell_type": "code",
   "execution_count": 46,
   "metadata": {},
   "outputs": [
    {
     "name": "stdout",
     "output_type": "stream",
     "text": [
      "['Upto 50% off', 'Upto 50% off', 'From ₹119', 'From ₹99+5% Extra Off', 'Up to 80% Off', 'Upto 70%+Extra5%Off', 'From ₹89', '30-60%+Extra 5% Off']\n"
     ]
    }
   ],
   "source": [
    "Product_Price_description = [Name.find(class_=\"_2tDhp2\").get_text() for Name in All_Product_Name ]\n",
    "print(Product_Price_description)"
   ]
  },
  {
   "cell_type": "code",
   "execution_count": 47,
   "metadata": {},
   "outputs": [
    {
     "name": "stdout",
     "output_type": "stream",
     "text": [
      "['JBL,Sony & more', 'BoAt, Infinity & more', \"Valentine's Special\", 'Lakme, Maybelline, Sugar..', 'Teddy Bears, Cards & more', 'Backpacks, Suitcase, Handbags...', 'Stickers,Clocks & more', 'Flats, Shoes & more']\n"
     ]
    }
   ],
   "source": [
    "Product_Brand = [Name.find(class_=\"_3khuHA\").get_text() for Name in All_Product_Name ]\n",
    "print(Product_Brand)"
   ]
  },
  {
   "cell_type": "code",
   "execution_count": 57,
   "metadata": {},
   "outputs": [
    {
     "name": "stdout",
     "output_type": "stream",
     "text": [
      "                Product Name      Price Description  \\\n",
      "0                 Headphones           Upto 50% off   \n",
      "1                   Speakers           Upto 50% off   \n",
      "2             Mugs & Glasses              From ₹119   \n",
      "3         Makeup Bestsellers  From ₹99+5% Extra Off   \n",
      "4   Valentine Special Offers          Up to 80% Off   \n",
      "5  Skybags, Safari, Lavie...    Upto 70%+Extra5%Off   \n",
      "6           Home Decor Range               From ₹89   \n",
      "7         Puma, Mochi & more    30-60%+Extra 5% Off   \n",
      "\n",
      "                  Brand Description  \n",
      "0                   JBL,Sony & more  \n",
      "1             BoAt, Infinity & more  \n",
      "2               Valentine's Special  \n",
      "3        Lakme, Maybelline, Sugar..  \n",
      "4         Teddy Bears, Cards & more  \n",
      "5  Backpacks, Suitcase, Handbags...  \n",
      "6            Stickers,Clocks & more  \n",
      "7               Flats, Shoes & more  \n"
     ]
    }
   ],
   "source": [
    "Deals_of_the_day = pd.DataFrame({\"Product Name\": Product_Name, \"Price Description\": Product_Price_description, \"Brand Description\": Product_Brand})\n",
    "print(Deals_of_the_day)"
   ]
  },
  {
   "cell_type": "code",
   "execution_count": 59,
   "metadata": {},
   "outputs": [],
   "source": [
    "Deals_of_the_day.to_csv(\"Deals_of_the_day.csv\")"
   ]
  },
  {
   "cell_type": "code",
   "execution_count": 61,
   "metadata": {},
   "outputs": [
    {
     "name": "stdout",
     "output_type": "stream",
     "text": [
      "                  Product Name      Price Description  \\\n",
      "0                   Headphones           Upto 50% off   \n",
      "1           Valentine Specials               From ₹69   \n",
      "2         Cookware Sets & more              From ₹209   \n",
      "3             Home Decor Range               From ₹89   \n",
      "4           Makeup Bestsellers  From ₹99+5% Extra Off   \n",
      "5         Sparx, Campus & more   From ₹199+Extra5%Off   \n",
      "6  Kechaoda, Ikall & Blackzone       Extra Rs 100 off   \n",
      "7    Dresses, Bra, Nighties...  Min 50%+Extra 10% Off   \n",
      "\n",
      "               Brand Description  \n",
      "0                JBL,Sony & more  \n",
      "1              Gold Roses & more  \n",
      "2        Pigeon, Prestige & more  \n",
      "3         Stickers,Clocks & more  \n",
      "4     Lakme, Maybelline, Sugar..  \n",
      "5          Shoes, Sandals & more  \n",
      "6   Great Deal on feature phones  \n",
      "7  Vero Moda, Amante, Dreambe...  \n"
     ]
    }
   ],
   "source": [
    "# Collection all lines of the code.\n",
    "import pandas as pd\n",
    "import requests\n",
    "from bs4 import BeautifulSoup\n",
    "\n",
    "url = \"https://www.flipkart.com\"\n",
    "r = requests.get(url)\n",
    "soup = BeautifulSoup(r.content, \"html.parser\")\n",
    "\n",
    "class1 = soup.find(class_ = \"_37K3-p\")\n",
    "\n",
    "All_Product_Name = class1.find_all(class_ = \"_3YgSsQ\")\n",
    "\n",
    "Product_Name = [Name.find(class_=\"_3LU4EM\").get_text() for Name in All_Product_Name ]\n",
    "Product_Price_description = [Name.find(class_=\"_2tDhp2\").get_text() for Name in All_Product_Name ]\n",
    "Product_Brand = [Name.find(class_=\"_3khuHA\").get_text() for Name in All_Product_Name ]\n",
    "\n",
    "Deals_of_the_day = pd.DataFrame({\"Product Name\": Product_Name, \"Price Description\": Product_Price_description, \"Brand Description\": Product_Brand})\n",
    "print(Deals_of_the_day)\n",
    "\n",
    "Deals_of_the_day.to_csv(\"Deals_of_the_day.csv\")"
   ]
  },
  {
   "cell_type": "code",
   "execution_count": null,
   "metadata": {},
   "outputs": [],
   "source": []
  }
 ],
 "metadata": {
  "kernelspec": {
   "display_name": "Python 3",
   "language": "python",
   "name": "python3"
  },
  "language_info": {
   "codemirror_mode": {
    "name": "ipython",
    "version": 3
   },
   "file_extension": ".py",
   "mimetype": "text/x-python",
   "name": "python",
   "nbconvert_exporter": "python",
   "pygments_lexer": "ipython3",
   "version": "3.8.5"
  }
 },
 "nbformat": 4,
 "nbformat_minor": 4
}
