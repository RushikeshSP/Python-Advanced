{
 "cells": [
  {
   "cell_type": "markdown",
   "metadata": {},
   "source": [
    "# Numpy"
   ]
  },
  {
   "cell_type": "code",
   "execution_count": 1,
   "metadata": {},
   "outputs": [
    {
     "name": "stdout",
     "output_type": "stream",
     "text": [
      "[[[1. 2. 3.]\n",
      "  [4. 5. 6.]]\n",
      "\n",
      " [[2. 6. 4.]\n",
      "  [7. 8. 9.]]\n",
      "\n",
      " [[8. 2. 5.]\n",
      "  [1. 8. 6.]]\n",
      "\n",
      " [[1. 1. 4.]\n",
      "  [9. 0. 3.]]]\n"
     ]
    }
   ],
   "source": [
    "import numpy as np\n",
    "\n",
    "a = ([[[1,2,3],[4,5,6]],[[2,6,4],[7,8,9]],[[8,2,5],[1,8,6]],[[1,1,4],[9,0,3]]])\n",
    "arr = np.array(a, dtype = float)\n",
    "print(arr)"
   ]
  },
  {
   "cell_type": "code",
   "execution_count": 2,
   "metadata": {},
   "outputs": [
    {
     "name": "stdout",
     "output_type": "stream",
     "text": [
      "[[[1 2 3]\n",
      "  [4 5 6]]\n",
      "\n",
      " [[2 6 4]\n",
      "  [7 8 9]]\n",
      "\n",
      " [[8 2 5]\n",
      "  [1 8 6]]\n",
      "\n",
      " [[1 1 4]\n",
      "  [9 0 3]]]\n"
     ]
    }
   ],
   "source": [
    "import numpy as np\n",
    "\n",
    "a = ([[[1,2,3],[4,5,6]],[[2,6,4],[7,8,9]],[[8,2,5],[1,8,6]],[[1,1,4],[9,0,3]]])\n",
    "arr = np.array(a, dtype = int)\n",
    "print(arr)"
   ]
  },
  {
   "cell_type": "markdown",
   "metadata": {},
   "source": [
    "# Zeros"
   ]
  },
  {
   "cell_type": "code",
   "execution_count": 3,
   "metadata": {},
   "outputs": [
    {
     "name": "stdout",
     "output_type": "stream",
     "text": [
      "Matrix a:  [0 0]\n",
      "Matrix b: \n",
      " [[0 0]\n",
      " [0 0]]\n",
      "Matrix c: \n",
      " [[0. 0. 0.]\n",
      " [0. 0. 0.]\n",
      " [0. 0. 0.]]\n"
     ]
    }
   ],
   "source": [
    "a = np.zeros(2, dtype = int)\n",
    "print(\"Matrix a: \", a)\n",
    "\n",
    "b = np.zeros([2,2], dtype = int)\n",
    "print(\"Matrix b: \\n\", b)\n",
    "\n",
    "c = np.zeros([3,3])\n",
    "print(\"Matrix c: \\n\", c)\n"
   ]
  },
  {
   "cell_type": "markdown",
   "metadata": {},
   "source": [
    "# Arange and Reshape"
   ]
  },
  {
   "cell_type": "code",
   "execution_count": 4,
   "metadata": {},
   "outputs": [
    {
     "name": "stdout",
     "output_type": "stream",
     "text": [
      "Original array: \n",
      " [0 1 2 3 4 5 6 7]\n",
      "Reshaped array with 2 by 4: \n",
      " [[0 1 2 3]\n",
      " [4 5 6 7]]\n",
      "Reshaped array with 4 by 2: \n",
      " [[0 1]\n",
      " [2 3]\n",
      " [4 5]\n",
      " [6 7]]\n",
      "Reshaped array in 3D: \n",
      " [[[0 1]\n",
      "  [2 3]]\n",
      "\n",
      " [[4 5]\n",
      "  [6 7]]]\n"
     ]
    }
   ],
   "source": [
    "array = np.arange(8)\n",
    "print(\"Original array: \\n\", array)\n",
    "\n",
    "array = np.arange(8).reshape(2,4)\n",
    "print(\"Reshaped array with 2 by 4: \\n\", array)\n",
    "\n",
    "array = np.arange(8).reshape(4,2)\n",
    "print(\"Reshaped array with 4 by 2: \\n\", array)\n",
    "\n",
    "array = np.arange(8).reshape(2,2,2)\n",
    "print(\"Reshaped array in 3D: \\n\", array)"
   ]
  },
  {
   "cell_type": "code",
   "execution_count": 5,
   "metadata": {},
   "outputs": [
    {
     "name": "stdout",
     "output_type": "stream",
     "text": [
      "A\n",
      " [[0 1]\n",
      " [2 3]] \n",
      "\n",
      "A\n",
      " [[4 5 6]\n",
      " [7 8 9]] \n",
      "\n",
      "A\n",
      " [[ 4  7]\n",
      " [10 13]\n",
      " [16 19]] \n",
      "\n"
     ]
    }
   ],
   "source": [
    "print(\"A\\n\", np.arange(4).reshape(2,2), \"\\n\")\n",
    "\n",
    "print(\"A\\n\", np.arange(4,10).reshape(2,3), \"\\n\")\n",
    "\n",
    "print(\"A\\n\", np.arange(4,20,3).reshape(3,2), \"\\n\")"
   ]
  },
  {
   "cell_type": "markdown",
   "metadata": {},
   "source": [
    "# linspace"
   ]
  },
  {
   "cell_type": "code",
   "execution_count": 6,
   "metadata": {},
   "outputs": [
    {
     "name": "stdout",
     "output_type": "stream",
     "text": [
      "B\n",
      " (array([2.  , 2.25, 2.5 , 2.75, 3.  ]), 0.25) \n",
      "\n",
      "Value of x\n",
      " [0.         0.22222222 0.44444444 0.66666667 0.88888889 1.11111111\n",
      " 1.33333333 1.55555556 1.77777778 2.        ]\n",
      "C\n",
      " [0.         0.22039774 0.42995636 0.6183698  0.77637192 0.8961922\n",
      " 0.9719379  0.99988386 0.9786557  0.90929743]\n"
     ]
    }
   ],
   "source": [
    "print(\"B\\n\", np.linspace(2.0, 3.0, num=5, retstep=True), \"\\n\")\n",
    "\n",
    "x = np.linspace(0, 2, 10)\n",
    "print(\"Value of x\\n\", x)\n",
    "print(\"C\\n\", np.sin(x))"
   ]
  },
  {
   "cell_type": "markdown",
   "metadata": {},
   "source": [
    "# flatten"
   ]
  },
  {
   "cell_type": "code",
   "execution_count": 3,
   "metadata": {
    "scrolled": false
   },
   "outputs": [
    {
     "name": "stdout",
     "output_type": "stream",
     "text": [
      "[[1 2]\n",
      " [3 4]]\n",
      "[[1 2]\n",
      " [3 4]]\n",
      "2\n"
     ]
    }
   ],
   "source": [
    "import numpy as np\n",
    "array = np.array([[1,2],[3,4]])\n",
    "\n",
    "array.flatten()\n",
    "print(array)\n",
    "\n",
    "array.flatten('F')\n",
    "print(array)\n",
    "print(array.ndim)"
   ]
  },
  {
   "cell_type": "markdown",
   "metadata": {},
   "source": [
    "# Print Largest Element"
   ]
  },
  {
   "cell_type": "code",
   "execution_count": 8,
   "metadata": {},
   "outputs": [
    {
     "name": "stdout",
     "output_type": "stream",
     "text": [
      "Largest element is:  9\n",
      "Row-wise maximum element:  [6 7 9]\n",
      "Colume-wise maximum element:  [4 7 9]\n",
      "Sum of all array element:  38\n",
      "Cumulative sum along each row:\n",
      " [[ 1  6 12]\n",
      " [ 4 11 13]\n",
      " [ 3  4 13]]\n",
      "Cumulative sum along each colume:\n",
      " [[ 1  5  6]\n",
      " [ 5 12  8]\n",
      " [ 8 13 17]]\n"
     ]
    }
   ],
   "source": [
    "arr = np.array([[1,5,6],[4,7,2],[3,1,9]])\n",
    "\n",
    "print(\"Largest element is: \", arr.max())\n",
    "\n",
    "print(\"Row-wise maximum element: \", arr.max(axis=1))\n",
    "\n",
    "print(\"Colume-wise maximum element: \", arr.max(axis=0))\n",
    "\n",
    "print(\"Sum of all array element: \", arr.sum())\n",
    "\n",
    "print(\"Cumulative sum along each row:\\n\", arr.cumsum(axis=1))\n",
    "\n",
    "print(\"Cumulative sum along each colume:\\n\", arr.cumsum(axis=0))\n",
    "\n"
   ]
  },
  {
   "cell_type": "markdown",
   "metadata": {},
   "source": [
    "# Multiplying two lists"
   ]
  },
  {
   "cell_type": "code",
   "execution_count": 9,
   "metadata": {},
   "outputs": [
    {
     "name": "stdout",
     "output_type": "stream",
     "text": [
      "[10 18 24 28 30 30]\n"
     ]
    }
   ],
   "source": [
    "lis1 = [1,2,3,4,5,6]\n",
    "lis2 = [10,9,8,7,6,5]\n",
    "\n",
    "a = np.array(lis1)\n",
    "b = np.array(lis2)\n",
    "\n",
    "print(a*b)"
   ]
  },
  {
   "cell_type": "markdown",
   "metadata": {},
   "source": [
    "# Indexing"
   ]
  },
  {
   "cell_type": "code",
   "execution_count": 10,
   "metadata": {},
   "outputs": [
    {
     "name": "stdout",
     "output_type": "stream",
     "text": [
      "A sequential array with negative steps: \n",
      " [10  8  6  4  2]\n",
      "\n",
      " Elements at these indices are: \n",
      " [4 8 6]\n"
     ]
    }
   ],
   "source": [
    "a = np.arange(10,1,-2)\n",
    "print(\"A sequential array with negative steps: \\n\", a)\n",
    "\n",
    "# newarr = a[([3, 1, 2])]\n",
    "newarr = a[np.array([3, 1, 2])]\n",
    "print(\"\\n Elements at these indices are: \\n\", newarr)\n"
   ]
  },
  {
   "cell_type": "code",
   "execution_count": 11,
   "metadata": {},
   "outputs": [
    {
     "name": "stdout",
     "output_type": "stream",
     "text": [
      "Array with first 2 rows and alternate columns(0 and 2):  [[-1.  0.]\n",
      " [ 4.  6.]]\n",
      "\n",
      "Elements at indices (0,3),(1,2),(2,1),(3, 0):\n",
      " [4. 6. 0. 3.]\n",
      "\n",
      "Elements greater than 0:\n",
      " [2.  4.  4.  6.  2.6 7.  8.  3.  4.  2. ]\n"
     ]
    }
   ],
   "source": [
    "arr = np.array([[-1,2,0,4],[4,-0.5,6,0],[2.6,0,7,8],[3,-7,4,2.0]])\n",
    "\n",
    "temp = arr[:2, ::2]\n",
    "print(\"Array with first 2 rows and alternate columns(0 and 2): \", temp)\n",
    "\n",
    "temp = arr[[0,1,2,3],[3,2,1,0]]\n",
    "print(\"\\nElements at indices (0,3),(1,2),(2,1),(3, 0):\\n\", temp)\n",
    "\n",
    "cond = arr>0\n",
    "temp = arr[cond]\n",
    "print(\"\\nElements greater than 0:\\n\", temp)"
   ]
  },
  {
   "cell_type": "markdown",
   "metadata": {},
   "source": [
    "# Negative Indexing"
   ]
  },
  {
   "cell_type": "code",
   "execution_count": 12,
   "metadata": {},
   "outputs": [
    {
     "name": "stdout",
     "output_type": "stream",
     "text": [
      "\n",
      "Element is: \n",
      " 8\n",
      "\n",
      "Element is: \n",
      " [8]\n",
      "\n",
      "Elements are: \n",
      " [2 4 7]\n"
     ]
    }
   ],
   "source": [
    "x = np.array([1,2,3,4,5,6,7,8,9])\n",
    "arr = x[7]\n",
    "print(\"\\nElement is: \\n\", arr)\n",
    "arr = x[np.array([7])]\n",
    "print(\"\\nElement is: \\n\", arr)\n",
    "arr = x[np.array([1,3,-3])]\n",
    "print(\"\\nElements are: \\n\", arr)"
   ]
  },
  {
   "cell_type": "markdown",
   "metadata": {},
   "source": [
    "# Iterating over an array"
   ]
  },
  {
   "cell_type": "code",
   "execution_count": 13,
   "metadata": {},
   "outputs": [
    {
     "name": "stdout",
     "output_type": "stream",
     "text": [
      "Original array is: \n",
      " [[ 0  1  2  3]\n",
      " [ 4  5  6  7]\n",
      " [ 8  9 10 11]]\n",
      "Modified arrary is :\n",
      "0\n",
      "1\n",
      "2\n",
      "3\n",
      "4\n",
      "5\n",
      "6\n",
      "7\n",
      "8\n",
      "9\n",
      "10\n",
      "11\n"
     ]
    }
   ],
   "source": [
    "a = np.arange(12)\n",
    "\n",
    "a = a.reshape(3,4)\n",
    "\n",
    "print(\"Original array is: \\n\", a)\n",
    "print(\"Modified arrary is :\")\n",
    "# for s in (a):\n",
    "for s in np.nditer(a):\n",
    "    print(s)"
   ]
  },
  {
   "cell_type": "code",
   "execution_count": 14,
   "metadata": {},
   "outputs": [
    {
     "name": "stdout",
     "output_type": "stream",
     "text": [
      "Original array is:\n",
      "[[ 0  5 10 15]\n",
      " [20 25 30 35]\n",
      " [40 45 50 55]]\n",
      "\n",
      "Modified array in F-style order:\n",
      "0\n",
      "20\n",
      "40\n",
      "5\n",
      "25\n",
      "45\n",
      "10\n",
      "30\n",
      "50\n",
      "15\n",
      "35\n",
      "55\n"
     ]
    }
   ],
   "source": [
    "a = np.arange(0,60,5) \n",
    " \n",
    "# shape array with 3 rows and \n",
    "# 4 columns \n",
    "a = a.reshape(3,4) \n",
    " \n",
    "print('Original array is:') \n",
    "print(a)\n",
    "print()  \n",
    " \n",
    "print('Modified array in F-style order:')\n",
    " \n",
    "# iterating an array in a given\n",
    "# order   \n",
    "for x in np.nditer(a, order = 'F'): \n",
    "    print(x)"
   ]
  },
  {
   "cell_type": "code",
   "execution_count": 15,
   "metadata": {},
   "outputs": [
    {
     "name": "stdout",
     "output_type": "stream",
     "text": [
      "Modified array is:\n",
      "[[  0  25  50  75]\n",
      " [100 125 150 175]\n",
      " [200 225 250 275]]\n"
     ]
    }
   ],
   "source": [
    "for x in np.nditer(a, op_flags = ['readwrite']):\n",
    "    x[...] = 5*x\n",
    "print('Modified array is:')\n",
    "print(a)"
   ]
  },
  {
   "cell_type": "markdown",
   "metadata": {},
   "source": [
    "# Mathematical Function"
   ]
  },
  {
   "cell_type": "code",
   "execution_count": 16,
   "metadata": {},
   "outputs": [
    {
     "name": "stdout",
     "output_type": "stream",
     "text": [
      "Input array: \n",
      " [0, 1.5707963267948966, 1.0471975511965976, 3.141592653589793]\n",
      "\n",
      " Cosine Values:\n",
      " [ 1.000000e+00  6.123234e-17  5.000000e-01 -1.000000e+00]\n"
     ]
    }
   ],
   "source": [
    "import math\n",
    "in_array = [0, math.pi/2, np.pi/3, np.pi]\n",
    "print(\"Input array: \\n\", in_array)\n",
    "\n",
    "cos_Values = np.cos(in_array)\n",
    "print(\"\\n Cosine Values:\\n\", cos_Values)"
   ]
  },
  {
   "cell_type": "markdown",
   "metadata": {},
   "source": [
    "# String Operations"
   ]
  },
  {
   "cell_type": "code",
   "execution_count": 17,
   "metadata": {},
   "outputs": [
    {
     "name": "stdout",
     "output_type": "stream",
     "text": [
      "['rushi' 'adi']\n"
     ]
    }
   ],
   "source": [
    "print(np.char.lower([\"RUSHI\", \"ADI\"]))"
   ]
  },
  {
   "cell_type": "code",
   "execution_count": 18,
   "metadata": {},
   "outputs": [
    {
     "name": "stdout",
     "output_type": "stream",
     "text": [
      "['Rushikesh', 'sanjay', 'pokharkar']\n"
     ]
    }
   ],
   "source": [
    "print(np.char.split(\"Rushikesh sanjay pokharkar\"))"
   ]
  },
  {
   "cell_type": "code",
   "execution_count": 19,
   "metadata": {},
   "outputs": [
    {
     "name": "stdout",
     "output_type": "stream",
     "text": [
      "['R-u-s-h-i-k-e-s-h' 'P_o_k_h_a_r_k_a_r']\n"
     ]
    }
   ],
   "source": [
    "print(np.char.join([\"-\",\"_\"], [\"Rushikesh\", \"Pokharkar\"]))"
   ]
  },
  {
   "cell_type": "code",
   "execution_count": 20,
   "metadata": {},
   "outputs": [
    {
     "name": "stdout",
     "output_type": "stream",
     "text": [
      "Rank of A:  3\n",
      "\n",
      "Trace of A:  11\n",
      "\n",
      "Determinant of A:  -306.0\n",
      "\n",
      "Inverse of A:\n",
      " [[ 0.17647059 -0.00326797 -0.02287582]\n",
      " [ 0.05882353 -0.13071895  0.08496732]\n",
      " [-0.11764706  0.1503268   0.05228758]]\n",
      "\n",
      "Matrix A raised to power 3:\n",
      " [[336 162 228]\n",
      " [406 162 469]\n",
      " [698 702 905]]\n"
     ]
    }
   ],
   "source": [
    "# Liner Algebra Function: \n",
    "A = np.array([[6,1,1],\n",
    "             [4,-2,5],\n",
    "             [2,8,7]])\n",
    "print(\"Rank of A: \", np.linalg.matrix_rank(A))\n",
    "print(\"\\nTrace of A: \", np.trace(A))\n",
    "print(\"\\nDeterminant of A: \", np.linalg.det(A))\n",
    "print(\"\\nInverse of A:\\n\", np.linalg.inv(A))\n",
    "print(\"\\nMatrix A raised to power 3:\\n\",\n",
    "           np.linalg.matrix_power(A, 3))"
   ]
  },
  {
   "cell_type": "code",
   "execution_count": 21,
   "metadata": {},
   "outputs": [
    {
     "name": "stdout",
     "output_type": "stream",
     "text": [
      "Along first axis(Column): \n",
      " [[10  1]\n",
      " [12 15]]\n",
      "\n",
      "Along first axis(Row) : \n",
      " [[10 15]\n",
      " [ 1 12]]\n",
      "\n",
      "Along none axis: \n",
      " [ 1 10 12 15]\n"
     ]
    }
   ],
   "source": [
    "# Sorting \n",
    "\n",
    "a = np.array([[12, 15], \n",
    "              [10, 1]])\n",
    "arr1 = np.sort(a, axis = 0)\n",
    "print(\"Along first axis(Column): \\n\", arr1)\n",
    "\n",
    "# sort along the last axis\n",
    "a = np.array([[10, 15], \n",
    "              [12, 1]])\n",
    "arr2 = np.sort(a, axis = 1)\n",
    "print (\"\\nAlong first axis(Row) : \\n\", arr2)\n",
    "\n",
    "a = np.array([[12, 15], \n",
    "              [10, 1]])\n",
    "arr = np.sort(a, axis = None)\n",
    "print(\"\\nAlong none axis: \\n\", arr)\n"
   ]
  },
  {
   "cell_type": "code",
   "execution_count": 22,
   "metadata": {},
   "outputs": [
    {
     "name": "stdout",
     "output_type": "stream",
     "text": [
      "Original array:\n",
      " [9 3 1 7 4 3 6]\n",
      "Sorted indices of original array-> [2 1 5 4 6 3 0]\n",
      "Sorted array-> [1 3 3 4 6 7 9]\n"
     ]
    }
   ],
   "source": [
    "a = np.array([9, 3, 1, 7, 4, 3, 6])\n",
    " \n",
    "# unsorted array print\n",
    "print('Original array:\\n', a)\n",
    " \n",
    "# Sort array indices\n",
    "b = np.argsort(a)\n",
    "print('Sorted indices of original array->', b)\n",
    " \n",
    "# To get sorted array using sorted indices\n",
    "# c is temp array created of same len as of b\n",
    "c = np.zeros(len(b), dtype = int)\n",
    "for i in range(0, len(b)):\n",
    "    c[i]= a[b[i]]\n",
    "print('Sorted array->', c)"
   ]
  },
  {
   "cell_type": "markdown",
   "metadata": {},
   "source": [
    "## Searching"
   ]
  },
  {
   "cell_type": "code",
   "execution_count": 23,
   "metadata": {},
   "outputs": [
    {
     "name": "stdout",
     "output_type": "stream",
     "text": [
      "INPUT ARRAY : \n",
      " [[ 0  1  2  3]\n",
      " [ 4  5  6  7]\n",
      " [ 8  9 10 11]]\n",
      "\n",
      "Max element :  11\n",
      "('\\nIndices of Max element : ', array([2, 2, 2, 2], dtype=int64))\n",
      "('\\nIndices of Max element : ', array([3, 3, 3], dtype=int64))\n"
     ]
    }
   ],
   "source": [
    "array = np.arange(12).reshape(3, 4)\n",
    "print(\"INPUT ARRAY : \\n\", array)\n",
    " \n",
    "# No axis mentioned, so works on entire array\n",
    "print(\"\\nMax element : \", np.argmax(array))\n",
    " \n",
    "# returning Indices of the max element\n",
    "# as per the indices\n",
    "print((\"\\nIndices of Max element : \"\n",
    "      , np.argmax(array, axis=0)))\n",
    "print((\"\\nIndices of Max element : \"\n",
    "      , np.argmax(array, axis=1)))"
   ]
  },
  {
   "cell_type": "code",
   "execution_count": null,
   "metadata": {},
   "outputs": [],
   "source": []
  }
 ],
 "metadata": {
  "kernelspec": {
   "display_name": "Python 3",
   "language": "python",
   "name": "python3"
  },
  "language_info": {
   "codemirror_mode": {
    "name": "ipython",
    "version": 3
   },
   "file_extension": ".py",
   "mimetype": "text/x-python",
   "name": "python",
   "nbconvert_exporter": "python",
   "pygments_lexer": "ipython3",
   "version": "3.8.5"
  }
 },
 "nbformat": 4,
 "nbformat_minor": 4
}
