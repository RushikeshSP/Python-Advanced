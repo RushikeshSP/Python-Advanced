{
 "cells": [
  {
   "cell_type": "markdown",
   "metadata": {},
   "source": [
    "Why to use selenium? \n",
    "--> open source and web testing portable framework.\n",
    "\n",
    "\n",
    "Combination of tools and dsl:\n",
    "Selenimu is a combination of tools and dsl(domain specific language).\n",
    "Easy to understand. \n",
    "Less burdan.\n",
    "Cost reduction for business.\n",
    "\n",
    "\n",
    "Seleninm Web Driver:\n",
    "Selenium web driver is the parent of all the classes.\n",
    "Web driver is allows to perform various web operations on the web pages.\n",
    "It has methods and attributs which are used for testing.\n",
    "\n",
    "\n",
    "Components of selenium:\n",
    "1)\n",
    "2)\n",
    "3)\n",
    "4)\n",
    "\n",
    "\n",
    "Selenium grids:\n",
    "It allows ....\n",
    "\n",
    "\n",
    "\n",
    "Advantages of selenium: \n",
    "It reduces the test execution time.\n",
    "Lesser resources requred. \n",
    "Supports multiple programming languages, operation sys and brosures.\n",
    "Flexible language.\n",
    "\n",
    "\n",
    "Limitaitons of Selenium:\n",
    "Not supports desktop applications.\n",
    "It required experties\n",
    "Mentainence and scallibality.\n",
    "Open source forum softwer\n",
    "No reporting capablity.\n",
    "Images testing is not possible.\n",
    "\n",
    "\n",
    "Applications of selenium:\n",
    "1) whatsApp chat\n",
    "2) facebook loging\n",
    "3) google maps atomation\n",
    "4) Home automation\n",
    "5) all types of automations \n",
    "\n",
    "\n"
   ]
  },
  {
   "cell_type": "code",
   "execution_count": 1,
   "metadata": {},
   "outputs": [],
   "source": [
    "import selenium\n",
    "from selenium import webdriver as wb\n",
    "# from selenium.webdriver.common.by import By"
   ]
  },
  {
   "cell_type": "code",
   "execution_count": 2,
   "metadata": {},
   "outputs": [],
   "source": [
    "web = wb.Chrome(\"chromedriver.exe\")"
   ]
  },
  {
   "cell_type": "code",
   "execution_count": 5,
   "metadata": {},
   "outputs": [],
   "source": [
    "web.get(\"https://www.geeksforgeeks.org\")"
   ]
  },
  {
   "cell_type": "code",
   "execution_count": 6,
   "metadata": {},
   "outputs": [
    {
     "name": "stdout",
     "output_type": "stream",
     "text": [
      "<selenium.webdriver.remote.webelement.WebElement (session=\"9f2db9a09752fd70dfe09faeed942f28\", element=\"8009befb-8e85-4c8d-b23a-e38afc8e7c1a\")>\n"
     ]
    }
   ],
   "source": [
    "element = web.find_element_by_id(\"gsc-i-id1\")\n",
    "print(element)\n",
    "\n",
    "#send keys\n",
    "# element.send_keys(\"Arrays\")   # Command to search as Arrays in new window."
   ]
  },
  {
   "cell_type": "code",
   "execution_count": null,
   "metadata": {},
   "outputs": [],
   "source": [
    "# web.find_element_by_name(\"\")"
   ]
  },
  {
   "cell_type": "code",
   "execution_count": null,
   "metadata": {},
   "outputs": [],
   "source": [
    "# login_form = web.find_element_by_xpath(\"/html/body/form[1]\")\n",
    "# login_form = web.find_element_by_xpath(\"//form[1]\")"
   ]
  },
  {
   "cell_type": "code",
   "execution_count": null,
   "metadata": {},
   "outputs": [],
   "source": [
    "# web.find_element_by_link_text(\"Link\")\n",
    "# web.find_element_by_partial_link_text(\"Some Text of link\")"
   ]
  },
  {
   "cell_type": "code",
   "execution_count": null,
   "metadata": {},
   "outputs": [],
   "source": [
    "# login_form = web.find_element_by_tag_name(\"h1\")"
   ]
  },
  {
   "cell_type": "code",
   "execution_count": null,
   "metadata": {},
   "outputs": [],
   "source": [
    "# web.find_element_by_class_name(\"class of element\")"
   ]
  },
  {
   "cell_type": "code",
   "execution_count": null,
   "metadata": {},
   "outputs": [],
   "source": [
    "# content = web.find_element_by_css_selector(\"p.content\")"
   ]
  },
  {
   "cell_type": "code",
   "execution_count": null,
   "metadata": {},
   "outputs": [],
   "source": []
  },
  {
   "cell_type": "code",
   "execution_count": null,
   "metadata": {},
   "outputs": [],
   "source": []
  },
  {
   "cell_type": "code",
   "execution_count": null,
   "metadata": {},
   "outputs": [],
   "source": []
  },
  {
   "cell_type": "code",
   "execution_count": null,
   "metadata": {},
   "outputs": [],
   "source": [
    "# Multiple elements"
   ]
  },
  {
   "cell_type": "code",
   "execution_count": null,
   "metadata": {},
   "outputs": [],
   "source": [
    "# web.find_elements_by_name(\"\")"
   ]
  },
  {
   "cell_type": "markdown",
   "metadata": {},
   "source": [
    "click method is used to click on an elemnet or current position \n"
   ]
  },
  {
   "cell_type": "code",
   "execution_count": null,
   "metadata": {},
   "outputs": [],
   "source": []
  }
 ],
 "metadata": {
  "kernelspec": {
   "display_name": "Python 3",
   "language": "python",
   "name": "python3"
  },
  "language_info": {
   "codemirror_mode": {
    "name": "ipython",
    "version": 3
   },
   "file_extension": ".py",
   "mimetype": "text/x-python",
   "name": "python",
   "nbconvert_exporter": "python",
   "pygments_lexer": "ipython3",
   "version": "3.8.5"
  }
 },
 "nbformat": 4,
 "nbformat_minor": 4
}
