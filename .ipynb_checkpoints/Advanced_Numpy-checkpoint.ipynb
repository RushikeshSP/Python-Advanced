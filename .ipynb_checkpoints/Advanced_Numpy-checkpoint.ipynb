{
 "cells": [
  {
   "cell_type": "code",
   "execution_count": 1,
   "metadata": {},
   "outputs": [],
   "source": [
    "import numpy as np"
   ]
  },
  {
   "cell_type": "code",
   "execution_count": 2,
   "metadata": {},
   "outputs": [],
   "source": [
    "a = list(range(10))\n",
    "b = list(range(10,20))\n",
    "c = list(range(20,30))"
   ]
  },
  {
   "cell_type": "code",
   "execution_count": 3,
   "metadata": {},
   "outputs": [
    {
     "name": "stdout",
     "output_type": "stream",
     "text": [
      "[0, 1, 2, 3, 4, 5, 6, 7, 8, 9]\n",
      "[10, 11, 12, 13, 14, 15, 16, 17, 18, 19]\n",
      "[20, 21, 22, 23, 24, 25, 26, 27, 28, 29]\n"
     ]
    }
   ],
   "source": [
    "print(a)\n",
    "print(b)\n",
    "print(c)"
   ]
  },
  {
   "cell_type": "code",
   "execution_count": 4,
   "metadata": {},
   "outputs": [],
   "source": [
    "data = [a,b,c]"
   ]
  },
  {
   "cell_type": "code",
   "execution_count": 5,
   "metadata": {},
   "outputs": [
    {
     "data": {
      "text/plain": [
       "[[0, 1, 2, 3, 4, 5, 6, 7, 8, 9],\n",
       " [10, 11, 12, 13, 14, 15, 16, 17, 18, 19],\n",
       " [20, 21, 22, 23, 24, 25, 26, 27, 28, 29]]"
      ]
     },
     "execution_count": 5,
     "metadata": {},
     "output_type": "execute_result"
    }
   ],
   "source": [
    "data"
   ]
  },
  {
   "cell_type": "code",
   "execution_count": 6,
   "metadata": {},
   "outputs": [
    {
     "data": {
      "text/plain": [
       "[45, 145, 245]"
      ]
     },
     "execution_count": 6,
     "metadata": {},
     "output_type": "execute_result"
    }
   ],
   "source": [
    "[sum(i) for i in data]"
   ]
  },
  {
   "cell_type": "code",
   "execution_count": 7,
   "metadata": {},
   "outputs": [
    {
     "data": {
      "text/plain": [
       "array([[ 0,  1,  2,  3,  4,  5,  6,  7,  8,  9],\n",
       "       [10, 11, 12, 13, 14, 15, 16, 17, 18, 19],\n",
       "       [20, 21, 22, 23, 24, 25, 26, 27, 28, 29]])"
      ]
     },
     "execution_count": 7,
     "metadata": {},
     "output_type": "execute_result"
    }
   ],
   "source": [
    "sampleData = np.array(data)\n",
    "sampleData"
   ]
  },
  {
   "cell_type": "code",
   "execution_count": 8,
   "metadata": {},
   "outputs": [
    {
     "name": "stdout",
     "output_type": "stream",
     "text": [
      "Size :  30\n",
      "Dimension :  2\n",
      "Shape :  (3, 10)\n",
      "dtype :  int32\n",
      "flags : \n",
      "   C_CONTIGUOUS : True\n",
      "  F_CONTIGUOUS : False\n",
      "  OWNDATA : True\n",
      "  WRITEABLE : True\n",
      "  ALIGNED : True\n",
      "  WRITEBACKIFCOPY : False\n",
      "  UPDATEIFCOPY : False\n",
      "\n",
      "strides :  (40, 4)\n"
     ]
    }
   ],
   "source": [
    "print(\"Size : \", sampleData.size)\n",
    "print(\"Dimension : \", sampleData.ndim)\n",
    "print(\"Shape : \", sampleData.shape)\n",
    "print(\"dtype : \", sampleData.dtype)\n",
    "print(\"flags : \\n\", sampleData.flags)\n",
    "print(\"strides : \", sampleData.strides)"
   ]
  },
  {
   "cell_type": "code",
   "execution_count": 9,
   "metadata": {},
   "outputs": [],
   "source": [
    "sampleData2 = np.array([[.4,.5,.6],[.4,.5,.6]])"
   ]
  },
  {
   "cell_type": "code",
   "execution_count": 10,
   "metadata": {},
   "outputs": [
    {
     "name": "stdout",
     "output_type": "stream",
     "text": [
      "Size :  6\n",
      "Dimension :  2\n",
      "Shape :  (2, 3)\n",
      "dtype :  float64\n",
      "flags :\n",
      "   C_CONTIGUOUS : True\n",
      "  F_CONTIGUOUS : False\n",
      "  OWNDATA : True\n",
      "  WRITEABLE : True\n",
      "  ALIGNED : True\n",
      "  WRITEBACKIFCOPY : False\n",
      "  UPDATEIFCOPY : False\n",
      "\n",
      "strides :  (24, 8)\n"
     ]
    }
   ],
   "source": [
    "print(\"Size : \", sampleData2.size)\n",
    "print(\"Dimension : \", sampleData2.ndim)\n",
    "print(\"Shape : \", sampleData2.shape)\n",
    "print(\"dtype : \", sampleData2.dtype)\n",
    "print(\"flags :\\n\", sampleData2.flags)\n",
    "print(\"strides : \", sampleData2.strides)"
   ]
  },
  {
   "cell_type": "markdown",
   "metadata": {},
   "source": [
    "# Transpose"
   ]
  },
  {
   "cell_type": "code",
   "execution_count": 11,
   "metadata": {},
   "outputs": [],
   "source": [
    "Transpose_sampleData = sampleData.T"
   ]
  },
  {
   "cell_type": "code",
   "execution_count": 12,
   "metadata": {},
   "outputs": [
    {
     "data": {
      "text/plain": [
       "array([[ 0, 10, 20],\n",
       "       [ 1, 11, 21],\n",
       "       [ 2, 12, 22],\n",
       "       [ 3, 13, 23],\n",
       "       [ 4, 14, 24],\n",
       "       [ 5, 15, 25],\n",
       "       [ 6, 16, 26],\n",
       "       [ 7, 17, 27],\n",
       "       [ 8, 18, 28],\n",
       "       [ 9, 19, 29]])"
      ]
     },
     "execution_count": 12,
     "metadata": {},
     "output_type": "execute_result"
    }
   ],
   "source": [
    "Transpose_sampleData"
   ]
  },
  {
   "cell_type": "code",
   "execution_count": 13,
   "metadata": {},
   "outputs": [
    {
     "name": "stdout",
     "output_type": "stream",
     "text": [
      "Size :  30\n",
      "Dimension :  2\n",
      "Shape :  (10, 3)\n",
      "dtype :  int32\n",
      "flags : \n",
      "   C_CONTIGUOUS : False\n",
      "  F_CONTIGUOUS : True\n",
      "  OWNDATA : False\n",
      "  WRITEABLE : True\n",
      "  ALIGNED : True\n",
      "  WRITEBACKIFCOPY : False\n",
      "  UPDATEIFCOPY : False\n",
      "\n",
      "strides :  (4, 40)\n"
     ]
    }
   ],
   "source": [
    "print(\"Size : \", Transpose_sampleData.size)\n",
    "print(\"Dimension : \", Transpose_sampleData.ndim)\n",
    "print(\"Shape : \", Transpose_sampleData.shape)\n",
    "print(\"dtype : \", Transpose_sampleData.dtype)\n",
    "print(\"flags : \\n\", Transpose_sampleData.flags)\n",
    "print(\"strides : \", Transpose_sampleData.strides)"
   ]
  },
  {
   "cell_type": "markdown",
   "metadata": {},
   "source": [
    "# Slicing "
   ]
  },
  {
   "cell_type": "code",
   "execution_count": 14,
   "metadata": {},
   "outputs": [
    {
     "data": {
      "text/plain": [
       "array([[ 0,  1,  2,  3,  4,  5,  6,  7,  8,  9],\n",
       "       [10, 11, 12, 13, 14, 15, 16, 17, 18, 19],\n",
       "       [20, 21, 22, 23, 24, 25, 26, 27, 28, 29]])"
      ]
     },
     "execution_count": 14,
     "metadata": {},
     "output_type": "execute_result"
    }
   ],
   "source": [
    "sampleData"
   ]
  },
  {
   "cell_type": "code",
   "execution_count": 15,
   "metadata": {},
   "outputs": [
    {
     "data": {
      "text/plain": [
       "array([[ 0,  1,  2,  3,  4,  5,  6,  7,  8,  9],\n",
       "       [10, 11, 12, 13, 14, 15, 16, 17, 18, 19],\n",
       "       [20, 21, 22, 23, 24, 25, 26, 27, 28, 29]])"
      ]
     },
     "execution_count": 15,
     "metadata": {},
     "output_type": "execute_result"
    }
   ],
   "source": [
    "sampleData[::]"
   ]
  },
  {
   "cell_type": "code",
   "execution_count": 16,
   "metadata": {},
   "outputs": [
    {
     "data": {
      "text/plain": [
       "array([[ 0,  1,  2,  3,  4,  5,  6,  7,  8,  9],\n",
       "       [10, 11, 12, 13, 14, 15, 16, 17, 18, 19]])"
      ]
     },
     "execution_count": 16,
     "metadata": {},
     "output_type": "execute_result"
    }
   ],
   "source": [
    "sampleData[:2]"
   ]
  },
  {
   "cell_type": "code",
   "execution_count": 17,
   "metadata": {},
   "outputs": [
    {
     "data": {
      "text/plain": [
       "array([[ 0,  1,  2,  3,  4,  5,  6,  7,  8,  9],\n",
       "       [10, 11, 12, 13, 14, 15, 16, 17, 18, 19],\n",
       "       [20, 21, 22, 23, 24, 25, 26, 27, 28, 29]])"
      ]
     },
     "execution_count": 17,
     "metadata": {},
     "output_type": "execute_result"
    }
   ],
   "source": [
    "sampleData[:,:]"
   ]
  },
  {
   "cell_type": "code",
   "execution_count": 18,
   "metadata": {},
   "outputs": [
    {
     "data": {
      "text/plain": [
       "array([[13, 14],\n",
       "       [23, 24]])"
      ]
     },
     "execution_count": 18,
     "metadata": {},
     "output_type": "execute_result"
    }
   ],
   "source": [
    "sampleData[1:, 3:5]"
   ]
  },
  {
   "cell_type": "code",
   "execution_count": 19,
   "metadata": {},
   "outputs": [
    {
     "data": {
      "text/plain": [
       "29"
      ]
     },
     "execution_count": 19,
     "metadata": {},
     "output_type": "execute_result"
    }
   ],
   "source": [
    "sampleData[2][-1]"
   ]
  },
  {
   "cell_type": "code",
   "execution_count": 20,
   "metadata": {},
   "outputs": [
    {
     "data": {
      "text/plain": [
       "array([[ 0,  1,  2,  3,  4,  5,  6,  7,  8,  9],\n",
       "       [10, 11, 12, 13, 14, 15, 16, 17, 18, 19],\n",
       "       [20, 21, 22, 23, 24, 25, 26, 27, 28, 29]])"
      ]
     },
     "execution_count": 20,
     "metadata": {},
     "output_type": "execute_result"
    }
   ],
   "source": [
    "sampleData"
   ]
  },
  {
   "cell_type": "code",
   "execution_count": 21,
   "metadata": {},
   "outputs": [
    {
     "data": {
      "text/plain": [
       "  C_CONTIGUOUS : True\n",
       "  F_CONTIGUOUS : False\n",
       "  OWNDATA : True\n",
       "  WRITEABLE : True\n",
       "  ALIGNED : True\n",
       "  WRITEBACKIFCOPY : False\n",
       "  UPDATEIFCOPY : False"
      ]
     },
     "execution_count": 21,
     "metadata": {},
     "output_type": "execute_result"
    }
   ],
   "source": [
    "sampleData.flags"
   ]
  },
  {
   "cell_type": "code",
   "execution_count": 22,
   "metadata": {},
   "outputs": [
    {
     "name": "stdout",
     "output_type": "stream",
     "text": [
      "[[ 0  1  2  3  4  5  6  7  8  9]\n",
      " [20 21 22 23 24 25 26 27 28 29]]\n"
     ]
    }
   ],
   "source": [
    "print(sampleData[::2])"
   ]
  },
  {
   "cell_type": "code",
   "execution_count": 23,
   "metadata": {},
   "outputs": [
    {
     "data": {
      "text/plain": [
       "  C_CONTIGUOUS : False\n",
       "  F_CONTIGUOUS : False\n",
       "  OWNDATA : False\n",
       "  WRITEABLE : True\n",
       "  ALIGNED : True\n",
       "  WRITEBACKIFCOPY : False\n",
       "  UPDATEIFCOPY : False"
      ]
     },
     "execution_count": 23,
     "metadata": {},
     "output_type": "execute_result"
    }
   ],
   "source": [
    "sampleData[::2].flags"
   ]
  },
  {
   "cell_type": "code",
   "execution_count": 24,
   "metadata": {},
   "outputs": [
    {
     "data": {
      "text/plain": [
       "(80, 4)"
      ]
     },
     "execution_count": 24,
     "metadata": {},
     "output_type": "execute_result"
    }
   ],
   "source": [
    "sampleData[::2].strides"
   ]
  },
  {
   "cell_type": "code",
   "execution_count": 25,
   "metadata": {},
   "outputs": [
    {
     "name": "stdout",
     "output_type": "stream",
     "text": [
      "[[ 0  1  2  3  4  5  6  7  8  9]\n",
      " [20 21 22 23 24 25 26 27 28 29]]\n"
     ]
    }
   ],
   "source": [
    "print(sampleData[::2])"
   ]
  },
  {
   "cell_type": "code",
   "execution_count": 26,
   "metadata": {},
   "outputs": [
    {
     "name": "stdout",
     "output_type": "stream",
     "text": [
      "[[ 0  1  2  3  4  5  6  7  8  9]\n",
      " [10 11 12 13 14 15 16 17 18 19]\n",
      " [20 21 22 23 24 25 26 27 28 29]]\n"
     ]
    }
   ],
   "source": [
    "print(sampleData[:,:])"
   ]
  },
  {
   "cell_type": "code",
   "execution_count": 27,
   "metadata": {},
   "outputs": [
    {
     "data": {
      "text/plain": [
       "(40, 4)"
      ]
     },
     "execution_count": 27,
     "metadata": {},
     "output_type": "execute_result"
    }
   ],
   "source": [
    "sampleData.strides"
   ]
  },
  {
   "cell_type": "code",
   "execution_count": 28,
   "metadata": {},
   "outputs": [
    {
     "name": "stdout",
     "output_type": "stream",
     "text": [
      "[[ 0  1  2]\n",
      " [10 11 12]\n",
      " [20 21 22]]\n"
     ]
    }
   ],
   "source": [
    "print(sampleData[:3,:3])"
   ]
  },
  {
   "cell_type": "code",
   "execution_count": 29,
   "metadata": {},
   "outputs": [
    {
     "data": {
      "text/plain": [
       "(40, 4)"
      ]
     },
     "execution_count": 29,
     "metadata": {},
     "output_type": "execute_result"
    }
   ],
   "source": [
    "sampleData[:3,:3].strides"
   ]
  },
  {
   "cell_type": "code",
   "execution_count": 30,
   "metadata": {},
   "outputs": [
    {
     "data": {
      "text/plain": [
       "array([[ 0,  1,  2,  3,  4,  5,  6,  7,  8,  9],\n",
       "       [10, 11, 12, 13, 14, 15, 16, 17, 18, 19],\n",
       "       [20, 21, 22, 23, 24, 25, 26, 27, 28, 29]])"
      ]
     },
     "execution_count": 30,
     "metadata": {},
     "output_type": "execute_result"
    }
   ],
   "source": [
    "sampleData"
   ]
  },
  {
   "cell_type": "code",
   "execution_count": 31,
   "metadata": {},
   "outputs": [
    {
     "data": {
      "text/plain": [
       "array([[ 0,  2,  4,  6,  8],\n",
       "       [20, 22, 24, 26, 28]])"
      ]
     },
     "execution_count": 31,
     "metadata": {},
     "output_type": "execute_result"
    }
   ],
   "source": [
    "sampleData[::2, ::2]"
   ]
  },
  {
   "cell_type": "code",
   "execution_count": 32,
   "metadata": {},
   "outputs": [
    {
     "data": {
      "text/plain": [
       "(80, 8)"
      ]
     },
     "execution_count": 32,
     "metadata": {},
     "output_type": "execute_result"
    }
   ],
   "source": [
    "sampleData[::2, ::2].strides"
   ]
  },
  {
   "cell_type": "code",
   "execution_count": 33,
   "metadata": {},
   "outputs": [
    {
     "data": {
      "text/plain": [
       "  C_CONTIGUOUS : False\n",
       "  F_CONTIGUOUS : False\n",
       "  OWNDATA : False\n",
       "  WRITEABLE : True\n",
       "  ALIGNED : True\n",
       "  WRITEBACKIFCOPY : False\n",
       "  UPDATEIFCOPY : False"
      ]
     },
     "execution_count": 33,
     "metadata": {},
     "output_type": "execute_result"
    }
   ],
   "source": [
    "sampleData[::2, ::2].flags"
   ]
  },
  {
   "cell_type": "code",
   "execution_count": 34,
   "metadata": {},
   "outputs": [
    {
     "data": {
      "text/plain": [
       "array([[ 0,  1,  2,  3,  4,  5,  6,  7,  8,  9],\n",
       "       [10, 11, 12, 13, 14, 15, 16, 17, 18, 19],\n",
       "       [20, 21, 22, 23, 24, 25, 26, 27, 28, 29]])"
      ]
     },
     "execution_count": 34,
     "metadata": {},
     "output_type": "execute_result"
    }
   ],
   "source": [
    "sampleData"
   ]
  },
  {
   "cell_type": "markdown",
   "metadata": {},
   "source": [
    "# Copy the data"
   ]
  },
  {
   "cell_type": "code",
   "execution_count": 35,
   "metadata": {},
   "outputs": [],
   "source": [
    "copied = sampleData"
   ]
  },
  {
   "cell_type": "code",
   "execution_count": 36,
   "metadata": {},
   "outputs": [
    {
     "data": {
      "text/plain": [
       "array([[ 0,  1,  2,  3,  4,  5,  6,  7,  8,  9],\n",
       "       [10, 11, 12, 13, 14, 15, 16, 17, 18, 19],\n",
       "       [20, 21, 22, 23, 24, 25, 26, 27, 28, 29]])"
      ]
     },
     "execution_count": 36,
     "metadata": {},
     "output_type": "execute_result"
    }
   ],
   "source": [
    "copied"
   ]
  },
  {
   "cell_type": "code",
   "execution_count": 37,
   "metadata": {},
   "outputs": [],
   "source": [
    "copied[1][2] = 555"
   ]
  },
  {
   "cell_type": "code",
   "execution_count": 38,
   "metadata": {},
   "outputs": [
    {
     "data": {
      "text/plain": [
       "array([[  0,   1,   2,   3,   4,   5,   6,   7,   8,   9],\n",
       "       [ 10,  11, 555,  13,  14,  15,  16,  17,  18,  19],\n",
       "       [ 20,  21,  22,  23,  24,  25,  26,  27,  28,  29]])"
      ]
     },
     "execution_count": 38,
     "metadata": {},
     "output_type": "execute_result"
    }
   ],
   "source": [
    "copied"
   ]
  },
  {
   "cell_type": "code",
   "execution_count": 39,
   "metadata": {},
   "outputs": [
    {
     "data": {
      "text/plain": [
       "array([[  0,   1,   2,   3,   4,   5,   6,   7,   8,   9],\n",
       "       [ 10,  11, 555,  13,  14,  15,  16,  17,  18,  19],\n",
       "       [ 20,  21,  22,  23,  24,  25,  26,  27,  28,  29]])"
      ]
     },
     "execution_count": 39,
     "metadata": {},
     "output_type": "execute_result"
    }
   ],
   "source": [
    "sampleData"
   ]
  },
  {
   "cell_type": "code",
   "execution_count": 40,
   "metadata": {},
   "outputs": [],
   "source": [
    "truecopied = sampleData.copy()"
   ]
  },
  {
   "cell_type": "code",
   "execution_count": 41,
   "metadata": {},
   "outputs": [
    {
     "data": {
      "text/plain": [
       "array([[  0,   1,   2,   3,   4,   5,   6,   7,   8,   9],\n",
       "       [ 10,  11, 555,  13,  14,  15,  16,  17,  18,  19],\n",
       "       [ 20,  21,  22,  23,  24,  25,  26,  27,  28,  29]])"
      ]
     },
     "execution_count": 41,
     "metadata": {},
     "output_type": "execute_result"
    }
   ],
   "source": [
    "truecopied"
   ]
  },
  {
   "cell_type": "code",
   "execution_count": 42,
   "metadata": {},
   "outputs": [],
   "source": [
    "truecopied[1][2] = 666"
   ]
  },
  {
   "cell_type": "code",
   "execution_count": 43,
   "metadata": {},
   "outputs": [
    {
     "data": {
      "text/plain": [
       "array([[  0,   1,   2,   3,   4,   5,   6,   7,   8,   9],\n",
       "       [ 10,  11, 666,  13,  14,  15,  16,  17,  18,  19],\n",
       "       [ 20,  21,  22,  23,  24,  25,  26,  27,  28,  29]])"
      ]
     },
     "execution_count": 43,
     "metadata": {},
     "output_type": "execute_result"
    }
   ],
   "source": [
    "truecopied"
   ]
  },
  {
   "cell_type": "code",
   "execution_count": 44,
   "metadata": {},
   "outputs": [
    {
     "data": {
      "text/plain": [
       "array([[  0,   1,   2,   3,   4,   5,   6,   7,   8,   9],\n",
       "       [ 10,  11, 555,  13,  14,  15,  16,  17,  18,  19],\n",
       "       [ 20,  21,  22,  23,  24,  25,  26,  27,  28,  29]])"
      ]
     },
     "execution_count": 44,
     "metadata": {},
     "output_type": "execute_result"
    }
   ],
   "source": [
    "sampleData"
   ]
  },
  {
   "cell_type": "markdown",
   "metadata": {},
   "source": [
    "# Mathematical Operations (Axis Wise Evaluations)"
   ]
  },
  {
   "cell_type": "code",
   "execution_count": 45,
   "metadata": {},
   "outputs": [],
   "source": [
    "a = list(range(0,2000))\n",
    "b = list(range(2000,4000))\n",
    "c = list(range(4000,6000))\n",
    "var = [a,b,c]"
   ]
  },
  {
   "cell_type": "code",
   "execution_count": 46,
   "metadata": {},
   "outputs": [],
   "source": [
    "data = np.array(var)"
   ]
  },
  {
   "cell_type": "code",
   "execution_count": 47,
   "metadata": {},
   "outputs": [
    {
     "data": {
      "text/plain": [
       "array([[   0,    1,    2, ..., 1997, 1998, 1999],\n",
       "       [2000, 2001, 2002, ..., 3997, 3998, 3999],\n",
       "       [4000, 4001, 4002, ..., 5997, 5998, 5999]])"
      ]
     },
     "execution_count": 47,
     "metadata": {},
     "output_type": "execute_result"
    }
   ],
   "source": [
    "data"
   ]
  },
  {
   "cell_type": "code",
   "execution_count": 48,
   "metadata": {},
   "outputs": [
    {
     "data": {
      "text/plain": [
       "((3, 2000), 6000)"
      ]
     },
     "execution_count": 48,
     "metadata": {},
     "output_type": "execute_result"
    }
   ],
   "source": [
    "data.shape, data.size"
   ]
  },
  {
   "cell_type": "code",
   "execution_count": 49,
   "metadata": {},
   "outputs": [
    {
     "data": {
      "text/plain": [
       "17997000"
      ]
     },
     "execution_count": 49,
     "metadata": {},
     "output_type": "execute_result"
    }
   ],
   "source": [
    "np.sum(data)"
   ]
  },
  {
   "cell_type": "code",
   "execution_count": 50,
   "metadata": {},
   "outputs": [
    {
     "data": {
      "text/plain": [
       "array([ 6000,  6003,  6006, ..., 11991, 11994, 11997])"
      ]
     },
     "execution_count": 50,
     "metadata": {},
     "output_type": "execute_result"
    }
   ],
   "source": [
    "np.sum(data, axis=0)"
   ]
  },
  {
   "cell_type": "code",
   "execution_count": 51,
   "metadata": {},
   "outputs": [
    {
     "data": {
      "text/plain": [
       "array([1999000, 5999000, 9999000])"
      ]
     },
     "execution_count": 51,
     "metadata": {},
     "output_type": "execute_result"
    }
   ],
   "source": [
    "np.sum(data, axis=1)"
   ]
  },
  {
   "cell_type": "code",
   "execution_count": 52,
   "metadata": {},
   "outputs": [
    {
     "data": {
      "text/plain": [
       "5999"
      ]
     },
     "execution_count": 52,
     "metadata": {},
     "output_type": "execute_result"
    }
   ],
   "source": [
    "np.max(data)"
   ]
  },
  {
   "cell_type": "code",
   "execution_count": 53,
   "metadata": {},
   "outputs": [
    {
     "data": {
      "text/plain": [
       "array([4000, 4001, 4002, ..., 5997, 5998, 5999])"
      ]
     },
     "execution_count": 53,
     "metadata": {},
     "output_type": "execute_result"
    }
   ],
   "source": [
    "np.max(data, axis=0)"
   ]
  },
  {
   "cell_type": "code",
   "execution_count": 54,
   "metadata": {},
   "outputs": [
    {
     "data": {
      "text/plain": [
       "array([1999, 3999, 5999])"
      ]
     },
     "execution_count": 54,
     "metadata": {},
     "output_type": "execute_result"
    }
   ],
   "source": [
    "np.max(data, axis=1)"
   ]
  },
  {
   "cell_type": "markdown",
   "metadata": {},
   "source": [
    "# Random number / Reshape"
   ]
  },
  {
   "cell_type": "code",
   "execution_count": 55,
   "metadata": {},
   "outputs": [],
   "source": [
    "randdata = np.random.random(6000)"
   ]
  },
  {
   "cell_type": "code",
   "execution_count": 56,
   "metadata": {},
   "outputs": [
    {
     "data": {
      "text/plain": [
       "array([0.08756164, 0.35096454, 0.91750066, ..., 0.77364636, 0.60028151,\n",
       "       0.5916416 ])"
      ]
     },
     "execution_count": 56,
     "metadata": {},
     "output_type": "execute_result"
    }
   ],
   "source": [
    "randdata"
   ]
  },
  {
   "cell_type": "code",
   "execution_count": 57,
   "metadata": {},
   "outputs": [
    {
     "data": {
      "text/plain": [
       "6000"
      ]
     },
     "execution_count": 57,
     "metadata": {},
     "output_type": "execute_result"
    }
   ],
   "source": [
    "randdata.size"
   ]
  },
  {
   "cell_type": "code",
   "execution_count": 58,
   "metadata": {},
   "outputs": [
    {
     "data": {
      "text/plain": [
       "(6000,)"
      ]
     },
     "execution_count": 58,
     "metadata": {},
     "output_type": "execute_result"
    }
   ],
   "source": [
    "randdata.shape"
   ]
  },
  {
   "cell_type": "code",
   "execution_count": 59,
   "metadata": {},
   "outputs": [
    {
     "data": {
      "text/plain": [
       "array([[0.08756164, 0.35096454, 0.91750066, ..., 0.89692236, 0.21082223,\n",
       "        0.63642875],\n",
       "       [0.45970054, 0.22258393, 0.75036087, ..., 0.25362761, 0.51017002,\n",
       "        0.24888678],\n",
       "       [0.83541207, 0.28570858, 0.61377399, ..., 0.93624891, 0.36651015,\n",
       "        0.1207268 ],\n",
       "       ...,\n",
       "       [0.42753968, 0.08361301, 0.40379431, ..., 0.03302356, 0.33019962,\n",
       "        0.17073662],\n",
       "       [0.00431463, 0.47632111, 0.69048556, ..., 0.36235483, 0.58722209,\n",
       "        0.29351371],\n",
       "       [0.66855966, 0.87952734, 0.05229647, ..., 0.77364636, 0.60028151,\n",
       "        0.5916416 ]])"
      ]
     },
     "execution_count": 59,
     "metadata": {},
     "output_type": "execute_result"
    }
   ],
   "source": [
    "matrix = randdata.reshape(200,30)\n",
    "matrix"
   ]
  },
  {
   "cell_type": "code",
   "execution_count": 60,
   "metadata": {},
   "outputs": [
    {
     "data": {
      "text/plain": [
       "(200, 30)"
      ]
     },
     "execution_count": 60,
     "metadata": {},
     "output_type": "execute_result"
    }
   ],
   "source": [
    "matrix.shape"
   ]
  },
  {
   "cell_type": "code",
   "execution_count": 61,
   "metadata": {},
   "outputs": [
    {
     "data": {
      "text/plain": [
       "3020.508546781486"
      ]
     },
     "execution_count": 61,
     "metadata": {},
     "output_type": "execute_result"
    }
   ],
   "source": [
    "matrix.sum()"
   ]
  },
  {
   "cell_type": "code",
   "execution_count": 62,
   "metadata": {},
   "outputs": [
    {
     "data": {
      "text/plain": [
       "3020.508546781486"
      ]
     },
     "execution_count": 62,
     "metadata": {},
     "output_type": "execute_result"
    }
   ],
   "source": [
    "np.sum(matrix)"
   ]
  },
  {
   "cell_type": "code",
   "execution_count": 63,
   "metadata": {},
   "outputs": [
    {
     "data": {
      "text/plain": [
       "30"
      ]
     },
     "execution_count": 63,
     "metadata": {},
     "output_type": "execute_result"
    }
   ],
   "source": [
    "np.sum(matrix, axis=0).size"
   ]
  },
  {
   "cell_type": "code",
   "execution_count": 64,
   "metadata": {},
   "outputs": [
    {
     "data": {
      "text/plain": [
       "200"
      ]
     },
     "execution_count": 64,
     "metadata": {},
     "output_type": "execute_result"
    }
   ],
   "source": [
    "np.sum(matrix, axis=1).size"
   ]
  },
  {
   "cell_type": "code",
   "execution_count": 65,
   "metadata": {},
   "outputs": [
    {
     "data": {
      "text/plain": [
       "(30,)"
      ]
     },
     "execution_count": 65,
     "metadata": {},
     "output_type": "execute_result"
    }
   ],
   "source": [
    "matrix.sum(axis=0).shape"
   ]
  },
  {
   "cell_type": "code",
   "execution_count": 66,
   "metadata": {},
   "outputs": [
    {
     "data": {
      "text/plain": [
       "(200,)"
      ]
     },
     "execution_count": 66,
     "metadata": {},
     "output_type": "execute_result"
    }
   ],
   "source": [
    "matrix.sum(axis=1).shape"
   ]
  },
  {
   "cell_type": "markdown",
   "metadata": {},
   "source": [
    "# Example1"
   ]
  },
  {
   "cell_type": "markdown",
   "metadata": {},
   "source": [
    "create a numpy array with random numbers and get the numbers closest to .50 "
   ]
  },
  {
   "cell_type": "code",
   "execution_count": 67,
   "metadata": {},
   "outputs": [
    {
     "data": {
      "text/plain": [
       "array([0.89245574, 0.43504364, 0.65692343, 0.54523044, 0.35446948,\n",
       "       0.07021244, 0.13481551, 0.33139983, 0.14747022, 0.6132872 ,\n",
       "       0.04220297, 0.33259244, 0.07390938, 0.24665857, 0.5053627 ,\n",
       "       0.53281743, 0.05642465, 0.70114091, 0.94196888, 0.2081157 ,\n",
       "       0.41594026, 0.70858424, 0.71763692, 0.98758091, 0.1491139 ])"
      ]
     },
     "execution_count": 67,
     "metadata": {},
     "output_type": "execute_result"
    }
   ],
   "source": [
    "data = np.random.random(25)\n",
    "data"
   ]
  },
  {
   "cell_type": "code",
   "execution_count": 68,
   "metadata": {},
   "outputs": [
    {
     "data": {
      "text/plain": [
       "array([[0.89245574, 0.43504364, 0.65692343, 0.54523044, 0.35446948],\n",
       "       [0.07021244, 0.13481551, 0.33139983, 0.14747022, 0.6132872 ],\n",
       "       [0.04220297, 0.33259244, 0.07390938, 0.24665857, 0.5053627 ],\n",
       "       [0.53281743, 0.05642465, 0.70114091, 0.94196888, 0.2081157 ],\n",
       "       [0.41594026, 0.70858424, 0.71763692, 0.98758091, 0.1491139 ]])"
      ]
     },
     "execution_count": 68,
     "metadata": {},
     "output_type": "execute_result"
    }
   ],
   "source": [
    "data = data.reshape(5,5)\n",
    "data"
   ]
  },
  {
   "cell_type": "code",
   "execution_count": 69,
   "metadata": {},
   "outputs": [],
   "source": [
    "data = abs(data-.5)"
   ]
  },
  {
   "cell_type": "code",
   "execution_count": 70,
   "metadata": {},
   "outputs": [],
   "source": [
    "minindex = np.argmin(data, axis=0)"
   ]
  },
  {
   "cell_type": "code",
   "execution_count": 71,
   "metadata": {},
   "outputs": [
    {
     "data": {
      "text/plain": [
       "array([[0.03281743, 0.44357535, 0.20114091, 0.44196888, 0.2918843 ],\n",
       "       [0.39245574, 0.06495636, 0.15692343, 0.04523044, 0.14553052],\n",
       "       [0.39245574, 0.06495636, 0.15692343, 0.04523044, 0.14553052],\n",
       "       [0.39245574, 0.06495636, 0.15692343, 0.04523044, 0.14553052],\n",
       "       [0.45779703, 0.16740756, 0.42609062, 0.25334143, 0.0053627 ]])"
      ]
     },
     "execution_count": 71,
     "metadata": {},
     "output_type": "execute_result"
    }
   ],
   "source": [
    "data[minindex]"
   ]
  },
  {
   "cell_type": "code",
   "execution_count": null,
   "metadata": {},
   "outputs": [],
   "source": []
  },
  {
   "cell_type": "markdown",
   "metadata": {},
   "source": [
    "## Example 2"
   ]
  },
  {
   "cell_type": "markdown",
   "metadata": {},
   "source": [
    "##### select the top 5 columns on order of highest variance"
   ]
  },
  {
   "cell_type": "code",
   "execution_count": 72,
   "metadata": {},
   "outputs": [],
   "source": [
    "sampData2=np.random.random(6000)"
   ]
  },
  {
   "cell_type": "code",
   "execution_count": 73,
   "metadata": {},
   "outputs": [],
   "source": [
    "sampData2=sampData2.reshape(100,60)"
   ]
  },
  {
   "cell_type": "code",
   "execution_count": 74,
   "metadata": {},
   "outputs": [],
   "source": [
    "varInfo=np.var(sampData2,axis=0)"
   ]
  },
  {
   "cell_type": "code",
   "execution_count": 75,
   "metadata": {},
   "outputs": [],
   "source": [
    "incOrder=np.argsort(varInfo)"
   ]
  },
  {
   "cell_type": "code",
   "execution_count": 76,
   "metadata": {},
   "outputs": [
    {
     "data": {
      "text/plain": [
       "array([56, 11, 35, 25, 45], dtype=int64)"
      ]
     },
     "execution_count": 76,
     "metadata": {},
     "output_type": "execute_result"
    }
   ],
   "source": [
    "incOrder[-5:]"
   ]
  },
  {
   "cell_type": "code",
   "execution_count": 77,
   "metadata": {},
   "outputs": [
    {
     "data": {
      "text/plain": [
       "array([[0.372793  , 0.11644756, 0.23781546, 0.5486463 , 0.91462979],\n",
       "       [0.99343949, 0.1866027 , 0.8373482 , 0.28576797, 0.74993438],\n",
       "       [0.31535512, 0.86037588, 0.82201716, 0.86161566, 0.22450659],\n",
       "       [0.33319089, 0.83504035, 0.71560069, 0.28426727, 0.07139802],\n",
       "       [0.19807246, 0.42743016, 0.73756451, 0.94176496, 0.44099199],\n",
       "       [0.96423589, 0.92041769, 0.16768729, 0.57562095, 0.63016592],\n",
       "       [0.39447391, 0.39835016, 0.68999395, 0.5257637 , 0.23013849],\n",
       "       [0.85689821, 0.31998217, 0.97035686, 0.15082599, 0.13673621],\n",
       "       [0.38930766, 0.99788414, 0.04519021, 0.11776775, 0.98262031],\n",
       "       [0.43142516, 0.9561876 , 0.05661947, 0.71088809, 0.10511811],\n",
       "       [0.98362096, 0.42737916, 0.49696219, 0.96416766, 0.47970775],\n",
       "       [0.31681342, 0.09484707, 0.54443459, 0.92898738, 0.07300636],\n",
       "       [0.44886601, 0.39231504, 0.91382843, 0.04571786, 0.62136732],\n",
       "       [0.46550231, 0.84973947, 0.71345888, 0.52766227, 0.22195627],\n",
       "       [0.4286279 , 0.17077172, 0.92656114, 0.33009682, 0.36533728],\n",
       "       [0.53365962, 0.33908713, 0.07994629, 0.17504948, 0.7044514 ],\n",
       "       [0.36877523, 0.40587147, 0.91741326, 0.93341138, 0.82916214],\n",
       "       [0.94177358, 0.98416191, 0.44371223, 0.7464525 , 0.65143055],\n",
       "       [0.90026558, 0.08825707, 0.33573865, 0.06215072, 0.99643906],\n",
       "       [0.64399582, 0.12138343, 0.61441248, 0.12851916, 0.19247867],\n",
       "       [0.23229284, 0.9922249 , 0.33054171, 0.46053738, 0.98607534],\n",
       "       [0.49493971, 0.32287181, 0.58451964, 0.69867029, 0.60804622],\n",
       "       [0.57241752, 0.89143459, 0.26183243, 0.89194653, 0.36244443],\n",
       "       [0.94971233, 0.59435589, 0.22467254, 0.21589162, 0.54220268],\n",
       "       [0.07395877, 0.9034076 , 0.96101695, 0.39623625, 0.85559007],\n",
       "       [0.85427276, 0.86955878, 0.9525507 , 0.1949873 , 0.66827934],\n",
       "       [0.53653348, 0.90398943, 0.08779831, 0.08735825, 0.99011656],\n",
       "       [0.84003218, 0.5868695 , 0.46065023, 0.40526476, 0.98757157],\n",
       "       [0.16049049, 0.77593957, 0.21646678, 0.19093388, 0.57738454],\n",
       "       [0.34731035, 0.89784215, 0.99474566, 0.58607459, 0.72197317],\n",
       "       [0.76976919, 0.55672693, 0.08056787, 0.02463749, 0.08083193],\n",
       "       [0.85441849, 0.06277053, 0.49984167, 0.50103813, 0.99335011],\n",
       "       [0.47900018, 0.31383737, 0.79252376, 0.79502135, 0.14767355],\n",
       "       [0.55511187, 0.55315787, 0.16034226, 0.5906224 , 0.50623182],\n",
       "       [0.97028532, 0.22951028, 0.50498559, 0.70531256, 0.17341786],\n",
       "       [0.38517403, 0.37923764, 0.54534122, 0.68506987, 0.75315955],\n",
       "       [0.16347962, 0.27846798, 0.99937748, 0.67803382, 0.75869505],\n",
       "       [0.30363392, 0.02402303, 0.07119896, 0.42483885, 0.47722284],\n",
       "       [0.08222692, 0.34364636, 0.51985172, 0.10910134, 0.15577671],\n",
       "       [0.03725457, 0.37297469, 0.01580485, 0.04443066, 0.47050611],\n",
       "       [0.97472417, 0.64275245, 0.57972576, 0.92083982, 0.53150155],\n",
       "       [0.5165768 , 0.26648748, 0.11223646, 0.92299175, 0.81091134],\n",
       "       [0.68086718, 0.36074869, 0.99836232, 0.05972674, 0.44473329],\n",
       "       [0.55063454, 0.31946838, 0.11157791, 0.01218857, 0.68716694],\n",
       "       [0.32169822, 0.01951083, 0.25184757, 0.95394343, 0.53176257],\n",
       "       [0.01846915, 0.93380455, 0.3740244 , 0.94049097, 0.70612552],\n",
       "       [0.88814856, 0.10567577, 0.67218214, 0.26044126, 0.61438106],\n",
       "       [0.76601576, 0.60442556, 0.94017395, 0.84587631, 0.36786311],\n",
       "       [0.27196976, 0.89041527, 0.10845243, 0.65627711, 0.84503475],\n",
       "       [0.02238001, 0.46422192, 0.23795495, 0.7195975 , 0.22061603],\n",
       "       [0.29909248, 0.10405478, 0.49812341, 0.97777889, 0.37211885],\n",
       "       [0.13235338, 0.66632319, 0.27479212, 0.97618612, 0.7881171 ],\n",
       "       [0.46638486, 0.92743381, 0.50343284, 0.53240823, 0.90818694],\n",
       "       [0.28298792, 0.22769796, 0.65929818, 0.73323889, 0.44529248],\n",
       "       [0.49055447, 0.75595729, 0.1329743 , 0.96658442, 0.8605945 ],\n",
       "       [0.83796883, 0.23053898, 0.68359499, 0.30463513, 0.05400563],\n",
       "       [0.68363049, 0.28524101, 0.97008928, 0.13782762, 0.29784249],\n",
       "       [0.14373176, 0.58695646, 0.98849184, 0.64326265, 0.52767009],\n",
       "       [0.86154782, 0.11170327, 0.79903093, 0.23724446, 0.82116806],\n",
       "       [0.10525013, 0.89505103, 0.72754662, 0.41652215, 0.57905319],\n",
       "       [0.16188825, 0.00105176, 0.60920052, 0.20978309, 0.16029657],\n",
       "       [0.25511133, 0.14245855, 0.32336453, 0.27786809, 0.21424439],\n",
       "       [0.62884208, 0.18970097, 0.46551606, 0.22867566, 0.71614374],\n",
       "       [0.30647977, 0.57418594, 0.95667175, 0.31243712, 0.93373386],\n",
       "       [0.39707531, 0.68702265, 0.74476605, 0.71759661, 0.99426033],\n",
       "       [0.62420421, 0.84105626, 0.9327882 , 0.78768487, 0.29052944],\n",
       "       [0.265471  , 0.00644671, 0.52752798, 0.30325637, 0.6209617 ],\n",
       "       [0.81533053, 0.15034953, 0.35965858, 0.70047293, 0.72825059],\n",
       "       [0.94679315, 0.64328873, 0.36483073, 0.73860476, 0.82065133],\n",
       "       [0.03010662, 0.65680787, 0.01136166, 0.82300103, 0.38349938],\n",
       "       [0.53337316, 0.53263249, 0.40155391, 0.75965595, 0.92400861],\n",
       "       [0.13888536, 0.67774327, 0.49827254, 0.67420292, 0.02510759],\n",
       "       [0.94127838, 0.84128752, 0.53835092, 0.40202422, 0.42762123],\n",
       "       [0.93557985, 0.09900447, 0.49648329, 0.94306522, 0.11421052],\n",
       "       [0.09817622, 0.87025721, 0.86310916, 0.5697275 , 0.69479601],\n",
       "       [0.19534042, 0.14117049, 0.29787573, 0.74023652, 0.0252004 ],\n",
       "       [0.05964213, 0.93951237, 0.03894285, 0.6747834 , 0.79493583],\n",
       "       [0.17277737, 0.49283153, 0.07796361, 0.10966959, 0.00996464],\n",
       "       [0.09940285, 0.09201212, 0.08126464, 0.04219716, 0.73783298],\n",
       "       [0.35566412, 0.67735862, 0.25534438, 0.81040435, 0.02097128],\n",
       "       [0.85017359, 0.73964771, 0.88068424, 0.96430933, 0.40638337],\n",
       "       [0.85110946, 0.12248962, 0.0372898 , 0.58136909, 0.76536567],\n",
       "       [0.0383537 , 0.14484839, 0.60743559, 0.18341025, 0.09500805],\n",
       "       [0.01030853, 0.27569532, 0.65849916, 0.85675438, 0.21126707],\n",
       "       [0.26031586, 0.00251026, 0.10301431, 0.17306512, 0.64264272],\n",
       "       [0.04793849, 0.12715394, 0.94206793, 0.24038493, 0.09232567],\n",
       "       [0.31932135, 0.4843599 , 0.33427539, 0.75710396, 0.16097243],\n",
       "       [0.48458238, 0.25969045, 0.12434344, 0.89386437, 0.66512018],\n",
       "       [0.49857123, 0.15544724, 0.70911577, 0.49458058, 0.14907533],\n",
       "       [0.07744643, 0.12892601, 0.93618747, 0.87286426, 0.97023531],\n",
       "       [0.68944904, 0.57240368, 0.4881448 , 0.73759457, 0.99793544],\n",
       "       [0.49752993, 0.1458149 , 0.39476288, 0.02726788, 0.61442749],\n",
       "       [0.87744441, 0.43745566, 0.92644309, 0.02704095, 0.71249902],\n",
       "       [0.30167051, 0.01783268, 0.20376963, 0.85706081, 0.776378  ],\n",
       "       [0.91521593, 0.27634123, 0.33553952, 0.29449881, 0.10516113],\n",
       "       [0.05563322, 0.01624451, 0.84873403, 0.06271649, 0.1791026 ],\n",
       "       [0.55237506, 0.32191349, 0.63676608, 0.27437056, 0.04011143],\n",
       "       [0.99528159, 0.48030713, 0.73727562, 0.43649875, 0.86236463],\n",
       "       [0.66196309, 0.03410255, 0.83520653, 0.5392786 , 0.95776684],\n",
       "       [0.99799794, 0.6309659 , 0.91268481, 0.99513357, 0.92910311]])"
      ]
     },
     "execution_count": 77,
     "metadata": {},
     "output_type": "execute_result"
    }
   ],
   "source": [
    "sampData2[:,incOrder[-5:]]"
   ]
  },
  {
   "cell_type": "code",
   "execution_count": null,
   "metadata": {},
   "outputs": [],
   "source": []
  },
  {
   "cell_type": "code",
   "execution_count": null,
   "metadata": {},
   "outputs": [],
   "source": []
  },
  {
   "cell_type": "markdown",
   "metadata": {},
   "source": [
    "# Broadcasting"
   ]
  },
  {
   "cell_type": "code",
   "execution_count": 78,
   "metadata": {},
   "outputs": [],
   "source": [
    "data = np.random.random(28).reshape(7,4)"
   ]
  },
  {
   "cell_type": "code",
   "execution_count": 79,
   "metadata": {},
   "outputs": [
    {
     "data": {
      "text/plain": [
       "array([[0.07549905, 0.98917952, 0.3508262 , 0.25729458],\n",
       "       [0.66017383, 0.60644613, 0.930384  , 0.87589228],\n",
       "       [0.08252174, 0.14028051, 0.76904232, 0.24845963],\n",
       "       [0.87006247, 0.24665604, 0.05288934, 0.06026549],\n",
       "       [0.95824505, 0.05122022, 0.18804784, 0.56001993],\n",
       "       [0.51152051, 0.06890185, 0.04929527, 0.16023624],\n",
       "       [0.91398067, 0.21489006, 0.78168623, 0.37383914]])"
      ]
     },
     "execution_count": 79,
     "metadata": {},
     "output_type": "execute_result"
    }
   ],
   "source": [
    "data"
   ]
  },
  {
   "cell_type": "code",
   "execution_count": 80,
   "metadata": {},
   "outputs": [
    {
     "data": {
      "text/plain": [
       "array([[5.07549905, 5.98917952, 5.3508262 , 5.25729458],\n",
       "       [5.66017383, 5.60644613, 5.930384  , 5.87589228],\n",
       "       [5.08252174, 5.14028051, 5.76904232, 5.24845963],\n",
       "       [5.87006247, 5.24665604, 5.05288934, 5.06026549],\n",
       "       [5.95824505, 5.05122022, 5.18804784, 5.56001993],\n",
       "       [5.51152051, 5.06890185, 5.04929527, 5.16023624],\n",
       "       [5.91398067, 5.21489006, 5.78168623, 5.37383914]])"
      ]
     },
     "execution_count": 80,
     "metadata": {},
     "output_type": "execute_result"
    }
   ],
   "source": [
    "data + 5"
   ]
  },
  {
   "cell_type": "code",
   "execution_count": 81,
   "metadata": {},
   "outputs": [
    {
     "data": {
      "text/plain": [
       "array([[1.07549905, 2.98917952, 3.3508262 , 4.25729458],\n",
       "       [1.66017383, 2.60644613, 3.930384  , 4.87589228],\n",
       "       [1.08252174, 2.14028051, 3.76904232, 4.24845963],\n",
       "       [1.87006247, 2.24665604, 3.05288934, 4.06026549],\n",
       "       [1.95824505, 2.05122022, 3.18804784, 4.56001993],\n",
       "       [1.51152051, 2.06890185, 3.04929527, 4.16023624],\n",
       "       [1.91398067, 2.21489006, 3.78168623, 4.37383914]])"
      ]
     },
     "execution_count": 81,
     "metadata": {},
     "output_type": "execute_result"
    }
   ],
   "source": [
    "data + np.array([1,2,3,4])"
   ]
  },
  {
   "cell_type": "code",
   "execution_count": 82,
   "metadata": {},
   "outputs": [],
   "source": [
    "# data + np.array([1,2,3,4,5,6,7])"
   ]
  },
  {
   "cell_type": "code",
   "execution_count": 83,
   "metadata": {},
   "outputs": [
    {
     "data": {
      "text/plain": [
       "(7, 1)"
      ]
     },
     "execution_count": 83,
     "metadata": {},
     "output_type": "execute_result"
    }
   ],
   "source": [
    "np.array([[1],[2],[3],[4],[5],[6],[7]]).shape"
   ]
  },
  {
   "cell_type": "code",
   "execution_count": 84,
   "metadata": {},
   "outputs": [
    {
     "data": {
      "text/plain": [
       "array([[1.07549905, 1.98917952, 1.3508262 , 1.25729458],\n",
       "       [2.66017383, 2.60644613, 2.930384  , 2.87589228],\n",
       "       [3.08252174, 3.14028051, 3.76904232, 3.24845963],\n",
       "       [4.87006247, 4.24665604, 4.05288934, 4.06026549],\n",
       "       [5.95824505, 5.05122022, 5.18804784, 5.56001993],\n",
       "       [6.51152051, 6.06890185, 6.04929527, 6.16023624],\n",
       "       [7.91398067, 7.21489006, 7.78168623, 7.37383914]])"
      ]
     },
     "execution_count": 84,
     "metadata": {},
     "output_type": "execute_result"
    }
   ],
   "source": [
    "data + np.array([[1],[2],[3],[4],[5],[6],[7]])"
   ]
  },
  {
   "cell_type": "code",
   "execution_count": null,
   "metadata": {},
   "outputs": [],
   "source": []
  },
  {
   "cell_type": "markdown",
   "metadata": {},
   "source": [
    "# Many matrix languages"
   ]
  },
  {
   "cell_type": "code",
   "execution_count": 85,
   "metadata": {},
   "outputs": [],
   "source": [
    "a = np.array([[1,0],[0,1]])\n",
    "b = np.array([[1,1],[1,1]])"
   ]
  },
  {
   "cell_type": "code",
   "execution_count": 86,
   "metadata": {},
   "outputs": [
    {
     "data": {
      "text/plain": [
       "array([[1, 0],\n",
       "       [0, 1]])"
      ]
     },
     "execution_count": 86,
     "metadata": {},
     "output_type": "execute_result"
    }
   ],
   "source": [
    "a"
   ]
  },
  {
   "cell_type": "code",
   "execution_count": 87,
   "metadata": {},
   "outputs": [
    {
     "data": {
      "text/plain": [
       "array([[1, 1],\n",
       "       [1, 1]])"
      ]
     },
     "execution_count": 87,
     "metadata": {},
     "output_type": "execute_result"
    }
   ],
   "source": [
    "b"
   ]
  },
  {
   "cell_type": "code",
   "execution_count": 88,
   "metadata": {},
   "outputs": [
    {
     "data": {
      "text/plain": [
       "array([[1, 0],\n",
       "       [0, 1]])"
      ]
     },
     "execution_count": 88,
     "metadata": {},
     "output_type": "execute_result"
    }
   ],
   "source": [
    "a*b"
   ]
  },
  {
   "cell_type": "code",
   "execution_count": 89,
   "metadata": {},
   "outputs": [
    {
     "data": {
      "text/plain": [
       "array([[1, 1],\n",
       "       [1, 1]])"
      ]
     },
     "execution_count": 89,
     "metadata": {},
     "output_type": "execute_result"
    }
   ],
   "source": [
    "a.dot(b)"
   ]
  },
  {
   "cell_type": "code",
   "execution_count": 90,
   "metadata": {},
   "outputs": [
    {
     "data": {
      "text/plain": [
       "array([[1, 1],\n",
       "       [1, 1]])"
      ]
     },
     "execution_count": 90,
     "metadata": {},
     "output_type": "execute_result"
    }
   ],
   "source": [
    "np.dot(a,b)"
   ]
  },
  {
   "cell_type": "code",
   "execution_count": 91,
   "metadata": {},
   "outputs": [
    {
     "data": {
      "text/plain": [
       "array([[1, 1],\n",
       "       [1, 1]])"
      ]
     },
     "execution_count": 91,
     "metadata": {},
     "output_type": "execute_result"
    }
   ],
   "source": [
    "a @ b"
   ]
  },
  {
   "cell_type": "code",
   "execution_count": null,
   "metadata": {},
   "outputs": [],
   "source": []
  },
  {
   "cell_type": "markdown",
   "metadata": {},
   "source": [
    "# Handy Functions"
   ]
  },
  {
   "cell_type": "code",
   "execution_count": 92,
   "metadata": {},
   "outputs": [
    {
     "data": {
      "text/plain": [
       "array([[1., 1., 1., 1., 1.],\n",
       "       [1., 1., 1., 1., 1.],\n",
       "       [1., 1., 1., 1., 1.],\n",
       "       [1., 1., 1., 1., 1.],\n",
       "       [1., 1., 1., 1., 1.]])"
      ]
     },
     "execution_count": 92,
     "metadata": {},
     "output_type": "execute_result"
    }
   ],
   "source": [
    "np.ones((5,5))"
   ]
  },
  {
   "cell_type": "code",
   "execution_count": 93,
   "metadata": {},
   "outputs": [
    {
     "data": {
      "text/plain": [
       "numpy.ndarray"
      ]
     },
     "execution_count": 93,
     "metadata": {},
     "output_type": "execute_result"
    }
   ],
   "source": [
    "type(np.ones((5,5)))"
   ]
  },
  {
   "cell_type": "code",
   "execution_count": 94,
   "metadata": {},
   "outputs": [],
   "source": [
    "arrayOf1s=np.ones((5,5))"
   ]
  },
  {
   "cell_type": "code",
   "execution_count": 95,
   "metadata": {},
   "outputs": [
    {
     "data": {
      "text/plain": [
       "dtype('float64')"
      ]
     },
     "execution_count": 95,
     "metadata": {},
     "output_type": "execute_result"
    }
   ],
   "source": [
    "arrayOf1s.dtype"
   ]
  },
  {
   "cell_type": "code",
   "execution_count": 96,
   "metadata": {},
   "outputs": [
    {
     "data": {
      "text/plain": [
       "array([[1, 1, 1, 1, 1],\n",
       "       [1, 1, 1, 1, 1],\n",
       "       [1, 1, 1, 1, 1],\n",
       "       [1, 1, 1, 1, 1],\n",
       "       [1, 1, 1, 1, 1]])"
      ]
     },
     "execution_count": 96,
     "metadata": {},
     "output_type": "execute_result"
    }
   ],
   "source": [
    "np.ones((5,5),dtype='int32')"
   ]
  },
  {
   "cell_type": "code",
   "execution_count": 97,
   "metadata": {},
   "outputs": [],
   "source": [
    "exqualSpacedArray = np.linspace(0,10,30)"
   ]
  },
  {
   "cell_type": "code",
   "execution_count": 98,
   "metadata": {},
   "outputs": [
    {
     "data": {
      "text/plain": [
       "array([ 0.        ,  0.34482759,  0.68965517,  1.03448276,  1.37931034,\n",
       "        1.72413793,  2.06896552,  2.4137931 ,  2.75862069,  3.10344828,\n",
       "        3.44827586,  3.79310345,  4.13793103,  4.48275862,  4.82758621,\n",
       "        5.17241379,  5.51724138,  5.86206897,  6.20689655,  6.55172414,\n",
       "        6.89655172,  7.24137931,  7.5862069 ,  7.93103448,  8.27586207,\n",
       "        8.62068966,  8.96551724,  9.31034483,  9.65517241, 10.        ])"
      ]
     },
     "execution_count": 98,
     "metadata": {},
     "output_type": "execute_result"
    }
   ],
   "source": [
    "exqualSpacedArray"
   ]
  },
  {
   "cell_type": "code",
   "execution_count": 99,
   "metadata": {},
   "outputs": [
    {
     "data": {
      "text/plain": [
       "array([1.00000000e+00, 1.41174649e+00, 1.99302816e+00, 2.81365052e+00,\n",
       "       3.97216126e+00, 5.60768473e+00, 7.91662926e+00, 1.11762736e+01,\n",
       "       1.57780651e+01, 2.22746281e+01, 3.14461281e+01, 4.43939611e+01,\n",
       "       6.26730189e+01, 8.84784147e+01, 1.24909092e+02, 1.76339972e+02,\n",
       "       2.48947338e+02, 3.51450531e+02, 4.96159055e+02, 7.00450807e+02,\n",
       "       9.88858971e+02, 1.39601819e+03, 1.97082378e+03, 2.78230356e+03,\n",
       "       3.92790730e+03, 5.54520936e+03, 7.82842987e+03, 1.10517584e+04,\n",
       "       1.56022812e+04, 2.20264658e+04])"
      ]
     },
     "execution_count": 99,
     "metadata": {},
     "output_type": "execute_result"
    }
   ],
   "source": [
    "np.exp(exqualSpacedArray)  #e^x"
   ]
  },
  {
   "cell_type": "code",
   "execution_count": null,
   "metadata": {},
   "outputs": [],
   "source": []
  },
  {
   "cell_type": "markdown",
   "metadata": {},
   "source": [
    "# np.arange"
   ]
  },
  {
   "cell_type": "code",
   "execution_count": 100,
   "metadata": {},
   "outputs": [
    {
     "data": {
      "text/plain": [
       "array([ 0,  1,  2,  3,  4,  5,  6,  7,  8,  9, 10, 11])"
      ]
     },
     "execution_count": 100,
     "metadata": {},
     "output_type": "execute_result"
    }
   ],
   "source": [
    "np.arange(12)"
   ]
  },
  {
   "cell_type": "code",
   "execution_count": 101,
   "metadata": {},
   "outputs": [
    {
     "data": {
      "text/plain": [
       "array([[ 0,  1,  2,  3],\n",
       "       [ 4,  5,  6,  7],\n",
       "       [ 8,  9, 10, 11]])"
      ]
     },
     "execution_count": 101,
     "metadata": {},
     "output_type": "execute_result"
    }
   ],
   "source": [
    "np.arange(12).reshape(3,4)"
   ]
  },
  {
   "cell_type": "code",
   "execution_count": null,
   "metadata": {},
   "outputs": [],
   "source": []
  },
  {
   "cell_type": "markdown",
   "metadata": {},
   "source": [
    "# Other useful functions"
   ]
  },
  {
   "cell_type": "code",
   "execution_count": 102,
   "metadata": {},
   "outputs": [],
   "source": [
    "simpleArray=np.arange(12)"
   ]
  },
  {
   "cell_type": "code",
   "execution_count": 103,
   "metadata": {},
   "outputs": [
    {
     "data": {
      "text/plain": [
       "array([1.00000000e+00, 2.71828183e+00, 7.38905610e+00, 2.00855369e+01,\n",
       "       5.45981500e+01, 1.48413159e+02, 4.03428793e+02, 1.09663316e+03,\n",
       "       2.98095799e+03, 8.10308393e+03, 2.20264658e+04, 5.98741417e+04])"
      ]
     },
     "execution_count": 103,
     "metadata": {},
     "output_type": "execute_result"
    }
   ],
   "source": [
    "np.exp(simpleArray)"
   ]
  },
  {
   "cell_type": "code",
   "execution_count": 104,
   "metadata": {},
   "outputs": [
    {
     "data": {
      "text/plain": [
       "66"
      ]
     },
     "execution_count": 104,
     "metadata": {},
     "output_type": "execute_result"
    }
   ],
   "source": [
    "np.sum(simpleArray)"
   ]
  },
  {
   "cell_type": "code",
   "execution_count": 105,
   "metadata": {},
   "outputs": [
    {
     "data": {
      "text/plain": [
       "array([0.        , 1.        , 1.41421356, 1.73205081, 2.        ,\n",
       "       2.23606798, 2.44948974, 2.64575131, 2.82842712, 3.        ,\n",
       "       3.16227766, 3.31662479])"
      ]
     },
     "execution_count": 105,
     "metadata": {},
     "output_type": "execute_result"
    }
   ],
   "source": [
    "np.sqrt(simpleArray)"
   ]
  },
  {
   "cell_type": "code",
   "execution_count": 106,
   "metadata": {},
   "outputs": [],
   "source": [
    "simpleArraySq=np.sqrt(simpleArray)"
   ]
  },
  {
   "cell_type": "code",
   "execution_count": 107,
   "metadata": {},
   "outputs": [
    {
     "data": {
      "text/plain": [
       "array([ 0.        ,  2.        ,  3.41421356,  4.73205081,  6.        ,\n",
       "        7.23606798,  8.44948974,  9.64575131, 10.82842712, 12.        ,\n",
       "       13.16227766, 14.31662479])"
      ]
     },
     "execution_count": 107,
     "metadata": {},
     "output_type": "execute_result"
    }
   ],
   "source": [
    "np.add(simpleArray,simpleArraySq)"
   ]
  },
  {
   "cell_type": "code",
   "execution_count": null,
   "metadata": {},
   "outputs": [],
   "source": []
  },
  {
   "cell_type": "markdown",
   "metadata": {},
   "source": [
    "## What if some non supported operations"
   ]
  },
  {
   "cell_type": "code",
   "execution_count": 108,
   "metadata": {},
   "outputs": [
    {
     "data": {
      "text/plain": [
       "array([[ 0,  1,  2,  3],\n",
       "       [ 1,  2,  3,  4],\n",
       "       [ 2,  3,  4,  5],\n",
       "       [ 3,  4,  5,  6],\n",
       "       [ 4,  5,  6,  7],\n",
       "       [ 5,  6,  7,  8],\n",
       "       [ 6,  7,  8,  9],\n",
       "       [ 7,  8,  9, 10],\n",
       "       [ 8,  9, 10, 11],\n",
       "       [ 9, 10, 11, 12],\n",
       "       [10, 11, 12, 13],\n",
       "       [11, 12, 13, 14],\n",
       "       [12, 13, 14, 15],\n",
       "       [13, 14, 15, 16],\n",
       "       [14, 15, 16, 17]])"
      ]
     },
     "execution_count": 108,
     "metadata": {},
     "output_type": "execute_result"
    }
   ],
   "source": [
    "def funcArray(x,y):\n",
    "    return x+y\n",
    "\n",
    "functionCreatedArray = np.fromfunction(funcArray,(15,4),dtype=int)\n",
    "functionCreatedArray"
   ]
  },
  {
   "cell_type": "markdown",
   "metadata": {},
   "source": [
    "# Flat the array"
   ]
  },
  {
   "cell_type": "code",
   "execution_count": 109,
   "metadata": {},
   "outputs": [
    {
     "data": {
      "text/plain": [
       "array([ 0,  1,  2,  3,  1,  2,  3,  4,  2,  3,  4,  5,  3,  4,  5,  6,  4,\n",
       "        5,  6,  7,  5,  6,  7,  8,  6,  7,  8,  9,  7,  8,  9, 10,  8,  9,\n",
       "       10, 11,  9, 10, 11, 12, 10, 11, 12, 13, 11, 12, 13, 14, 12, 13, 14,\n",
       "       15, 13, 14, 15, 16, 14, 15, 16, 17])"
      ]
     },
     "execution_count": 109,
     "metadata": {},
     "output_type": "execute_result"
    }
   ],
   "source": [
    "functionCreatedArray.ravel()"
   ]
  },
  {
   "cell_type": "code",
   "execution_count": 110,
   "metadata": {},
   "outputs": [
    {
     "data": {
      "text/plain": [
       "2"
      ]
     },
     "execution_count": 110,
     "metadata": {},
     "output_type": "execute_result"
    }
   ],
   "source": [
    "functionCreatedArray.ndim"
   ]
  },
  {
   "cell_type": "code",
   "execution_count": 111,
   "metadata": {},
   "outputs": [],
   "source": [
    "reshapedArray=functionCreatedArray.reshape((15,4,1))"
   ]
  },
  {
   "cell_type": "code",
   "execution_count": 112,
   "metadata": {},
   "outputs": [
    {
     "data": {
      "text/plain": [
       "(15, 4, 1)"
      ]
     },
     "execution_count": 112,
     "metadata": {},
     "output_type": "execute_result"
    }
   ],
   "source": [
    "reshapedArray.shape"
   ]
  },
  {
   "cell_type": "code",
   "execution_count": 113,
   "metadata": {},
   "outputs": [
    {
     "data": {
      "text/plain": [
       "array([ 0,  1,  2,  3,  1,  2,  3,  4,  2,  3,  4,  5,  3,  4,  5,  6,  4,\n",
       "        5,  6,  7,  5,  6,  7,  8,  6,  7,  8,  9,  7,  8,  9, 10,  8,  9,\n",
       "       10, 11,  9, 10, 11, 12, 10, 11, 12, 13, 11, 12, 13, 14, 12, 13, 14,\n",
       "       15, 13, 14, 15, 16, 14, 15, 16, 17])"
      ]
     },
     "execution_count": 113,
     "metadata": {},
     "output_type": "execute_result"
    }
   ],
   "source": [
    "reshapedArray.ravel()"
   ]
  },
  {
   "cell_type": "markdown",
   "metadata": {},
   "source": [
    "## Reshape in new form"
   ]
  },
  {
   "cell_type": "code",
   "execution_count": 114,
   "metadata": {},
   "outputs": [],
   "source": [
    "newArr=np.arange(640)"
   ]
  },
  {
   "cell_type": "code",
   "execution_count": 115,
   "metadata": {},
   "outputs": [],
   "source": [
    "multiDimArr=newArr.reshape(40,4,4)"
   ]
  },
  {
   "cell_type": "code",
   "execution_count": 116,
   "metadata": {},
   "outputs": [
    {
     "data": {
      "text/plain": [
       "(640,)"
      ]
     },
     "execution_count": 116,
     "metadata": {},
     "output_type": "execute_result"
    }
   ],
   "source": [
    "newArr.shape"
   ]
  },
  {
   "cell_type": "code",
   "execution_count": 117,
   "metadata": {},
   "outputs": [
    {
     "data": {
      "text/plain": [
       "(40, 4, 4)"
      ]
     },
     "execution_count": 117,
     "metadata": {},
     "output_type": "execute_result"
    }
   ],
   "source": [
    "multiDimArr.shape"
   ]
  },
  {
   "cell_type": "code",
   "execution_count": 118,
   "metadata": {},
   "outputs": [
    {
     "data": {
      "text/plain": [
       "array([[[  0,   1,   2,   3],\n",
       "        [  4,   5,   6,   7],\n",
       "        [  8,   9,  10,  11],\n",
       "        [ 12,  13,  14,  15]],\n",
       "\n",
       "       [[ 16,  17,  18,  19],\n",
       "        [ 20,  21,  22,  23],\n",
       "        [ 24,  25,  26,  27],\n",
       "        [ 28,  29,  30,  31]],\n",
       "\n",
       "       [[ 32,  33,  34,  35],\n",
       "        [ 36,  37,  38,  39],\n",
       "        [ 40,  41,  42,  43],\n",
       "        [ 44,  45,  46,  47]],\n",
       "\n",
       "       [[ 48,  49,  50,  51],\n",
       "        [ 52,  53,  54,  55],\n",
       "        [ 56,  57,  58,  59],\n",
       "        [ 60,  61,  62,  63]],\n",
       "\n",
       "       [[ 64,  65,  66,  67],\n",
       "        [ 68,  69,  70,  71],\n",
       "        [ 72,  73,  74,  75],\n",
       "        [ 76,  77,  78,  79]],\n",
       "\n",
       "       [[ 80,  81,  82,  83],\n",
       "        [ 84,  85,  86,  87],\n",
       "        [ 88,  89,  90,  91],\n",
       "        [ 92,  93,  94,  95]],\n",
       "\n",
       "       [[ 96,  97,  98,  99],\n",
       "        [100, 101, 102, 103],\n",
       "        [104, 105, 106, 107],\n",
       "        [108, 109, 110, 111]],\n",
       "\n",
       "       [[112, 113, 114, 115],\n",
       "        [116, 117, 118, 119],\n",
       "        [120, 121, 122, 123],\n",
       "        [124, 125, 126, 127]],\n",
       "\n",
       "       [[128, 129, 130, 131],\n",
       "        [132, 133, 134, 135],\n",
       "        [136, 137, 138, 139],\n",
       "        [140, 141, 142, 143]],\n",
       "\n",
       "       [[144, 145, 146, 147],\n",
       "        [148, 149, 150, 151],\n",
       "        [152, 153, 154, 155],\n",
       "        [156, 157, 158, 159]],\n",
       "\n",
       "       [[160, 161, 162, 163],\n",
       "        [164, 165, 166, 167],\n",
       "        [168, 169, 170, 171],\n",
       "        [172, 173, 174, 175]],\n",
       "\n",
       "       [[176, 177, 178, 179],\n",
       "        [180, 181, 182, 183],\n",
       "        [184, 185, 186, 187],\n",
       "        [188, 189, 190, 191]],\n",
       "\n",
       "       [[192, 193, 194, 195],\n",
       "        [196, 197, 198, 199],\n",
       "        [200, 201, 202, 203],\n",
       "        [204, 205, 206, 207]],\n",
       "\n",
       "       [[208, 209, 210, 211],\n",
       "        [212, 213, 214, 215],\n",
       "        [216, 217, 218, 219],\n",
       "        [220, 221, 222, 223]],\n",
       "\n",
       "       [[224, 225, 226, 227],\n",
       "        [228, 229, 230, 231],\n",
       "        [232, 233, 234, 235],\n",
       "        [236, 237, 238, 239]],\n",
       "\n",
       "       [[240, 241, 242, 243],\n",
       "        [244, 245, 246, 247],\n",
       "        [248, 249, 250, 251],\n",
       "        [252, 253, 254, 255]],\n",
       "\n",
       "       [[256, 257, 258, 259],\n",
       "        [260, 261, 262, 263],\n",
       "        [264, 265, 266, 267],\n",
       "        [268, 269, 270, 271]],\n",
       "\n",
       "       [[272, 273, 274, 275],\n",
       "        [276, 277, 278, 279],\n",
       "        [280, 281, 282, 283],\n",
       "        [284, 285, 286, 287]],\n",
       "\n",
       "       [[288, 289, 290, 291],\n",
       "        [292, 293, 294, 295],\n",
       "        [296, 297, 298, 299],\n",
       "        [300, 301, 302, 303]],\n",
       "\n",
       "       [[304, 305, 306, 307],\n",
       "        [308, 309, 310, 311],\n",
       "        [312, 313, 314, 315],\n",
       "        [316, 317, 318, 319]],\n",
       "\n",
       "       [[320, 321, 322, 323],\n",
       "        [324, 325, 326, 327],\n",
       "        [328, 329, 330, 331],\n",
       "        [332, 333, 334, 335]],\n",
       "\n",
       "       [[336, 337, 338, 339],\n",
       "        [340, 341, 342, 343],\n",
       "        [344, 345, 346, 347],\n",
       "        [348, 349, 350, 351]],\n",
       "\n",
       "       [[352, 353, 354, 355],\n",
       "        [356, 357, 358, 359],\n",
       "        [360, 361, 362, 363],\n",
       "        [364, 365, 366, 367]],\n",
       "\n",
       "       [[368, 369, 370, 371],\n",
       "        [372, 373, 374, 375],\n",
       "        [376, 377, 378, 379],\n",
       "        [380, 381, 382, 383]],\n",
       "\n",
       "       [[384, 385, 386, 387],\n",
       "        [388, 389, 390, 391],\n",
       "        [392, 393, 394, 395],\n",
       "        [396, 397, 398, 399]],\n",
       "\n",
       "       [[400, 401, 402, 403],\n",
       "        [404, 405, 406, 407],\n",
       "        [408, 409, 410, 411],\n",
       "        [412, 413, 414, 415]],\n",
       "\n",
       "       [[416, 417, 418, 419],\n",
       "        [420, 421, 422, 423],\n",
       "        [424, 425, 426, 427],\n",
       "        [428, 429, 430, 431]],\n",
       "\n",
       "       [[432, 433, 434, 435],\n",
       "        [436, 437, 438, 439],\n",
       "        [440, 441, 442, 443],\n",
       "        [444, 445, 446, 447]],\n",
       "\n",
       "       [[448, 449, 450, 451],\n",
       "        [452, 453, 454, 455],\n",
       "        [456, 457, 458, 459],\n",
       "        [460, 461, 462, 463]],\n",
       "\n",
       "       [[464, 465, 466, 467],\n",
       "        [468, 469, 470, 471],\n",
       "        [472, 473, 474, 475],\n",
       "        [476, 477, 478, 479]],\n",
       "\n",
       "       [[480, 481, 482, 483],\n",
       "        [484, 485, 486, 487],\n",
       "        [488, 489, 490, 491],\n",
       "        [492, 493, 494, 495]],\n",
       "\n",
       "       [[496, 497, 498, 499],\n",
       "        [500, 501, 502, 503],\n",
       "        [504, 505, 506, 507],\n",
       "        [508, 509, 510, 511]],\n",
       "\n",
       "       [[512, 513, 514, 515],\n",
       "        [516, 517, 518, 519],\n",
       "        [520, 521, 522, 523],\n",
       "        [524, 525, 526, 527]],\n",
       "\n",
       "       [[528, 529, 530, 531],\n",
       "        [532, 533, 534, 535],\n",
       "        [536, 537, 538, 539],\n",
       "        [540, 541, 542, 543]],\n",
       "\n",
       "       [[544, 545, 546, 547],\n",
       "        [548, 549, 550, 551],\n",
       "        [552, 553, 554, 555],\n",
       "        [556, 557, 558, 559]],\n",
       "\n",
       "       [[560, 561, 562, 563],\n",
       "        [564, 565, 566, 567],\n",
       "        [568, 569, 570, 571],\n",
       "        [572, 573, 574, 575]],\n",
       "\n",
       "       [[576, 577, 578, 579],\n",
       "        [580, 581, 582, 583],\n",
       "        [584, 585, 586, 587],\n",
       "        [588, 589, 590, 591]],\n",
       "\n",
       "       [[592, 593, 594, 595],\n",
       "        [596, 597, 598, 599],\n",
       "        [600, 601, 602, 603],\n",
       "        [604, 605, 606, 607]],\n",
       "\n",
       "       [[608, 609, 610, 611],\n",
       "        [612, 613, 614, 615],\n",
       "        [616, 617, 618, 619],\n",
       "        [620, 621, 622, 623]],\n",
       "\n",
       "       [[624, 625, 626, 627],\n",
       "        [628, 629, 630, 631],\n",
       "        [632, 633, 634, 635],\n",
       "        [636, 637, 638, 639]]])"
      ]
     },
     "execution_count": 118,
     "metadata": {},
     "output_type": "execute_result"
    }
   ],
   "source": [
    "multiDimArr"
   ]
  },
  {
   "cell_type": "code",
   "execution_count": 119,
   "metadata": {},
   "outputs": [
    {
     "data": {
      "text/plain": [
       "(40, 4, 4)"
      ]
     },
     "execution_count": 119,
     "metadata": {},
     "output_type": "execute_result"
    }
   ],
   "source": [
    "multiDimArr.shape"
   ]
  },
  {
   "cell_type": "code",
   "execution_count": 120,
   "metadata": {},
   "outputs": [
    {
     "data": {
      "text/plain": [
       "array([[ 0,  1,  2,  3],\n",
       "       [ 4,  5,  6,  7],\n",
       "       [ 8,  9, 10, 11],\n",
       "       [12, 13, 14, 15]])"
      ]
     },
     "execution_count": 120,
     "metadata": {},
     "output_type": "execute_result"
    }
   ],
   "source": [
    "multiDimArr[0]"
   ]
  },
  {
   "cell_type": "markdown",
   "metadata": {},
   "source": [
    "#### make it as row vector by inserting an axis along first dimension"
   ]
  },
  {
   "cell_type": "code",
   "execution_count": 121,
   "metadata": {},
   "outputs": [
    {
     "data": {
      "text/plain": [
       "array([  0,   1,   2,   3,   4,   5,   6,   7,   8,   9,  10,  11,  12,\n",
       "        13,  14,  15,  16,  17,  18,  19,  20,  21,  22,  23,  24,  25,\n",
       "        26,  27,  28,  29,  30,  31,  32,  33,  34,  35,  36,  37,  38,\n",
       "        39,  40,  41,  42,  43,  44,  45,  46,  47,  48,  49,  50,  51,\n",
       "        52,  53,  54,  55,  56,  57,  58,  59,  60,  61,  62,  63,  64,\n",
       "        65,  66,  67,  68,  69,  70,  71,  72,  73,  74,  75,  76,  77,\n",
       "        78,  79,  80,  81,  82,  83,  84,  85,  86,  87,  88,  89,  90,\n",
       "        91,  92,  93,  94,  95,  96,  97,  98,  99, 100, 101, 102, 103,\n",
       "       104, 105, 106, 107, 108, 109, 110, 111, 112, 113, 114, 115, 116,\n",
       "       117, 118, 119, 120, 121, 122, 123, 124, 125, 126, 127, 128, 129,\n",
       "       130, 131, 132, 133, 134, 135, 136, 137, 138, 139, 140, 141, 142,\n",
       "       143, 144, 145, 146, 147, 148, 149, 150, 151, 152, 153, 154, 155,\n",
       "       156, 157, 158, 159, 160, 161, 162, 163, 164, 165, 166, 167, 168,\n",
       "       169, 170, 171, 172, 173, 174, 175, 176, 177, 178, 179, 180, 181,\n",
       "       182, 183, 184, 185, 186, 187, 188, 189, 190, 191, 192, 193, 194,\n",
       "       195, 196, 197, 198, 199, 200, 201, 202, 203, 204, 205, 206, 207,\n",
       "       208, 209, 210, 211, 212, 213, 214, 215, 216, 217, 218, 219, 220,\n",
       "       221, 222, 223, 224, 225, 226, 227, 228, 229, 230, 231, 232, 233,\n",
       "       234, 235, 236, 237, 238, 239, 240, 241, 242, 243, 244, 245, 246,\n",
       "       247, 248, 249, 250, 251, 252, 253, 254, 255, 256, 257, 258, 259,\n",
       "       260, 261, 262, 263, 264, 265, 266, 267, 268, 269, 270, 271, 272,\n",
       "       273, 274, 275, 276, 277, 278, 279, 280, 281, 282, 283, 284, 285,\n",
       "       286, 287, 288, 289, 290, 291, 292, 293, 294, 295, 296, 297, 298,\n",
       "       299, 300, 301, 302, 303, 304, 305, 306, 307, 308, 309, 310, 311,\n",
       "       312, 313, 314, 315, 316, 317, 318, 319, 320, 321, 322, 323, 324,\n",
       "       325, 326, 327, 328, 329, 330, 331, 332, 333, 334, 335, 336, 337,\n",
       "       338, 339, 340, 341, 342, 343, 344, 345, 346, 347, 348, 349, 350,\n",
       "       351, 352, 353, 354, 355, 356, 357, 358, 359, 360, 361, 362, 363,\n",
       "       364, 365, 366, 367, 368, 369, 370, 371, 372, 373, 374, 375, 376,\n",
       "       377, 378, 379, 380, 381, 382, 383, 384, 385, 386, 387, 388, 389,\n",
       "       390, 391, 392, 393, 394, 395, 396, 397, 398, 399, 400, 401, 402,\n",
       "       403, 404, 405, 406, 407, 408, 409, 410, 411, 412, 413, 414, 415,\n",
       "       416, 417, 418, 419, 420, 421, 422, 423, 424, 425, 426, 427, 428,\n",
       "       429, 430, 431, 432, 433, 434, 435, 436, 437, 438, 439, 440, 441,\n",
       "       442, 443, 444, 445, 446, 447, 448, 449, 450, 451, 452, 453, 454,\n",
       "       455, 456, 457, 458, 459, 460, 461, 462, 463, 464, 465, 466, 467,\n",
       "       468, 469, 470, 471, 472, 473, 474, 475, 476, 477, 478, 479, 480,\n",
       "       481, 482, 483, 484, 485, 486, 487, 488, 489, 490, 491, 492, 493,\n",
       "       494, 495, 496, 497, 498, 499, 500, 501, 502, 503, 504, 505, 506,\n",
       "       507, 508, 509, 510, 511, 512, 513, 514, 515, 516, 517, 518, 519,\n",
       "       520, 521, 522, 523, 524, 525, 526, 527, 528, 529, 530, 531, 532,\n",
       "       533, 534, 535, 536, 537, 538, 539, 540, 541, 542, 543, 544, 545,\n",
       "       546, 547, 548, 549, 550, 551, 552, 553, 554, 555, 556, 557, 558,\n",
       "       559, 560, 561, 562, 563, 564, 565, 566, 567, 568, 569, 570, 571,\n",
       "       572, 573, 574, 575, 576, 577, 578, 579, 580, 581, 582, 583, 584,\n",
       "       585, 586, 587, 588, 589, 590, 591, 592, 593, 594, 595, 596, 597,\n",
       "       598, 599, 600, 601, 602, 603, 604, 605, 606, 607, 608, 609, 610,\n",
       "       611, 612, 613, 614, 615, 616, 617, 618, 619, 620, 621, 622, 623,\n",
       "       624, 625, 626, 627, 628, 629, 630, 631, 632, 633, 634, 635, 636,\n",
       "       637, 638, 639])"
      ]
     },
     "execution_count": 121,
     "metadata": {},
     "output_type": "execute_result"
    }
   ],
   "source": [
    "newArr"
   ]
  },
  {
   "cell_type": "code",
   "execution_count": 122,
   "metadata": {},
   "outputs": [
    {
     "data": {
      "text/plain": [
       "array([[  0,   1,   2,   3,   4,   5,   6,   7,   8,   9,  10,  11,  12,\n",
       "         13,  14,  15,  16,  17,  18,  19,  20,  21,  22,  23,  24,  25,\n",
       "         26,  27,  28,  29,  30,  31,  32,  33,  34,  35,  36,  37,  38,\n",
       "         39,  40,  41,  42,  43,  44,  45,  46,  47,  48,  49,  50,  51,\n",
       "         52,  53,  54,  55,  56,  57,  58,  59,  60,  61,  62,  63,  64,\n",
       "         65,  66,  67,  68,  69,  70,  71,  72,  73,  74,  75,  76,  77,\n",
       "         78,  79,  80,  81,  82,  83,  84,  85,  86,  87,  88,  89,  90,\n",
       "         91,  92,  93,  94,  95,  96,  97,  98,  99, 100, 101, 102, 103,\n",
       "        104, 105, 106, 107, 108, 109, 110, 111, 112, 113, 114, 115, 116,\n",
       "        117, 118, 119, 120, 121, 122, 123, 124, 125, 126, 127, 128, 129,\n",
       "        130, 131, 132, 133, 134, 135, 136, 137, 138, 139, 140, 141, 142,\n",
       "        143, 144, 145, 146, 147, 148, 149, 150, 151, 152, 153, 154, 155,\n",
       "        156, 157, 158, 159, 160, 161, 162, 163, 164, 165, 166, 167, 168,\n",
       "        169, 170, 171, 172, 173, 174, 175, 176, 177, 178, 179, 180, 181,\n",
       "        182, 183, 184, 185, 186, 187, 188, 189, 190, 191, 192, 193, 194,\n",
       "        195, 196, 197, 198, 199, 200, 201, 202, 203, 204, 205, 206, 207,\n",
       "        208, 209, 210, 211, 212, 213, 214, 215, 216, 217, 218, 219, 220,\n",
       "        221, 222, 223, 224, 225, 226, 227, 228, 229, 230, 231, 232, 233,\n",
       "        234, 235, 236, 237, 238, 239, 240, 241, 242, 243, 244, 245, 246,\n",
       "        247, 248, 249, 250, 251, 252, 253, 254, 255, 256, 257, 258, 259,\n",
       "        260, 261, 262, 263, 264, 265, 266, 267, 268, 269, 270, 271, 272,\n",
       "        273, 274, 275, 276, 277, 278, 279, 280, 281, 282, 283, 284, 285,\n",
       "        286, 287, 288, 289, 290, 291, 292, 293, 294, 295, 296, 297, 298,\n",
       "        299, 300, 301, 302, 303, 304, 305, 306, 307, 308, 309, 310, 311,\n",
       "        312, 313, 314, 315, 316, 317, 318, 319, 320, 321, 322, 323, 324,\n",
       "        325, 326, 327, 328, 329, 330, 331, 332, 333, 334, 335, 336, 337,\n",
       "        338, 339, 340, 341, 342, 343, 344, 345, 346, 347, 348, 349, 350,\n",
       "        351, 352, 353, 354, 355, 356, 357, 358, 359, 360, 361, 362, 363,\n",
       "        364, 365, 366, 367, 368, 369, 370, 371, 372, 373, 374, 375, 376,\n",
       "        377, 378, 379, 380, 381, 382, 383, 384, 385, 386, 387, 388, 389,\n",
       "        390, 391, 392, 393, 394, 395, 396, 397, 398, 399, 400, 401, 402,\n",
       "        403, 404, 405, 406, 407, 408, 409, 410, 411, 412, 413, 414, 415,\n",
       "        416, 417, 418, 419, 420, 421, 422, 423, 424, 425, 426, 427, 428,\n",
       "        429, 430, 431, 432, 433, 434, 435, 436, 437, 438, 439, 440, 441,\n",
       "        442, 443, 444, 445, 446, 447, 448, 449, 450, 451, 452, 453, 454,\n",
       "        455, 456, 457, 458, 459, 460, 461, 462, 463, 464, 465, 466, 467,\n",
       "        468, 469, 470, 471, 472, 473, 474, 475, 476, 477, 478, 479, 480,\n",
       "        481, 482, 483, 484, 485, 486, 487, 488, 489, 490, 491, 492, 493,\n",
       "        494, 495, 496, 497, 498, 499, 500, 501, 502, 503, 504, 505, 506,\n",
       "        507, 508, 509, 510, 511, 512, 513, 514, 515, 516, 517, 518, 519,\n",
       "        520, 521, 522, 523, 524, 525, 526, 527, 528, 529, 530, 531, 532,\n",
       "        533, 534, 535, 536, 537, 538, 539, 540, 541, 542, 543, 544, 545,\n",
       "        546, 547, 548, 549, 550, 551, 552, 553, 554, 555, 556, 557, 558,\n",
       "        559, 560, 561, 562, 563, 564, 565, 566, 567, 568, 569, 570, 571,\n",
       "        572, 573, 574, 575, 576, 577, 578, 579, 580, 581, 582, 583, 584,\n",
       "        585, 586, 587, 588, 589, 590, 591, 592, 593, 594, 595, 596, 597,\n",
       "        598, 599, 600, 601, 602, 603, 604, 605, 606, 607, 608, 609, 610,\n",
       "        611, 612, 613, 614, 615, 616, 617, 618, 619, 620, 621, 622, 623,\n",
       "        624, 625, 626, 627, 628, 629, 630, 631, 632, 633, 634, 635, 636,\n",
       "        637, 638, 639]])"
      ]
     },
     "execution_count": 122,
     "metadata": {},
     "output_type": "execute_result"
    }
   ],
   "source": [
    "newArr[np.newaxis,:]"
   ]
  },
  {
   "cell_type": "code",
   "execution_count": 123,
   "metadata": {},
   "outputs": [
    {
     "data": {
      "text/plain": [
       "(1, 640)"
      ]
     },
     "execution_count": 123,
     "metadata": {},
     "output_type": "execute_result"
    }
   ],
   "source": [
    "newArr[np.newaxis,:].shape"
   ]
  },
  {
   "cell_type": "code",
   "execution_count": 124,
   "metadata": {},
   "outputs": [
    {
     "data": {
      "text/plain": [
       "array([[  0],\n",
       "       [  1],\n",
       "       [  2],\n",
       "       [  3],\n",
       "       [  4],\n",
       "       [  5],\n",
       "       [  6],\n",
       "       [  7],\n",
       "       [  8],\n",
       "       [  9],\n",
       "       [ 10],\n",
       "       [ 11],\n",
       "       [ 12],\n",
       "       [ 13],\n",
       "       [ 14],\n",
       "       [ 15],\n",
       "       [ 16],\n",
       "       [ 17],\n",
       "       [ 18],\n",
       "       [ 19],\n",
       "       [ 20],\n",
       "       [ 21],\n",
       "       [ 22],\n",
       "       [ 23],\n",
       "       [ 24],\n",
       "       [ 25],\n",
       "       [ 26],\n",
       "       [ 27],\n",
       "       [ 28],\n",
       "       [ 29],\n",
       "       [ 30],\n",
       "       [ 31],\n",
       "       [ 32],\n",
       "       [ 33],\n",
       "       [ 34],\n",
       "       [ 35],\n",
       "       [ 36],\n",
       "       [ 37],\n",
       "       [ 38],\n",
       "       [ 39],\n",
       "       [ 40],\n",
       "       [ 41],\n",
       "       [ 42],\n",
       "       [ 43],\n",
       "       [ 44],\n",
       "       [ 45],\n",
       "       [ 46],\n",
       "       [ 47],\n",
       "       [ 48],\n",
       "       [ 49],\n",
       "       [ 50],\n",
       "       [ 51],\n",
       "       [ 52],\n",
       "       [ 53],\n",
       "       [ 54],\n",
       "       [ 55],\n",
       "       [ 56],\n",
       "       [ 57],\n",
       "       [ 58],\n",
       "       [ 59],\n",
       "       [ 60],\n",
       "       [ 61],\n",
       "       [ 62],\n",
       "       [ 63],\n",
       "       [ 64],\n",
       "       [ 65],\n",
       "       [ 66],\n",
       "       [ 67],\n",
       "       [ 68],\n",
       "       [ 69],\n",
       "       [ 70],\n",
       "       [ 71],\n",
       "       [ 72],\n",
       "       [ 73],\n",
       "       [ 74],\n",
       "       [ 75],\n",
       "       [ 76],\n",
       "       [ 77],\n",
       "       [ 78],\n",
       "       [ 79],\n",
       "       [ 80],\n",
       "       [ 81],\n",
       "       [ 82],\n",
       "       [ 83],\n",
       "       [ 84],\n",
       "       [ 85],\n",
       "       [ 86],\n",
       "       [ 87],\n",
       "       [ 88],\n",
       "       [ 89],\n",
       "       [ 90],\n",
       "       [ 91],\n",
       "       [ 92],\n",
       "       [ 93],\n",
       "       [ 94],\n",
       "       [ 95],\n",
       "       [ 96],\n",
       "       [ 97],\n",
       "       [ 98],\n",
       "       [ 99],\n",
       "       [100],\n",
       "       [101],\n",
       "       [102],\n",
       "       [103],\n",
       "       [104],\n",
       "       [105],\n",
       "       [106],\n",
       "       [107],\n",
       "       [108],\n",
       "       [109],\n",
       "       [110],\n",
       "       [111],\n",
       "       [112],\n",
       "       [113],\n",
       "       [114],\n",
       "       [115],\n",
       "       [116],\n",
       "       [117],\n",
       "       [118],\n",
       "       [119],\n",
       "       [120],\n",
       "       [121],\n",
       "       [122],\n",
       "       [123],\n",
       "       [124],\n",
       "       [125],\n",
       "       [126],\n",
       "       [127],\n",
       "       [128],\n",
       "       [129],\n",
       "       [130],\n",
       "       [131],\n",
       "       [132],\n",
       "       [133],\n",
       "       [134],\n",
       "       [135],\n",
       "       [136],\n",
       "       [137],\n",
       "       [138],\n",
       "       [139],\n",
       "       [140],\n",
       "       [141],\n",
       "       [142],\n",
       "       [143],\n",
       "       [144],\n",
       "       [145],\n",
       "       [146],\n",
       "       [147],\n",
       "       [148],\n",
       "       [149],\n",
       "       [150],\n",
       "       [151],\n",
       "       [152],\n",
       "       [153],\n",
       "       [154],\n",
       "       [155],\n",
       "       [156],\n",
       "       [157],\n",
       "       [158],\n",
       "       [159],\n",
       "       [160],\n",
       "       [161],\n",
       "       [162],\n",
       "       [163],\n",
       "       [164],\n",
       "       [165],\n",
       "       [166],\n",
       "       [167],\n",
       "       [168],\n",
       "       [169],\n",
       "       [170],\n",
       "       [171],\n",
       "       [172],\n",
       "       [173],\n",
       "       [174],\n",
       "       [175],\n",
       "       [176],\n",
       "       [177],\n",
       "       [178],\n",
       "       [179],\n",
       "       [180],\n",
       "       [181],\n",
       "       [182],\n",
       "       [183],\n",
       "       [184],\n",
       "       [185],\n",
       "       [186],\n",
       "       [187],\n",
       "       [188],\n",
       "       [189],\n",
       "       [190],\n",
       "       [191],\n",
       "       [192],\n",
       "       [193],\n",
       "       [194],\n",
       "       [195],\n",
       "       [196],\n",
       "       [197],\n",
       "       [198],\n",
       "       [199],\n",
       "       [200],\n",
       "       [201],\n",
       "       [202],\n",
       "       [203],\n",
       "       [204],\n",
       "       [205],\n",
       "       [206],\n",
       "       [207],\n",
       "       [208],\n",
       "       [209],\n",
       "       [210],\n",
       "       [211],\n",
       "       [212],\n",
       "       [213],\n",
       "       [214],\n",
       "       [215],\n",
       "       [216],\n",
       "       [217],\n",
       "       [218],\n",
       "       [219],\n",
       "       [220],\n",
       "       [221],\n",
       "       [222],\n",
       "       [223],\n",
       "       [224],\n",
       "       [225],\n",
       "       [226],\n",
       "       [227],\n",
       "       [228],\n",
       "       [229],\n",
       "       [230],\n",
       "       [231],\n",
       "       [232],\n",
       "       [233],\n",
       "       [234],\n",
       "       [235],\n",
       "       [236],\n",
       "       [237],\n",
       "       [238],\n",
       "       [239],\n",
       "       [240],\n",
       "       [241],\n",
       "       [242],\n",
       "       [243],\n",
       "       [244],\n",
       "       [245],\n",
       "       [246],\n",
       "       [247],\n",
       "       [248],\n",
       "       [249],\n",
       "       [250],\n",
       "       [251],\n",
       "       [252],\n",
       "       [253],\n",
       "       [254],\n",
       "       [255],\n",
       "       [256],\n",
       "       [257],\n",
       "       [258],\n",
       "       [259],\n",
       "       [260],\n",
       "       [261],\n",
       "       [262],\n",
       "       [263],\n",
       "       [264],\n",
       "       [265],\n",
       "       [266],\n",
       "       [267],\n",
       "       [268],\n",
       "       [269],\n",
       "       [270],\n",
       "       [271],\n",
       "       [272],\n",
       "       [273],\n",
       "       [274],\n",
       "       [275],\n",
       "       [276],\n",
       "       [277],\n",
       "       [278],\n",
       "       [279],\n",
       "       [280],\n",
       "       [281],\n",
       "       [282],\n",
       "       [283],\n",
       "       [284],\n",
       "       [285],\n",
       "       [286],\n",
       "       [287],\n",
       "       [288],\n",
       "       [289],\n",
       "       [290],\n",
       "       [291],\n",
       "       [292],\n",
       "       [293],\n",
       "       [294],\n",
       "       [295],\n",
       "       [296],\n",
       "       [297],\n",
       "       [298],\n",
       "       [299],\n",
       "       [300],\n",
       "       [301],\n",
       "       [302],\n",
       "       [303],\n",
       "       [304],\n",
       "       [305],\n",
       "       [306],\n",
       "       [307],\n",
       "       [308],\n",
       "       [309],\n",
       "       [310],\n",
       "       [311],\n",
       "       [312],\n",
       "       [313],\n",
       "       [314],\n",
       "       [315],\n",
       "       [316],\n",
       "       [317],\n",
       "       [318],\n",
       "       [319],\n",
       "       [320],\n",
       "       [321],\n",
       "       [322],\n",
       "       [323],\n",
       "       [324],\n",
       "       [325],\n",
       "       [326],\n",
       "       [327],\n",
       "       [328],\n",
       "       [329],\n",
       "       [330],\n",
       "       [331],\n",
       "       [332],\n",
       "       [333],\n",
       "       [334],\n",
       "       [335],\n",
       "       [336],\n",
       "       [337],\n",
       "       [338],\n",
       "       [339],\n",
       "       [340],\n",
       "       [341],\n",
       "       [342],\n",
       "       [343],\n",
       "       [344],\n",
       "       [345],\n",
       "       [346],\n",
       "       [347],\n",
       "       [348],\n",
       "       [349],\n",
       "       [350],\n",
       "       [351],\n",
       "       [352],\n",
       "       [353],\n",
       "       [354],\n",
       "       [355],\n",
       "       [356],\n",
       "       [357],\n",
       "       [358],\n",
       "       [359],\n",
       "       [360],\n",
       "       [361],\n",
       "       [362],\n",
       "       [363],\n",
       "       [364],\n",
       "       [365],\n",
       "       [366],\n",
       "       [367],\n",
       "       [368],\n",
       "       [369],\n",
       "       [370],\n",
       "       [371],\n",
       "       [372],\n",
       "       [373],\n",
       "       [374],\n",
       "       [375],\n",
       "       [376],\n",
       "       [377],\n",
       "       [378],\n",
       "       [379],\n",
       "       [380],\n",
       "       [381],\n",
       "       [382],\n",
       "       [383],\n",
       "       [384],\n",
       "       [385],\n",
       "       [386],\n",
       "       [387],\n",
       "       [388],\n",
       "       [389],\n",
       "       [390],\n",
       "       [391],\n",
       "       [392],\n",
       "       [393],\n",
       "       [394],\n",
       "       [395],\n",
       "       [396],\n",
       "       [397],\n",
       "       [398],\n",
       "       [399],\n",
       "       [400],\n",
       "       [401],\n",
       "       [402],\n",
       "       [403],\n",
       "       [404],\n",
       "       [405],\n",
       "       [406],\n",
       "       [407],\n",
       "       [408],\n",
       "       [409],\n",
       "       [410],\n",
       "       [411],\n",
       "       [412],\n",
       "       [413],\n",
       "       [414],\n",
       "       [415],\n",
       "       [416],\n",
       "       [417],\n",
       "       [418],\n",
       "       [419],\n",
       "       [420],\n",
       "       [421],\n",
       "       [422],\n",
       "       [423],\n",
       "       [424],\n",
       "       [425],\n",
       "       [426],\n",
       "       [427],\n",
       "       [428],\n",
       "       [429],\n",
       "       [430],\n",
       "       [431],\n",
       "       [432],\n",
       "       [433],\n",
       "       [434],\n",
       "       [435],\n",
       "       [436],\n",
       "       [437],\n",
       "       [438],\n",
       "       [439],\n",
       "       [440],\n",
       "       [441],\n",
       "       [442],\n",
       "       [443],\n",
       "       [444],\n",
       "       [445],\n",
       "       [446],\n",
       "       [447],\n",
       "       [448],\n",
       "       [449],\n",
       "       [450],\n",
       "       [451],\n",
       "       [452],\n",
       "       [453],\n",
       "       [454],\n",
       "       [455],\n",
       "       [456],\n",
       "       [457],\n",
       "       [458],\n",
       "       [459],\n",
       "       [460],\n",
       "       [461],\n",
       "       [462],\n",
       "       [463],\n",
       "       [464],\n",
       "       [465],\n",
       "       [466],\n",
       "       [467],\n",
       "       [468],\n",
       "       [469],\n",
       "       [470],\n",
       "       [471],\n",
       "       [472],\n",
       "       [473],\n",
       "       [474],\n",
       "       [475],\n",
       "       [476],\n",
       "       [477],\n",
       "       [478],\n",
       "       [479],\n",
       "       [480],\n",
       "       [481],\n",
       "       [482],\n",
       "       [483],\n",
       "       [484],\n",
       "       [485],\n",
       "       [486],\n",
       "       [487],\n",
       "       [488],\n",
       "       [489],\n",
       "       [490],\n",
       "       [491],\n",
       "       [492],\n",
       "       [493],\n",
       "       [494],\n",
       "       [495],\n",
       "       [496],\n",
       "       [497],\n",
       "       [498],\n",
       "       [499],\n",
       "       [500],\n",
       "       [501],\n",
       "       [502],\n",
       "       [503],\n",
       "       [504],\n",
       "       [505],\n",
       "       [506],\n",
       "       [507],\n",
       "       [508],\n",
       "       [509],\n",
       "       [510],\n",
       "       [511],\n",
       "       [512],\n",
       "       [513],\n",
       "       [514],\n",
       "       [515],\n",
       "       [516],\n",
       "       [517],\n",
       "       [518],\n",
       "       [519],\n",
       "       [520],\n",
       "       [521],\n",
       "       [522],\n",
       "       [523],\n",
       "       [524],\n",
       "       [525],\n",
       "       [526],\n",
       "       [527],\n",
       "       [528],\n",
       "       [529],\n",
       "       [530],\n",
       "       [531],\n",
       "       [532],\n",
       "       [533],\n",
       "       [534],\n",
       "       [535],\n",
       "       [536],\n",
       "       [537],\n",
       "       [538],\n",
       "       [539],\n",
       "       [540],\n",
       "       [541],\n",
       "       [542],\n",
       "       [543],\n",
       "       [544],\n",
       "       [545],\n",
       "       [546],\n",
       "       [547],\n",
       "       [548],\n",
       "       [549],\n",
       "       [550],\n",
       "       [551],\n",
       "       [552],\n",
       "       [553],\n",
       "       [554],\n",
       "       [555],\n",
       "       [556],\n",
       "       [557],\n",
       "       [558],\n",
       "       [559],\n",
       "       [560],\n",
       "       [561],\n",
       "       [562],\n",
       "       [563],\n",
       "       [564],\n",
       "       [565],\n",
       "       [566],\n",
       "       [567],\n",
       "       [568],\n",
       "       [569],\n",
       "       [570],\n",
       "       [571],\n",
       "       [572],\n",
       "       [573],\n",
       "       [574],\n",
       "       [575],\n",
       "       [576],\n",
       "       [577],\n",
       "       [578],\n",
       "       [579],\n",
       "       [580],\n",
       "       [581],\n",
       "       [582],\n",
       "       [583],\n",
       "       [584],\n",
       "       [585],\n",
       "       [586],\n",
       "       [587],\n",
       "       [588],\n",
       "       [589],\n",
       "       [590],\n",
       "       [591],\n",
       "       [592],\n",
       "       [593],\n",
       "       [594],\n",
       "       [595],\n",
       "       [596],\n",
       "       [597],\n",
       "       [598],\n",
       "       [599],\n",
       "       [600],\n",
       "       [601],\n",
       "       [602],\n",
       "       [603],\n",
       "       [604],\n",
       "       [605],\n",
       "       [606],\n",
       "       [607],\n",
       "       [608],\n",
       "       [609],\n",
       "       [610],\n",
       "       [611],\n",
       "       [612],\n",
       "       [613],\n",
       "       [614],\n",
       "       [615],\n",
       "       [616],\n",
       "       [617],\n",
       "       [618],\n",
       "       [619],\n",
       "       [620],\n",
       "       [621],\n",
       "       [622],\n",
       "       [623],\n",
       "       [624],\n",
       "       [625],\n",
       "       [626],\n",
       "       [627],\n",
       "       [628],\n",
       "       [629],\n",
       "       [630],\n",
       "       [631],\n",
       "       [632],\n",
       "       [633],\n",
       "       [634],\n",
       "       [635],\n",
       "       [636],\n",
       "       [637],\n",
       "       [638],\n",
       "       [639]])"
      ]
     },
     "execution_count": 124,
     "metadata": {},
     "output_type": "execute_result"
    }
   ],
   "source": [
    "newArr[:,np.newaxis]"
   ]
  },
  {
   "cell_type": "code",
   "execution_count": 125,
   "metadata": {},
   "outputs": [
    {
     "data": {
      "text/plain": [
       "(640, 1)"
      ]
     },
     "execution_count": 125,
     "metadata": {},
     "output_type": "execute_result"
    }
   ],
   "source": [
    "newArr[:,np.newaxis].shape"
   ]
  },
  {
   "cell_type": "code",
   "execution_count": null,
   "metadata": {},
   "outputs": [],
   "source": []
  },
  {
   "cell_type": "markdown",
   "metadata": {},
   "source": [
    "## Numpy Where"
   ]
  },
  {
   "cell_type": "code",
   "execution_count": 126,
   "metadata": {},
   "outputs": [],
   "source": [
    "data = np.arange(100,500,50)"
   ]
  },
  {
   "cell_type": "code",
   "execution_count": 127,
   "metadata": {},
   "outputs": [
    {
     "data": {
      "text/plain": [
       "array([100, 150, 200, 250, 300, 350, 400, 450])"
      ]
     },
     "execution_count": 127,
     "metadata": {},
     "output_type": "execute_result"
    }
   ],
   "source": [
    "data"
   ]
  },
  {
   "cell_type": "code",
   "execution_count": 128,
   "metadata": {},
   "outputs": [
    {
     "data": {
      "text/plain": [
       "(array([0, 1, 2, 3], dtype=int64),)"
      ]
     },
     "execution_count": 128,
     "metadata": {},
     "output_type": "execute_result"
    }
   ],
   "source": [
    "np.where(data<300)"
   ]
  },
  {
   "cell_type": "code",
   "execution_count": 129,
   "metadata": {},
   "outputs": [
    {
     "data": {
      "text/plain": [
       "array([100, 150, 200, 250])"
      ]
     },
     "execution_count": 129,
     "metadata": {},
     "output_type": "execute_result"
    }
   ],
   "source": [
    "data[np.where(data<300)]"
   ]
  },
  {
   "cell_type": "markdown",
   "metadata": {},
   "source": [
    "# Reshape in new form"
   ]
  },
  {
   "cell_type": "code",
   "execution_count": 130,
   "metadata": {},
   "outputs": [],
   "source": [
    "newarr = np.arange(640)\n"
   ]
  },
  {
   "cell_type": "code",
   "execution_count": 131,
   "metadata": {},
   "outputs": [],
   "source": [
    "multidimarr = newarr.reshape(40,4,4)"
   ]
  },
  {
   "cell_type": "code",
   "execution_count": 132,
   "metadata": {},
   "outputs": [
    {
     "data": {
      "text/plain": [
       "array([  0,   1,   2,   3,   4,   5,   6,   7,   8,   9,  10,  11,  12,\n",
       "        13,  14,  15,  16,  17,  18,  19,  20,  21,  22,  23,  24,  25,\n",
       "        26,  27,  28,  29,  30,  31,  32,  33,  34,  35,  36,  37,  38,\n",
       "        39,  40,  41,  42,  43,  44,  45,  46,  47,  48,  49,  50,  51,\n",
       "        52,  53,  54,  55,  56,  57,  58,  59,  60,  61,  62,  63,  64,\n",
       "        65,  66,  67,  68,  69,  70,  71,  72,  73,  74,  75,  76,  77,\n",
       "        78,  79,  80,  81,  82,  83,  84,  85,  86,  87,  88,  89,  90,\n",
       "        91,  92,  93,  94,  95,  96,  97,  98,  99, 100, 101, 102, 103,\n",
       "       104, 105, 106, 107, 108, 109, 110, 111, 112, 113, 114, 115, 116,\n",
       "       117, 118, 119, 120, 121, 122, 123, 124, 125, 126, 127, 128, 129,\n",
       "       130, 131, 132, 133, 134, 135, 136, 137, 138, 139, 140, 141, 142,\n",
       "       143, 144, 145, 146, 147, 148, 149, 150, 151, 152, 153, 154, 155,\n",
       "       156, 157, 158, 159, 160, 161, 162, 163, 164, 165, 166, 167, 168,\n",
       "       169, 170, 171, 172, 173, 174, 175, 176, 177, 178, 179, 180, 181,\n",
       "       182, 183, 184, 185, 186, 187, 188, 189, 190, 191, 192, 193, 194,\n",
       "       195, 196, 197, 198, 199, 200, 201, 202, 203, 204, 205, 206, 207,\n",
       "       208, 209, 210, 211, 212, 213, 214, 215, 216, 217, 218, 219, 220,\n",
       "       221, 222, 223, 224, 225, 226, 227, 228, 229, 230, 231, 232, 233,\n",
       "       234, 235, 236, 237, 238, 239, 240, 241, 242, 243, 244, 245, 246,\n",
       "       247, 248, 249, 250, 251, 252, 253, 254, 255, 256, 257, 258, 259,\n",
       "       260, 261, 262, 263, 264, 265, 266, 267, 268, 269, 270, 271, 272,\n",
       "       273, 274, 275, 276, 277, 278, 279, 280, 281, 282, 283, 284, 285,\n",
       "       286, 287, 288, 289, 290, 291, 292, 293, 294, 295, 296, 297, 298,\n",
       "       299, 300, 301, 302, 303, 304, 305, 306, 307, 308, 309, 310, 311,\n",
       "       312, 313, 314, 315, 316, 317, 318, 319, 320, 321, 322, 323, 324,\n",
       "       325, 326, 327, 328, 329, 330, 331, 332, 333, 334, 335, 336, 337,\n",
       "       338, 339, 340, 341, 342, 343, 344, 345, 346, 347, 348, 349, 350,\n",
       "       351, 352, 353, 354, 355, 356, 357, 358, 359, 360, 361, 362, 363,\n",
       "       364, 365, 366, 367, 368, 369, 370, 371, 372, 373, 374, 375, 376,\n",
       "       377, 378, 379, 380, 381, 382, 383, 384, 385, 386, 387, 388, 389,\n",
       "       390, 391, 392, 393, 394, 395, 396, 397, 398, 399, 400, 401, 402,\n",
       "       403, 404, 405, 406, 407, 408, 409, 410, 411, 412, 413, 414, 415,\n",
       "       416, 417, 418, 419, 420, 421, 422, 423, 424, 425, 426, 427, 428,\n",
       "       429, 430, 431, 432, 433, 434, 435, 436, 437, 438, 439, 440, 441,\n",
       "       442, 443, 444, 445, 446, 447, 448, 449, 450, 451, 452, 453, 454,\n",
       "       455, 456, 457, 458, 459, 460, 461, 462, 463, 464, 465, 466, 467,\n",
       "       468, 469, 470, 471, 472, 473, 474, 475, 476, 477, 478, 479, 480,\n",
       "       481, 482, 483, 484, 485, 486, 487, 488, 489, 490, 491, 492, 493,\n",
       "       494, 495, 496, 497, 498, 499, 500, 501, 502, 503, 504, 505, 506,\n",
       "       507, 508, 509, 510, 511, 512, 513, 514, 515, 516, 517, 518, 519,\n",
       "       520, 521, 522, 523, 524, 525, 526, 527, 528, 529, 530, 531, 532,\n",
       "       533, 534, 535, 536, 537, 538, 539, 540, 541, 542, 543, 544, 545,\n",
       "       546, 547, 548, 549, 550, 551, 552, 553, 554, 555, 556, 557, 558,\n",
       "       559, 560, 561, 562, 563, 564, 565, 566, 567, 568, 569, 570, 571,\n",
       "       572, 573, 574, 575, 576, 577, 578, 579, 580, 581, 582, 583, 584,\n",
       "       585, 586, 587, 588, 589, 590, 591, 592, 593, 594, 595, 596, 597,\n",
       "       598, 599, 600, 601, 602, 603, 604, 605, 606, 607, 608, 609, 610,\n",
       "       611, 612, 613, 614, 615, 616, 617, 618, 619, 620, 621, 622, 623,\n",
       "       624, 625, 626, 627, 628, 629, 630, 631, 632, 633, 634, 635, 636,\n",
       "       637, 638, 639])"
      ]
     },
     "execution_count": 132,
     "metadata": {},
     "output_type": "execute_result"
    }
   ],
   "source": [
    "newarr"
   ]
  },
  {
   "cell_type": "code",
   "execution_count": 133,
   "metadata": {},
   "outputs": [
    {
     "data": {
      "text/plain": [
       "array([[[  0,   1,   2,   3],\n",
       "        [  4,   5,   6,   7],\n",
       "        [  8,   9,  10,  11],\n",
       "        [ 12,  13,  14,  15]],\n",
       "\n",
       "       [[ 16,  17,  18,  19],\n",
       "        [ 20,  21,  22,  23],\n",
       "        [ 24,  25,  26,  27],\n",
       "        [ 28,  29,  30,  31]],\n",
       "\n",
       "       [[ 32,  33,  34,  35],\n",
       "        [ 36,  37,  38,  39],\n",
       "        [ 40,  41,  42,  43],\n",
       "        [ 44,  45,  46,  47]],\n",
       "\n",
       "       [[ 48,  49,  50,  51],\n",
       "        [ 52,  53,  54,  55],\n",
       "        [ 56,  57,  58,  59],\n",
       "        [ 60,  61,  62,  63]],\n",
       "\n",
       "       [[ 64,  65,  66,  67],\n",
       "        [ 68,  69,  70,  71],\n",
       "        [ 72,  73,  74,  75],\n",
       "        [ 76,  77,  78,  79]],\n",
       "\n",
       "       [[ 80,  81,  82,  83],\n",
       "        [ 84,  85,  86,  87],\n",
       "        [ 88,  89,  90,  91],\n",
       "        [ 92,  93,  94,  95]],\n",
       "\n",
       "       [[ 96,  97,  98,  99],\n",
       "        [100, 101, 102, 103],\n",
       "        [104, 105, 106, 107],\n",
       "        [108, 109, 110, 111]],\n",
       "\n",
       "       [[112, 113, 114, 115],\n",
       "        [116, 117, 118, 119],\n",
       "        [120, 121, 122, 123],\n",
       "        [124, 125, 126, 127]],\n",
       "\n",
       "       [[128, 129, 130, 131],\n",
       "        [132, 133, 134, 135],\n",
       "        [136, 137, 138, 139],\n",
       "        [140, 141, 142, 143]],\n",
       "\n",
       "       [[144, 145, 146, 147],\n",
       "        [148, 149, 150, 151],\n",
       "        [152, 153, 154, 155],\n",
       "        [156, 157, 158, 159]],\n",
       "\n",
       "       [[160, 161, 162, 163],\n",
       "        [164, 165, 166, 167],\n",
       "        [168, 169, 170, 171],\n",
       "        [172, 173, 174, 175]],\n",
       "\n",
       "       [[176, 177, 178, 179],\n",
       "        [180, 181, 182, 183],\n",
       "        [184, 185, 186, 187],\n",
       "        [188, 189, 190, 191]],\n",
       "\n",
       "       [[192, 193, 194, 195],\n",
       "        [196, 197, 198, 199],\n",
       "        [200, 201, 202, 203],\n",
       "        [204, 205, 206, 207]],\n",
       "\n",
       "       [[208, 209, 210, 211],\n",
       "        [212, 213, 214, 215],\n",
       "        [216, 217, 218, 219],\n",
       "        [220, 221, 222, 223]],\n",
       "\n",
       "       [[224, 225, 226, 227],\n",
       "        [228, 229, 230, 231],\n",
       "        [232, 233, 234, 235],\n",
       "        [236, 237, 238, 239]],\n",
       "\n",
       "       [[240, 241, 242, 243],\n",
       "        [244, 245, 246, 247],\n",
       "        [248, 249, 250, 251],\n",
       "        [252, 253, 254, 255]],\n",
       "\n",
       "       [[256, 257, 258, 259],\n",
       "        [260, 261, 262, 263],\n",
       "        [264, 265, 266, 267],\n",
       "        [268, 269, 270, 271]],\n",
       "\n",
       "       [[272, 273, 274, 275],\n",
       "        [276, 277, 278, 279],\n",
       "        [280, 281, 282, 283],\n",
       "        [284, 285, 286, 287]],\n",
       "\n",
       "       [[288, 289, 290, 291],\n",
       "        [292, 293, 294, 295],\n",
       "        [296, 297, 298, 299],\n",
       "        [300, 301, 302, 303]],\n",
       "\n",
       "       [[304, 305, 306, 307],\n",
       "        [308, 309, 310, 311],\n",
       "        [312, 313, 314, 315],\n",
       "        [316, 317, 318, 319]],\n",
       "\n",
       "       [[320, 321, 322, 323],\n",
       "        [324, 325, 326, 327],\n",
       "        [328, 329, 330, 331],\n",
       "        [332, 333, 334, 335]],\n",
       "\n",
       "       [[336, 337, 338, 339],\n",
       "        [340, 341, 342, 343],\n",
       "        [344, 345, 346, 347],\n",
       "        [348, 349, 350, 351]],\n",
       "\n",
       "       [[352, 353, 354, 355],\n",
       "        [356, 357, 358, 359],\n",
       "        [360, 361, 362, 363],\n",
       "        [364, 365, 366, 367]],\n",
       "\n",
       "       [[368, 369, 370, 371],\n",
       "        [372, 373, 374, 375],\n",
       "        [376, 377, 378, 379],\n",
       "        [380, 381, 382, 383]],\n",
       "\n",
       "       [[384, 385, 386, 387],\n",
       "        [388, 389, 390, 391],\n",
       "        [392, 393, 394, 395],\n",
       "        [396, 397, 398, 399]],\n",
       "\n",
       "       [[400, 401, 402, 403],\n",
       "        [404, 405, 406, 407],\n",
       "        [408, 409, 410, 411],\n",
       "        [412, 413, 414, 415]],\n",
       "\n",
       "       [[416, 417, 418, 419],\n",
       "        [420, 421, 422, 423],\n",
       "        [424, 425, 426, 427],\n",
       "        [428, 429, 430, 431]],\n",
       "\n",
       "       [[432, 433, 434, 435],\n",
       "        [436, 437, 438, 439],\n",
       "        [440, 441, 442, 443],\n",
       "        [444, 445, 446, 447]],\n",
       "\n",
       "       [[448, 449, 450, 451],\n",
       "        [452, 453, 454, 455],\n",
       "        [456, 457, 458, 459],\n",
       "        [460, 461, 462, 463]],\n",
       "\n",
       "       [[464, 465, 466, 467],\n",
       "        [468, 469, 470, 471],\n",
       "        [472, 473, 474, 475],\n",
       "        [476, 477, 478, 479]],\n",
       "\n",
       "       [[480, 481, 482, 483],\n",
       "        [484, 485, 486, 487],\n",
       "        [488, 489, 490, 491],\n",
       "        [492, 493, 494, 495]],\n",
       "\n",
       "       [[496, 497, 498, 499],\n",
       "        [500, 501, 502, 503],\n",
       "        [504, 505, 506, 507],\n",
       "        [508, 509, 510, 511]],\n",
       "\n",
       "       [[512, 513, 514, 515],\n",
       "        [516, 517, 518, 519],\n",
       "        [520, 521, 522, 523],\n",
       "        [524, 525, 526, 527]],\n",
       "\n",
       "       [[528, 529, 530, 531],\n",
       "        [532, 533, 534, 535],\n",
       "        [536, 537, 538, 539],\n",
       "        [540, 541, 542, 543]],\n",
       "\n",
       "       [[544, 545, 546, 547],\n",
       "        [548, 549, 550, 551],\n",
       "        [552, 553, 554, 555],\n",
       "        [556, 557, 558, 559]],\n",
       "\n",
       "       [[560, 561, 562, 563],\n",
       "        [564, 565, 566, 567],\n",
       "        [568, 569, 570, 571],\n",
       "        [572, 573, 574, 575]],\n",
       "\n",
       "       [[576, 577, 578, 579],\n",
       "        [580, 581, 582, 583],\n",
       "        [584, 585, 586, 587],\n",
       "        [588, 589, 590, 591]],\n",
       "\n",
       "       [[592, 593, 594, 595],\n",
       "        [596, 597, 598, 599],\n",
       "        [600, 601, 602, 603],\n",
       "        [604, 605, 606, 607]],\n",
       "\n",
       "       [[608, 609, 610, 611],\n",
       "        [612, 613, 614, 615],\n",
       "        [616, 617, 618, 619],\n",
       "        [620, 621, 622, 623]],\n",
       "\n",
       "       [[624, 625, 626, 627],\n",
       "        [628, 629, 630, 631],\n",
       "        [632, 633, 634, 635],\n",
       "        [636, 637, 638, 639]]])"
      ]
     },
     "execution_count": 133,
     "metadata": {},
     "output_type": "execute_result"
    }
   ],
   "source": [
    "multidimarr"
   ]
  },
  {
   "cell_type": "code",
   "execution_count": 134,
   "metadata": {},
   "outputs": [
    {
     "data": {
      "text/plain": [
       "(640,)"
      ]
     },
     "execution_count": 134,
     "metadata": {},
     "output_type": "execute_result"
    }
   ],
   "source": [
    "newarr.shape"
   ]
  },
  {
   "cell_type": "code",
   "execution_count": 135,
   "metadata": {},
   "outputs": [
    {
     "data": {
      "text/plain": [
       "(40, 4, 4)"
      ]
     },
     "execution_count": 135,
     "metadata": {},
     "output_type": "execute_result"
    }
   ],
   "source": [
    "multidimarr.shape"
   ]
  },
  {
   "cell_type": "code",
   "execution_count": 136,
   "metadata": {},
   "outputs": [
    {
     "data": {
      "text/plain": [
       "array([[ 0,  1,  2,  3],\n",
       "       [ 4,  5,  6,  7],\n",
       "       [ 8,  9, 10, 11],\n",
       "       [12, 13, 14, 15]])"
      ]
     },
     "execution_count": 136,
     "metadata": {},
     "output_type": "execute_result"
    }
   ],
   "source": [
    "multidimarr[0]"
   ]
  },
  {
   "cell_type": "code",
   "execution_count": 137,
   "metadata": {},
   "outputs": [
    {
     "data": {
      "text/plain": [
       "array([  0,   1,   2,   3,   4,   5,   6,   7,   8,   9,  10,  11,  12,\n",
       "        13,  14,  15,  16,  17,  18,  19,  20,  21,  22,  23,  24,  25,\n",
       "        26,  27,  28,  29,  30,  31,  32,  33,  34,  35,  36,  37,  38,\n",
       "        39,  40,  41,  42,  43,  44,  45,  46,  47,  48,  49,  50,  51,\n",
       "        52,  53,  54,  55,  56,  57,  58,  59,  60,  61,  62,  63,  64,\n",
       "        65,  66,  67,  68,  69,  70,  71,  72,  73,  74,  75,  76,  77,\n",
       "        78,  79,  80,  81,  82,  83,  84,  85,  86,  87,  88,  89,  90,\n",
       "        91,  92,  93,  94,  95,  96,  97,  98,  99, 100, 101, 102, 103,\n",
       "       104, 105, 106, 107, 108, 109, 110, 111, 112, 113, 114, 115, 116,\n",
       "       117, 118, 119, 120, 121, 122, 123, 124, 125, 126, 127, 128, 129,\n",
       "       130, 131, 132, 133, 134, 135, 136, 137, 138, 139, 140, 141, 142,\n",
       "       143, 144, 145, 146, 147, 148, 149, 150, 151, 152, 153, 154, 155,\n",
       "       156, 157, 158, 159, 160, 161, 162, 163, 164, 165, 166, 167, 168,\n",
       "       169, 170, 171, 172, 173, 174, 175, 176, 177, 178, 179, 180, 181,\n",
       "       182, 183, 184, 185, 186, 187, 188, 189, 190, 191, 192, 193, 194,\n",
       "       195, 196, 197, 198, 199, 200, 201, 202, 203, 204, 205, 206, 207,\n",
       "       208, 209, 210, 211, 212, 213, 214, 215, 216, 217, 218, 219, 220,\n",
       "       221, 222, 223, 224, 225, 226, 227, 228, 229, 230, 231, 232, 233,\n",
       "       234, 235, 236, 237, 238, 239, 240, 241, 242, 243, 244, 245, 246,\n",
       "       247, 248, 249, 250, 251, 252, 253, 254, 255, 256, 257, 258, 259,\n",
       "       260, 261, 262, 263, 264, 265, 266, 267, 268, 269, 270, 271, 272,\n",
       "       273, 274, 275, 276, 277, 278, 279, 280, 281, 282, 283, 284, 285,\n",
       "       286, 287, 288, 289, 290, 291, 292, 293, 294, 295, 296, 297, 298,\n",
       "       299, 300, 301, 302, 303, 304, 305, 306, 307, 308, 309, 310, 311,\n",
       "       312, 313, 314, 315, 316, 317, 318, 319, 320, 321, 322, 323, 324,\n",
       "       325, 326, 327, 328, 329, 330, 331, 332, 333, 334, 335, 336, 337,\n",
       "       338, 339, 340, 341, 342, 343, 344, 345, 346, 347, 348, 349, 350,\n",
       "       351, 352, 353, 354, 355, 356, 357, 358, 359, 360, 361, 362, 363,\n",
       "       364, 365, 366, 367, 368, 369, 370, 371, 372, 373, 374, 375, 376,\n",
       "       377, 378, 379, 380, 381, 382, 383, 384, 385, 386, 387, 388, 389,\n",
       "       390, 391, 392, 393, 394, 395, 396, 397, 398, 399, 400, 401, 402,\n",
       "       403, 404, 405, 406, 407, 408, 409, 410, 411, 412, 413, 414, 415,\n",
       "       416, 417, 418, 419, 420, 421, 422, 423, 424, 425, 426, 427, 428,\n",
       "       429, 430, 431, 432, 433, 434, 435, 436, 437, 438, 439, 440, 441,\n",
       "       442, 443, 444, 445, 446, 447, 448, 449, 450, 451, 452, 453, 454,\n",
       "       455, 456, 457, 458, 459, 460, 461, 462, 463, 464, 465, 466, 467,\n",
       "       468, 469, 470, 471, 472, 473, 474, 475, 476, 477, 478, 479, 480,\n",
       "       481, 482, 483, 484, 485, 486, 487, 488, 489, 490, 491, 492, 493,\n",
       "       494, 495, 496, 497, 498, 499, 500, 501, 502, 503, 504, 505, 506,\n",
       "       507, 508, 509, 510, 511, 512, 513, 514, 515, 516, 517, 518, 519,\n",
       "       520, 521, 522, 523, 524, 525, 526, 527, 528, 529, 530, 531, 532,\n",
       "       533, 534, 535, 536, 537, 538, 539, 540, 541, 542, 543, 544, 545,\n",
       "       546, 547, 548, 549, 550, 551, 552, 553, 554, 555, 556, 557, 558,\n",
       "       559, 560, 561, 562, 563, 564, 565, 566, 567, 568, 569, 570, 571,\n",
       "       572, 573, 574, 575, 576, 577, 578, 579, 580, 581, 582, 583, 584,\n",
       "       585, 586, 587, 588, 589, 590, 591, 592, 593, 594, 595, 596, 597,\n",
       "       598, 599, 600, 601, 602, 603, 604, 605, 606, 607, 608, 609, 610,\n",
       "       611, 612, 613, 614, 615, 616, 617, 618, 619, 620, 621, 622, 623,\n",
       "       624, 625, 626, 627, 628, 629, 630, 631, 632, 633, 634, 635, 636,\n",
       "       637, 638, 639])"
      ]
     },
     "execution_count": 137,
     "metadata": {},
     "output_type": "execute_result"
    }
   ],
   "source": [
    "newarr"
   ]
  },
  {
   "cell_type": "code",
   "execution_count": 138,
   "metadata": {},
   "outputs": [
    {
     "data": {
      "text/plain": [
       "(640,)"
      ]
     },
     "execution_count": 138,
     "metadata": {},
     "output_type": "execute_result"
    }
   ],
   "source": [
    "newarr.shape"
   ]
  },
  {
   "cell_type": "code",
   "execution_count": 139,
   "metadata": {},
   "outputs": [
    {
     "data": {
      "text/plain": [
       "array([[  0,   1,   2,   3,   4,   5,   6,   7,   8,   9,  10,  11,  12,\n",
       "         13,  14,  15,  16,  17,  18,  19,  20,  21,  22,  23,  24,  25,\n",
       "         26,  27,  28,  29,  30,  31,  32,  33,  34,  35,  36,  37,  38,\n",
       "         39,  40,  41,  42,  43,  44,  45,  46,  47,  48,  49,  50,  51,\n",
       "         52,  53,  54,  55,  56,  57,  58,  59,  60,  61,  62,  63,  64,\n",
       "         65,  66,  67,  68,  69,  70,  71,  72,  73,  74,  75,  76,  77,\n",
       "         78,  79,  80,  81,  82,  83,  84,  85,  86,  87,  88,  89,  90,\n",
       "         91,  92,  93,  94,  95,  96,  97,  98,  99, 100, 101, 102, 103,\n",
       "        104, 105, 106, 107, 108, 109, 110, 111, 112, 113, 114, 115, 116,\n",
       "        117, 118, 119, 120, 121, 122, 123, 124, 125, 126, 127, 128, 129,\n",
       "        130, 131, 132, 133, 134, 135, 136, 137, 138, 139, 140, 141, 142,\n",
       "        143, 144, 145, 146, 147, 148, 149, 150, 151, 152, 153, 154, 155,\n",
       "        156, 157, 158, 159, 160, 161, 162, 163, 164, 165, 166, 167, 168,\n",
       "        169, 170, 171, 172, 173, 174, 175, 176, 177, 178, 179, 180, 181,\n",
       "        182, 183, 184, 185, 186, 187, 188, 189, 190, 191, 192, 193, 194,\n",
       "        195, 196, 197, 198, 199, 200, 201, 202, 203, 204, 205, 206, 207,\n",
       "        208, 209, 210, 211, 212, 213, 214, 215, 216, 217, 218, 219, 220,\n",
       "        221, 222, 223, 224, 225, 226, 227, 228, 229, 230, 231, 232, 233,\n",
       "        234, 235, 236, 237, 238, 239, 240, 241, 242, 243, 244, 245, 246,\n",
       "        247, 248, 249, 250, 251, 252, 253, 254, 255, 256, 257, 258, 259,\n",
       "        260, 261, 262, 263, 264, 265, 266, 267, 268, 269, 270, 271, 272,\n",
       "        273, 274, 275, 276, 277, 278, 279, 280, 281, 282, 283, 284, 285,\n",
       "        286, 287, 288, 289, 290, 291, 292, 293, 294, 295, 296, 297, 298,\n",
       "        299, 300, 301, 302, 303, 304, 305, 306, 307, 308, 309, 310, 311,\n",
       "        312, 313, 314, 315, 316, 317, 318, 319, 320, 321, 322, 323, 324,\n",
       "        325, 326, 327, 328, 329, 330, 331, 332, 333, 334, 335, 336, 337,\n",
       "        338, 339, 340, 341, 342, 343, 344, 345, 346, 347, 348, 349, 350,\n",
       "        351, 352, 353, 354, 355, 356, 357, 358, 359, 360, 361, 362, 363,\n",
       "        364, 365, 366, 367, 368, 369, 370, 371, 372, 373, 374, 375, 376,\n",
       "        377, 378, 379, 380, 381, 382, 383, 384, 385, 386, 387, 388, 389,\n",
       "        390, 391, 392, 393, 394, 395, 396, 397, 398, 399, 400, 401, 402,\n",
       "        403, 404, 405, 406, 407, 408, 409, 410, 411, 412, 413, 414, 415,\n",
       "        416, 417, 418, 419, 420, 421, 422, 423, 424, 425, 426, 427, 428,\n",
       "        429, 430, 431, 432, 433, 434, 435, 436, 437, 438, 439, 440, 441,\n",
       "        442, 443, 444, 445, 446, 447, 448, 449, 450, 451, 452, 453, 454,\n",
       "        455, 456, 457, 458, 459, 460, 461, 462, 463, 464, 465, 466, 467,\n",
       "        468, 469, 470, 471, 472, 473, 474, 475, 476, 477, 478, 479, 480,\n",
       "        481, 482, 483, 484, 485, 486, 487, 488, 489, 490, 491, 492, 493,\n",
       "        494, 495, 496, 497, 498, 499, 500, 501, 502, 503, 504, 505, 506,\n",
       "        507, 508, 509, 510, 511, 512, 513, 514, 515, 516, 517, 518, 519,\n",
       "        520, 521, 522, 523, 524, 525, 526, 527, 528, 529, 530, 531, 532,\n",
       "        533, 534, 535, 536, 537, 538, 539, 540, 541, 542, 543, 544, 545,\n",
       "        546, 547, 548, 549, 550, 551, 552, 553, 554, 555, 556, 557, 558,\n",
       "        559, 560, 561, 562, 563, 564, 565, 566, 567, 568, 569, 570, 571,\n",
       "        572, 573, 574, 575, 576, 577, 578, 579, 580, 581, 582, 583, 584,\n",
       "        585, 586, 587, 588, 589, 590, 591, 592, 593, 594, 595, 596, 597,\n",
       "        598, 599, 600, 601, 602, 603, 604, 605, 606, 607, 608, 609, 610,\n",
       "        611, 612, 613, 614, 615, 616, 617, 618, 619, 620, 621, 622, 623,\n",
       "        624, 625, 626, 627, 628, 629, 630, 631, 632, 633, 634, 635, 636,\n",
       "        637, 638, 639]])"
      ]
     },
     "execution_count": 139,
     "metadata": {},
     "output_type": "execute_result"
    }
   ],
   "source": [
    "newarr[np.newaxis, :]"
   ]
  },
  {
   "cell_type": "code",
   "execution_count": 140,
   "metadata": {},
   "outputs": [
    {
     "data": {
      "text/plain": [
       "(1, 640)"
      ]
     },
     "execution_count": 140,
     "metadata": {},
     "output_type": "execute_result"
    }
   ],
   "source": [
    "newarr[np.newaxis, :].shape"
   ]
  },
  {
   "cell_type": "code",
   "execution_count": 141,
   "metadata": {},
   "outputs": [
    {
     "data": {
      "text/plain": [
       "array([[  0],\n",
       "       [  1],\n",
       "       [  2],\n",
       "       [  3],\n",
       "       [  4],\n",
       "       [  5],\n",
       "       [  6],\n",
       "       [  7],\n",
       "       [  8],\n",
       "       [  9],\n",
       "       [ 10],\n",
       "       [ 11],\n",
       "       [ 12],\n",
       "       [ 13],\n",
       "       [ 14],\n",
       "       [ 15],\n",
       "       [ 16],\n",
       "       [ 17],\n",
       "       [ 18],\n",
       "       [ 19],\n",
       "       [ 20],\n",
       "       [ 21],\n",
       "       [ 22],\n",
       "       [ 23],\n",
       "       [ 24],\n",
       "       [ 25],\n",
       "       [ 26],\n",
       "       [ 27],\n",
       "       [ 28],\n",
       "       [ 29],\n",
       "       [ 30],\n",
       "       [ 31],\n",
       "       [ 32],\n",
       "       [ 33],\n",
       "       [ 34],\n",
       "       [ 35],\n",
       "       [ 36],\n",
       "       [ 37],\n",
       "       [ 38],\n",
       "       [ 39],\n",
       "       [ 40],\n",
       "       [ 41],\n",
       "       [ 42],\n",
       "       [ 43],\n",
       "       [ 44],\n",
       "       [ 45],\n",
       "       [ 46],\n",
       "       [ 47],\n",
       "       [ 48],\n",
       "       [ 49],\n",
       "       [ 50],\n",
       "       [ 51],\n",
       "       [ 52],\n",
       "       [ 53],\n",
       "       [ 54],\n",
       "       [ 55],\n",
       "       [ 56],\n",
       "       [ 57],\n",
       "       [ 58],\n",
       "       [ 59],\n",
       "       [ 60],\n",
       "       [ 61],\n",
       "       [ 62],\n",
       "       [ 63],\n",
       "       [ 64],\n",
       "       [ 65],\n",
       "       [ 66],\n",
       "       [ 67],\n",
       "       [ 68],\n",
       "       [ 69],\n",
       "       [ 70],\n",
       "       [ 71],\n",
       "       [ 72],\n",
       "       [ 73],\n",
       "       [ 74],\n",
       "       [ 75],\n",
       "       [ 76],\n",
       "       [ 77],\n",
       "       [ 78],\n",
       "       [ 79],\n",
       "       [ 80],\n",
       "       [ 81],\n",
       "       [ 82],\n",
       "       [ 83],\n",
       "       [ 84],\n",
       "       [ 85],\n",
       "       [ 86],\n",
       "       [ 87],\n",
       "       [ 88],\n",
       "       [ 89],\n",
       "       [ 90],\n",
       "       [ 91],\n",
       "       [ 92],\n",
       "       [ 93],\n",
       "       [ 94],\n",
       "       [ 95],\n",
       "       [ 96],\n",
       "       [ 97],\n",
       "       [ 98],\n",
       "       [ 99],\n",
       "       [100],\n",
       "       [101],\n",
       "       [102],\n",
       "       [103],\n",
       "       [104],\n",
       "       [105],\n",
       "       [106],\n",
       "       [107],\n",
       "       [108],\n",
       "       [109],\n",
       "       [110],\n",
       "       [111],\n",
       "       [112],\n",
       "       [113],\n",
       "       [114],\n",
       "       [115],\n",
       "       [116],\n",
       "       [117],\n",
       "       [118],\n",
       "       [119],\n",
       "       [120],\n",
       "       [121],\n",
       "       [122],\n",
       "       [123],\n",
       "       [124],\n",
       "       [125],\n",
       "       [126],\n",
       "       [127],\n",
       "       [128],\n",
       "       [129],\n",
       "       [130],\n",
       "       [131],\n",
       "       [132],\n",
       "       [133],\n",
       "       [134],\n",
       "       [135],\n",
       "       [136],\n",
       "       [137],\n",
       "       [138],\n",
       "       [139],\n",
       "       [140],\n",
       "       [141],\n",
       "       [142],\n",
       "       [143],\n",
       "       [144],\n",
       "       [145],\n",
       "       [146],\n",
       "       [147],\n",
       "       [148],\n",
       "       [149],\n",
       "       [150],\n",
       "       [151],\n",
       "       [152],\n",
       "       [153],\n",
       "       [154],\n",
       "       [155],\n",
       "       [156],\n",
       "       [157],\n",
       "       [158],\n",
       "       [159],\n",
       "       [160],\n",
       "       [161],\n",
       "       [162],\n",
       "       [163],\n",
       "       [164],\n",
       "       [165],\n",
       "       [166],\n",
       "       [167],\n",
       "       [168],\n",
       "       [169],\n",
       "       [170],\n",
       "       [171],\n",
       "       [172],\n",
       "       [173],\n",
       "       [174],\n",
       "       [175],\n",
       "       [176],\n",
       "       [177],\n",
       "       [178],\n",
       "       [179],\n",
       "       [180],\n",
       "       [181],\n",
       "       [182],\n",
       "       [183],\n",
       "       [184],\n",
       "       [185],\n",
       "       [186],\n",
       "       [187],\n",
       "       [188],\n",
       "       [189],\n",
       "       [190],\n",
       "       [191],\n",
       "       [192],\n",
       "       [193],\n",
       "       [194],\n",
       "       [195],\n",
       "       [196],\n",
       "       [197],\n",
       "       [198],\n",
       "       [199],\n",
       "       [200],\n",
       "       [201],\n",
       "       [202],\n",
       "       [203],\n",
       "       [204],\n",
       "       [205],\n",
       "       [206],\n",
       "       [207],\n",
       "       [208],\n",
       "       [209],\n",
       "       [210],\n",
       "       [211],\n",
       "       [212],\n",
       "       [213],\n",
       "       [214],\n",
       "       [215],\n",
       "       [216],\n",
       "       [217],\n",
       "       [218],\n",
       "       [219],\n",
       "       [220],\n",
       "       [221],\n",
       "       [222],\n",
       "       [223],\n",
       "       [224],\n",
       "       [225],\n",
       "       [226],\n",
       "       [227],\n",
       "       [228],\n",
       "       [229],\n",
       "       [230],\n",
       "       [231],\n",
       "       [232],\n",
       "       [233],\n",
       "       [234],\n",
       "       [235],\n",
       "       [236],\n",
       "       [237],\n",
       "       [238],\n",
       "       [239],\n",
       "       [240],\n",
       "       [241],\n",
       "       [242],\n",
       "       [243],\n",
       "       [244],\n",
       "       [245],\n",
       "       [246],\n",
       "       [247],\n",
       "       [248],\n",
       "       [249],\n",
       "       [250],\n",
       "       [251],\n",
       "       [252],\n",
       "       [253],\n",
       "       [254],\n",
       "       [255],\n",
       "       [256],\n",
       "       [257],\n",
       "       [258],\n",
       "       [259],\n",
       "       [260],\n",
       "       [261],\n",
       "       [262],\n",
       "       [263],\n",
       "       [264],\n",
       "       [265],\n",
       "       [266],\n",
       "       [267],\n",
       "       [268],\n",
       "       [269],\n",
       "       [270],\n",
       "       [271],\n",
       "       [272],\n",
       "       [273],\n",
       "       [274],\n",
       "       [275],\n",
       "       [276],\n",
       "       [277],\n",
       "       [278],\n",
       "       [279],\n",
       "       [280],\n",
       "       [281],\n",
       "       [282],\n",
       "       [283],\n",
       "       [284],\n",
       "       [285],\n",
       "       [286],\n",
       "       [287],\n",
       "       [288],\n",
       "       [289],\n",
       "       [290],\n",
       "       [291],\n",
       "       [292],\n",
       "       [293],\n",
       "       [294],\n",
       "       [295],\n",
       "       [296],\n",
       "       [297],\n",
       "       [298],\n",
       "       [299],\n",
       "       [300],\n",
       "       [301],\n",
       "       [302],\n",
       "       [303],\n",
       "       [304],\n",
       "       [305],\n",
       "       [306],\n",
       "       [307],\n",
       "       [308],\n",
       "       [309],\n",
       "       [310],\n",
       "       [311],\n",
       "       [312],\n",
       "       [313],\n",
       "       [314],\n",
       "       [315],\n",
       "       [316],\n",
       "       [317],\n",
       "       [318],\n",
       "       [319],\n",
       "       [320],\n",
       "       [321],\n",
       "       [322],\n",
       "       [323],\n",
       "       [324],\n",
       "       [325],\n",
       "       [326],\n",
       "       [327],\n",
       "       [328],\n",
       "       [329],\n",
       "       [330],\n",
       "       [331],\n",
       "       [332],\n",
       "       [333],\n",
       "       [334],\n",
       "       [335],\n",
       "       [336],\n",
       "       [337],\n",
       "       [338],\n",
       "       [339],\n",
       "       [340],\n",
       "       [341],\n",
       "       [342],\n",
       "       [343],\n",
       "       [344],\n",
       "       [345],\n",
       "       [346],\n",
       "       [347],\n",
       "       [348],\n",
       "       [349],\n",
       "       [350],\n",
       "       [351],\n",
       "       [352],\n",
       "       [353],\n",
       "       [354],\n",
       "       [355],\n",
       "       [356],\n",
       "       [357],\n",
       "       [358],\n",
       "       [359],\n",
       "       [360],\n",
       "       [361],\n",
       "       [362],\n",
       "       [363],\n",
       "       [364],\n",
       "       [365],\n",
       "       [366],\n",
       "       [367],\n",
       "       [368],\n",
       "       [369],\n",
       "       [370],\n",
       "       [371],\n",
       "       [372],\n",
       "       [373],\n",
       "       [374],\n",
       "       [375],\n",
       "       [376],\n",
       "       [377],\n",
       "       [378],\n",
       "       [379],\n",
       "       [380],\n",
       "       [381],\n",
       "       [382],\n",
       "       [383],\n",
       "       [384],\n",
       "       [385],\n",
       "       [386],\n",
       "       [387],\n",
       "       [388],\n",
       "       [389],\n",
       "       [390],\n",
       "       [391],\n",
       "       [392],\n",
       "       [393],\n",
       "       [394],\n",
       "       [395],\n",
       "       [396],\n",
       "       [397],\n",
       "       [398],\n",
       "       [399],\n",
       "       [400],\n",
       "       [401],\n",
       "       [402],\n",
       "       [403],\n",
       "       [404],\n",
       "       [405],\n",
       "       [406],\n",
       "       [407],\n",
       "       [408],\n",
       "       [409],\n",
       "       [410],\n",
       "       [411],\n",
       "       [412],\n",
       "       [413],\n",
       "       [414],\n",
       "       [415],\n",
       "       [416],\n",
       "       [417],\n",
       "       [418],\n",
       "       [419],\n",
       "       [420],\n",
       "       [421],\n",
       "       [422],\n",
       "       [423],\n",
       "       [424],\n",
       "       [425],\n",
       "       [426],\n",
       "       [427],\n",
       "       [428],\n",
       "       [429],\n",
       "       [430],\n",
       "       [431],\n",
       "       [432],\n",
       "       [433],\n",
       "       [434],\n",
       "       [435],\n",
       "       [436],\n",
       "       [437],\n",
       "       [438],\n",
       "       [439],\n",
       "       [440],\n",
       "       [441],\n",
       "       [442],\n",
       "       [443],\n",
       "       [444],\n",
       "       [445],\n",
       "       [446],\n",
       "       [447],\n",
       "       [448],\n",
       "       [449],\n",
       "       [450],\n",
       "       [451],\n",
       "       [452],\n",
       "       [453],\n",
       "       [454],\n",
       "       [455],\n",
       "       [456],\n",
       "       [457],\n",
       "       [458],\n",
       "       [459],\n",
       "       [460],\n",
       "       [461],\n",
       "       [462],\n",
       "       [463],\n",
       "       [464],\n",
       "       [465],\n",
       "       [466],\n",
       "       [467],\n",
       "       [468],\n",
       "       [469],\n",
       "       [470],\n",
       "       [471],\n",
       "       [472],\n",
       "       [473],\n",
       "       [474],\n",
       "       [475],\n",
       "       [476],\n",
       "       [477],\n",
       "       [478],\n",
       "       [479],\n",
       "       [480],\n",
       "       [481],\n",
       "       [482],\n",
       "       [483],\n",
       "       [484],\n",
       "       [485],\n",
       "       [486],\n",
       "       [487],\n",
       "       [488],\n",
       "       [489],\n",
       "       [490],\n",
       "       [491],\n",
       "       [492],\n",
       "       [493],\n",
       "       [494],\n",
       "       [495],\n",
       "       [496],\n",
       "       [497],\n",
       "       [498],\n",
       "       [499],\n",
       "       [500],\n",
       "       [501],\n",
       "       [502],\n",
       "       [503],\n",
       "       [504],\n",
       "       [505],\n",
       "       [506],\n",
       "       [507],\n",
       "       [508],\n",
       "       [509],\n",
       "       [510],\n",
       "       [511],\n",
       "       [512],\n",
       "       [513],\n",
       "       [514],\n",
       "       [515],\n",
       "       [516],\n",
       "       [517],\n",
       "       [518],\n",
       "       [519],\n",
       "       [520],\n",
       "       [521],\n",
       "       [522],\n",
       "       [523],\n",
       "       [524],\n",
       "       [525],\n",
       "       [526],\n",
       "       [527],\n",
       "       [528],\n",
       "       [529],\n",
       "       [530],\n",
       "       [531],\n",
       "       [532],\n",
       "       [533],\n",
       "       [534],\n",
       "       [535],\n",
       "       [536],\n",
       "       [537],\n",
       "       [538],\n",
       "       [539],\n",
       "       [540],\n",
       "       [541],\n",
       "       [542],\n",
       "       [543],\n",
       "       [544],\n",
       "       [545],\n",
       "       [546],\n",
       "       [547],\n",
       "       [548],\n",
       "       [549],\n",
       "       [550],\n",
       "       [551],\n",
       "       [552],\n",
       "       [553],\n",
       "       [554],\n",
       "       [555],\n",
       "       [556],\n",
       "       [557],\n",
       "       [558],\n",
       "       [559],\n",
       "       [560],\n",
       "       [561],\n",
       "       [562],\n",
       "       [563],\n",
       "       [564],\n",
       "       [565],\n",
       "       [566],\n",
       "       [567],\n",
       "       [568],\n",
       "       [569],\n",
       "       [570],\n",
       "       [571],\n",
       "       [572],\n",
       "       [573],\n",
       "       [574],\n",
       "       [575],\n",
       "       [576],\n",
       "       [577],\n",
       "       [578],\n",
       "       [579],\n",
       "       [580],\n",
       "       [581],\n",
       "       [582],\n",
       "       [583],\n",
       "       [584],\n",
       "       [585],\n",
       "       [586],\n",
       "       [587],\n",
       "       [588],\n",
       "       [589],\n",
       "       [590],\n",
       "       [591],\n",
       "       [592],\n",
       "       [593],\n",
       "       [594],\n",
       "       [595],\n",
       "       [596],\n",
       "       [597],\n",
       "       [598],\n",
       "       [599],\n",
       "       [600],\n",
       "       [601],\n",
       "       [602],\n",
       "       [603],\n",
       "       [604],\n",
       "       [605],\n",
       "       [606],\n",
       "       [607],\n",
       "       [608],\n",
       "       [609],\n",
       "       [610],\n",
       "       [611],\n",
       "       [612],\n",
       "       [613],\n",
       "       [614],\n",
       "       [615],\n",
       "       [616],\n",
       "       [617],\n",
       "       [618],\n",
       "       [619],\n",
       "       [620],\n",
       "       [621],\n",
       "       [622],\n",
       "       [623],\n",
       "       [624],\n",
       "       [625],\n",
       "       [626],\n",
       "       [627],\n",
       "       [628],\n",
       "       [629],\n",
       "       [630],\n",
       "       [631],\n",
       "       [632],\n",
       "       [633],\n",
       "       [634],\n",
       "       [635],\n",
       "       [636],\n",
       "       [637],\n",
       "       [638],\n",
       "       [639]])"
      ]
     },
     "execution_count": 141,
     "metadata": {},
     "output_type": "execute_result"
    }
   ],
   "source": [
    "newarr[:, np.newaxis]"
   ]
  },
  {
   "cell_type": "code",
   "execution_count": 142,
   "metadata": {},
   "outputs": [
    {
     "data": {
      "text/plain": [
       "(640, 1)"
      ]
     },
     "execution_count": 142,
     "metadata": {},
     "output_type": "execute_result"
    }
   ],
   "source": [
    "newarr[:, np.newaxis].shape"
   ]
  },
  {
   "cell_type": "code",
   "execution_count": null,
   "metadata": {},
   "outputs": [],
   "source": []
  },
  {
   "cell_type": "markdown",
   "metadata": {},
   "source": [
    "# Numpy Where"
   ]
  },
  {
   "cell_type": "code",
   "execution_count": 143,
   "metadata": {},
   "outputs": [],
   "source": [
    "data = np.arange(100,500,50)"
   ]
  },
  {
   "cell_type": "code",
   "execution_count": 144,
   "metadata": {},
   "outputs": [
    {
     "data": {
      "text/plain": [
       "array([100, 150, 200, 250, 300, 350, 400, 450])"
      ]
     },
     "execution_count": 144,
     "metadata": {},
     "output_type": "execute_result"
    }
   ],
   "source": [
    "data"
   ]
  },
  {
   "cell_type": "code",
   "execution_count": 145,
   "metadata": {},
   "outputs": [
    {
     "data": {
      "text/plain": [
       "array([100, 150, 200, 250])"
      ]
     },
     "execution_count": 145,
     "metadata": {},
     "output_type": "execute_result"
    }
   ],
   "source": [
    "data[np.where(data<300)]   # If we want to find the elements"
   ]
  },
  {
   "cell_type": "code",
   "execution_count": 146,
   "metadata": {},
   "outputs": [
    {
     "data": {
      "text/plain": [
       "(array([0, 1, 2, 3], dtype=int64),)"
      ]
     },
     "execution_count": 146,
     "metadata": {},
     "output_type": "execute_result"
    }
   ],
   "source": [
    "np.where(data<300)   # If we want to find the indices of that elements"
   ]
  },
  {
   "cell_type": "code",
   "execution_count": null,
   "metadata": {},
   "outputs": [],
   "source": []
  },
  {
   "cell_type": "markdown",
   "metadata": {},
   "source": [
    "# Dense layer calculation using numpy"
   ]
  },
  {
   "cell_type": "code",
   "execution_count": 147,
   "metadata": {},
   "outputs": [],
   "source": [
    "inputLayer = np.random.random(20)"
   ]
  },
  {
   "cell_type": "code",
   "execution_count": 148,
   "metadata": {},
   "outputs": [
    {
     "data": {
      "text/plain": [
       "array([0.55367109, 0.93100018, 0.00426138, 0.6743739 , 0.68756467,\n",
       "       0.91225733, 0.69625569, 0.6597145 , 0.42059174, 0.86266057,\n",
       "       0.97899025, 0.43046609, 0.16592929, 0.4335217 , 0.20181319,\n",
       "       0.76194588, 0.3965859 , 0.76984494, 0.74956847, 0.23062463])"
      ]
     },
     "execution_count": 148,
     "metadata": {},
     "output_type": "execute_result"
    }
   ],
   "source": [
    "inputLayer"
   ]
  },
  {
   "cell_type": "code",
   "execution_count": 149,
   "metadata": {},
   "outputs": [],
   "source": [
    "hiddenLayer = np.random.randn(500,20)"
   ]
  },
  {
   "cell_type": "code",
   "execution_count": 150,
   "metadata": {},
   "outputs": [
    {
     "data": {
      "text/plain": [
       "array([[-0.18305839, -0.10131604,  1.04716408, ..., -0.23332295,\n",
       "        -0.89060042,  0.17098386],\n",
       "       [ 0.62271932,  0.76956229, -0.99062091, ..., -0.37859671,\n",
       "        -0.42913941, -0.5266837 ],\n",
       "       [-0.83977099,  0.69768894, -0.82347971, ...,  0.84271344,\n",
       "         0.13399914, -0.00270881],\n",
       "       ...,\n",
       "       [ 0.0334874 ,  0.67756149, -0.51015983, ...,  0.39493864,\n",
       "         0.23947925,  0.06282874],\n",
       "       [-0.27088996, -1.47075276, -0.50324733, ..., -0.03070482,\n",
       "         0.5569798 ,  0.27687304],\n",
       "       [-0.52650058,  1.20631368, -0.34215366, ...,  1.46187936,\n",
       "        -0.86003557, -1.43287188]])"
      ]
     },
     "execution_count": 150,
     "metadata": {},
     "output_type": "execute_result"
    }
   ],
   "source": [
    "hiddenLayer"
   ]
  },
  {
   "cell_type": "code",
   "execution_count": 151,
   "metadata": {},
   "outputs": [],
   "source": [
    "biasLayer = np.random.random(500)"
   ]
  },
  {
   "cell_type": "code",
   "execution_count": 152,
   "metadata": {},
   "outputs": [
    {
     "data": {
      "text/plain": [
       "array([0.25522117, 0.91043183, 0.02469266, 0.27849284, 0.6010533 ,\n",
       "       0.44066556, 0.07746172, 0.53432637, 0.95887778, 0.04549475,\n",
       "       0.33471685, 0.4679277 , 0.2028443 , 0.36487212, 0.28810759,\n",
       "       0.253365  , 0.87252374, 0.29854406, 0.07257809, 0.90896293,\n",
       "       0.736036  , 0.42963302, 0.76880696, 0.23334358, 0.47145623,\n",
       "       0.90699116, 0.63097012, 0.72138323, 0.50461699, 0.65179095,\n",
       "       0.34867066, 0.78113954, 0.54178964, 0.08626429, 0.80552692,\n",
       "       0.46025365, 0.18806089, 0.5814198 , 0.14001873, 0.0590836 ,\n",
       "       0.44372998, 0.70563795, 0.53755146, 0.13708143, 0.04359087,\n",
       "       0.55296051, 0.76656873, 0.90333675, 0.20536814, 0.2685346 ,\n",
       "       0.82476308, 0.89099208, 0.63789968, 0.30493438, 0.54046494,\n",
       "       0.21711643, 0.11867745, 0.19016795, 0.54011442, 0.67080197,\n",
       "       0.49867812, 0.34124243, 0.59182544, 0.45402031, 0.70966191,\n",
       "       0.13301169, 0.48408492, 0.04284681, 0.94655569, 0.75671956,\n",
       "       0.46958665, 0.12789771, 0.85998061, 0.70178782, 0.58754651,\n",
       "       0.03850342, 0.85876039, 0.26438257, 0.06599349, 0.71949487,\n",
       "       0.00941555, 0.3294914 , 0.96542423, 0.25157833, 0.24522604,\n",
       "       0.01065963, 0.60371313, 0.52768351, 0.28275095, 0.7380387 ,\n",
       "       0.58427679, 0.38696169, 0.44443095, 0.80285573, 0.68227004,\n",
       "       0.41618962, 0.60754762, 0.25518005, 0.15255777, 0.88092207,\n",
       "       0.20452684, 0.57726068, 0.31374465, 0.18964698, 0.38882263,\n",
       "       0.90420886, 0.89713297, 0.22184074, 0.82738438, 0.18214597,\n",
       "       0.61260974, 0.54181914, 0.99566623, 0.28486346, 0.30182427,\n",
       "       0.20371909, 0.52203201, 0.50573435, 0.45997332, 0.11866522,\n",
       "       0.74040834, 0.86675707, 0.16522293, 0.47828475, 0.58144639,\n",
       "       0.98202702, 0.87129053, 0.19042085, 0.71899133, 0.38547284,\n",
       "       0.99761238, 0.33842902, 0.52398034, 0.10952494, 0.73097447,\n",
       "       0.90315528, 0.80372884, 0.78255453, 0.7301257 , 0.84382392,\n",
       "       0.69229466, 0.49228796, 0.56609386, 0.50896526, 0.42062349,\n",
       "       0.857113  , 0.43746555, 0.77331108, 0.88021133, 0.59671252,\n",
       "       0.19766412, 0.26630543, 0.76121078, 0.53783464, 0.84707983,\n",
       "       0.43775575, 0.82666492, 0.40646979, 0.61911528, 0.66036634,\n",
       "       0.98634386, 0.21614222, 0.52468378, 0.77071216, 0.73645122,\n",
       "       0.44711809, 0.43003711, 0.82099928, 0.87700132, 0.2974073 ,\n",
       "       0.42539885, 0.32254328, 0.25689014, 0.66968958, 0.02887239,\n",
       "       0.44243491, 0.3057676 , 0.00623976, 0.97010861, 0.98680666,\n",
       "       0.08423553, 0.39606818, 0.40353826, 0.44149672, 0.04536808,\n",
       "       0.65303392, 0.4843311 , 0.18571284, 0.71028858, 0.62099726,\n",
       "       0.90832861, 0.33815424, 0.74470065, 0.39438127, 0.85739921,\n",
       "       0.64060536, 0.79656596, 0.96181814, 0.3097418 , 0.07655206,\n",
       "       0.1996428 , 0.45066974, 0.76343224, 0.82088444, 0.32511037,\n",
       "       0.19786925, 0.22813178, 0.37455654, 0.75194521, 0.90945087,\n",
       "       0.11055862, 0.01776407, 0.52292833, 0.45139646, 0.31056441,\n",
       "       0.23587444, 0.29671845, 0.19897358, 0.48486175, 0.41001796,\n",
       "       0.82489672, 0.14391306, 0.44842397, 0.58218011, 0.17856808,\n",
       "       0.82344509, 0.13835523, 0.16819417, 0.73193566, 0.5756914 ,\n",
       "       0.24865154, 0.31364611, 0.5488274 , 0.16704794, 0.16236229,\n",
       "       0.548739  , 0.7155278 , 0.93532028, 0.08701459, 0.8469425 ,\n",
       "       0.96659769, 0.25490869, 0.55859662, 0.36729918, 0.79783265,\n",
       "       0.89070536, 0.87168161, 0.04357317, 0.37796527, 0.21158683,\n",
       "       0.907851  , 0.69857015, 0.50128383, 0.00287915, 0.88069218,\n",
       "       0.93184748, 0.47021118, 0.06689921, 0.2634205 , 0.85067381,\n",
       "       0.39345228, 0.14369369, 0.37204009, 0.89816797, 0.90101462,\n",
       "       0.68598905, 0.70427439, 0.39660392, 0.39054829, 0.08402733,\n",
       "       0.47268027, 0.66313458, 0.93812145, 0.24408604, 0.48627735,\n",
       "       0.04727978, 0.04370849, 0.95781132, 0.67191852, 0.58422837,\n",
       "       0.9192642 , 0.04729823, 0.3479515 , 0.61656909, 0.59372395,\n",
       "       0.87664374, 0.37681202, 0.5015775 , 0.8056411 , 0.34020595,\n",
       "       0.26377786, 0.23165622, 0.62795123, 0.03355112, 0.31176529,\n",
       "       0.40491477, 0.32379002, 0.74711002, 0.21580359, 0.96755764,\n",
       "       0.6032062 , 0.8598395 , 0.38383364, 0.21979552, 0.58201566,\n",
       "       0.13674706, 0.37236667, 0.81650337, 0.18192305, 0.7540125 ,\n",
       "       0.81872591, 0.89785855, 0.13326097, 0.28591415, 0.86815797,\n",
       "       0.09868347, 0.26046031, 0.81734118, 0.7159415 , 0.09957925,\n",
       "       0.40367993, 0.50106191, 0.18421001, 0.7281217 , 0.75661354,\n",
       "       0.23480831, 0.52843388, 0.5958166 , 0.90209532, 0.9341539 ,\n",
       "       0.54099972, 0.39033343, 0.09310448, 0.26868347, 0.1190967 ,\n",
       "       0.49498409, 0.06726374, 0.62540303, 0.71791076, 0.22462076,\n",
       "       0.14033951, 0.2884092 , 0.46668851, 0.55287214, 0.77475268,\n",
       "       0.69403931, 0.79780702, 0.44550163, 0.1275608 , 0.81933766,\n",
       "       0.01730708, 0.67129604, 0.12561986, 0.17740361, 0.28008594,\n",
       "       0.23778138, 0.5117129 , 0.83823485, 0.49400918, 0.78014731,\n",
       "       0.21945411, 0.85969498, 0.78699766, 0.44456542, 0.50278424,\n",
       "       0.09840813, 0.4156731 , 0.09359301, 0.68747955, 0.56164518,\n",
       "       0.11863426, 0.62004009, 0.31602878, 0.98613263, 0.49228467,\n",
       "       0.05521477, 0.66895367, 0.0741473 , 0.9442958 , 0.98815236,\n",
       "       0.00355143, 0.86230327, 0.63950271, 0.77691756, 0.44075643,\n",
       "       0.41162802, 0.41349691, 0.82772552, 0.93547531, 0.16836051,\n",
       "       0.64468828, 0.45881504, 0.99031104, 0.17085272, 0.89246383,\n",
       "       0.62054981, 0.49605303, 0.63462852, 0.02681759, 0.63370397,\n",
       "       0.81970678, 0.25166681, 0.91930205, 0.19212104, 0.66976951,\n",
       "       0.5259581 , 0.17823285, 0.2269265 , 0.70529737, 0.01967994,\n",
       "       0.04106339, 0.42871479, 0.35422191, 0.19281975, 0.36374242,\n",
       "       0.61052116, 0.43487133, 0.6660214 , 0.57931135, 0.43360273,\n",
       "       0.98459465, 0.90459116, 0.25872289, 0.54996907, 0.08944959,\n",
       "       0.12406036, 0.55871436, 0.50097194, 0.76647365, 0.12275632,\n",
       "       0.93774975, 0.30931632, 0.30655232, 0.28969057, 0.29612205,\n",
       "       0.55304776, 0.98416437, 0.47556295, 0.65805233, 0.39660556,\n",
       "       0.3309944 , 0.84905353, 0.30133439, 0.99612125, 0.74558346,\n",
       "       0.26983715, 0.34797997, 0.79223326, 0.91394309, 0.46157785,\n",
       "       0.33679097, 0.62133087, 0.3690195 , 0.21778987, 0.23997324,\n",
       "       0.79403498, 0.98315794, 0.53639996, 0.50448872, 0.2129901 ,\n",
       "       0.44263608, 0.48539822, 0.39074001, 0.93893072, 0.94724607,\n",
       "       0.82500706, 0.32821863, 0.60709255, 0.8280215 , 0.12625915,\n",
       "       0.35628736, 0.31258597, 0.00583831, 0.52687641, 0.66359275,\n",
       "       0.48453342, 0.155785  , 0.61480918, 0.42855056, 0.89125439,\n",
       "       0.96614802, 0.29024598, 0.85224711, 0.40199751, 0.26534059,\n",
       "       0.36520237, 0.48734681, 0.99661947, 0.22079065, 0.71655586,\n",
       "       0.87820823, 0.75420781, 0.92718262, 0.23483147, 0.51820416,\n",
       "       0.0645862 , 0.59803382, 0.21858872, 0.58648466, 0.07160739])"
      ]
     },
     "execution_count": 152,
     "metadata": {},
     "output_type": "execute_result"
    }
   ],
   "source": [
    "biasLayer"
   ]
  },
  {
   "cell_type": "code",
   "execution_count": 153,
   "metadata": {},
   "outputs": [
    {
     "data": {
      "text/plain": [
       "((20,), (500, 20), (500,))"
      ]
     },
     "execution_count": 153,
     "metadata": {},
     "output_type": "execute_result"
    }
   ],
   "source": [
    "inputLayer.shape, hiddenLayer.shape, biasLayer.shape"
   ]
  },
  {
   "cell_type": "code",
   "execution_count": 154,
   "metadata": {},
   "outputs": [],
   "source": [
    "output = np.dot(hiddenLayer, inputLayer)+biasLayer"
   ]
  },
  {
   "cell_type": "code",
   "execution_count": 155,
   "metadata": {},
   "outputs": [
    {
     "data": {
      "text/plain": [
       "array([-2.51342216e+00, -2.76343288e+00, -6.23380301e-01, -3.29373284e+00,\n",
       "       -1.81177811e+00, -3.48939870e+00, -3.66072637e-01, -2.02847775e+00,\n",
       "        1.22712915e+00,  3.92204173e-01, -1.39781813e+00,  1.61589220e+00,\n",
       "       -3.16703519e+00,  2.30840508e-01, -5.58842807e+00,  6.67611272e+00,\n",
       "       -7.65472550e-01, -1.27217015e-01,  1.20073909e+00, -1.00981759e+00,\n",
       "       -1.96001834e+00,  3.61861352e+00, -1.42484184e+00,  1.49959314e+00,\n",
       "        1.33080627e+00,  2.59924784e+00,  4.20485515e+00, -1.52981361e+00,\n",
       "        1.00108432e+00,  1.79412067e+00, -4.37006383e-01, -1.08361492e+00,\n",
       "        6.80967776e+00,  2.41864184e+00,  6.60198078e+00,  1.64689362e+00,\n",
       "        6.11904185e-01, -3.70941748e+00,  3.08569744e-01, -5.85442569e+00,\n",
       "        3.04266815e+00,  2.02322084e+00, -3.26402738e+00, -4.76292051e+00,\n",
       "       -4.05904761e+00, -6.58971197e-01,  5.80678557e-01, -9.66402447e-01,\n",
       "       -1.43709746e-01,  2.84460658e+00,  7.16500683e-01,  2.18696932e+00,\n",
       "       -2.11682733e+00,  3.34586566e-01, -5.41813522e+00,  5.66539590e+00,\n",
       "       -1.54279819e+00,  2.77068393e+00,  1.81366844e+00,  6.33368287e+00,\n",
       "        2.85702451e+00, -1.92820672e+00, -1.76959428e+00, -1.37064500e+00,\n",
       "        1.52060968e-01,  1.53596839e+00, -2.37175608e+00,  2.51155029e+00,\n",
       "       -8.77299936e-02, -2.76924862e+00, -5.08559545e+00, -5.44461901e+00,\n",
       "        5.95613662e-01,  2.80949107e-01, -1.36266766e+00,  1.77679597e-01,\n",
       "        4.70745018e+00, -3.91217011e+00,  2.26778784e-01,  1.55393758e+00,\n",
       "        4.16160378e-01,  1.21298132e+00,  2.74453921e+00,  3.72813321e-01,\n",
       "        1.44457115e+00,  2.67238882e+00,  1.81349088e+00,  4.11518018e+00,\n",
       "       -1.25880567e+00, -5.17107814e+00, -9.05985285e-01,  9.63953924e-01,\n",
       "       -7.66359818e-01,  1.26473705e+00,  1.68543656e+00, -3.33610190e+00,\n",
       "        7.25576803e+00,  4.51260485e+00, -4.33448565e+00, -3.39540186e-01,\n",
       "       -5.31849630e+00,  1.89569244e+00, -9.42779640e-01, -6.94273095e-03,\n",
       "       -8.82192967e-01,  3.59607821e+00,  2.15566001e+00,  1.76077230e-01,\n",
       "       -1.82549732e+00,  1.68752043e+00, -3.80541367e+00,  6.87440365e-01,\n",
       "        3.07862283e+00,  3.83979467e+00, -8.88092780e-01, -1.35272471e+00,\n",
       "       -5.46523071e+00,  3.28526397e-01, -8.64204125e-01,  3.68773469e+00,\n",
       "       -4.50803994e-01, -3.86075314e+00, -5.04009357e-01, -1.31088369e+00,\n",
       "        1.67728411e+00,  5.25678586e+00,  4.07421356e+00, -2.46909388e+00,\n",
       "       -1.07295274e+00,  7.54433107e-01, -3.35688510e+00,  1.98761070e+00,\n",
       "       -3.80897189e+00,  1.28240029e+00, -4.76371790e+00,  4.32280241e-01,\n",
       "       -2.95402443e+00, -5.90563166e-01, -3.02578806e-01,  4.02727459e+00,\n",
       "        1.47916260e-01, -2.62642535e+00,  7.63083624e-01,  4.95460539e+00,\n",
       "        2.52863757e+00, -5.94611793e+00, -2.69142481e+00, -3.28187641e+00,\n",
       "        1.82709371e+00, -3.77543628e-02, -3.49917312e+00,  6.89039229e-01,\n",
       "        3.80695727e+00,  1.33169169e+00,  1.47669799e+00,  5.99732704e-01,\n",
       "       -3.81760252e-02,  1.73924870e+00, -1.01676066e+00, -2.31420129e+00,\n",
       "        4.18703703e+00, -2.66572991e+00,  4.65532901e+00,  5.12453447e+00,\n",
       "        2.98547328e+00,  1.00671489e+00, -3.12815034e-01, -2.69189562e-01,\n",
       "        8.32853479e-01, -6.43467978e-02,  5.59113583e+00, -1.19987167e+00,\n",
       "        2.95931556e+00,  7.83248672e-01,  4.52305032e-01,  3.77400936e-01,\n",
       "       -1.23623594e+00,  1.56918268e+00,  3.42720529e+00,  3.85227074e+00,\n",
       "       -2.61675530e+00, -4.64319277e+00,  2.85182160e+00, -1.28518283e+00,\n",
       "        3.00940164e+00, -1.90435730e+00,  3.53953775e+00, -7.00807825e+00,\n",
       "       -3.45103662e-01, -1.49696043e+00,  8.23433002e-01,  7.66099484e+00,\n",
       "        4.82486911e-01, -1.56133772e+00,  5.07836661e+00, -1.04986139e+00,\n",
       "        2.36158725e-01, -1.55603394e-01, -5.96139575e+00,  3.14983636e+00,\n",
       "        2.22128505e+00, -1.93018450e+00,  7.71438491e+00, -3.88096437e-01,\n",
       "       -3.41717617e+00,  5.68079111e+00,  3.06613226e+00, -2.29132817e+00,\n",
       "       -2.24814665e+00, -1.04174575e+00, -1.92167066e+00,  1.99830811e+00,\n",
       "        4.50394577e+00, -6.84990310e-01, -9.26419162e-01, -3.07574100e+00,\n",
       "        2.11493004e+00, -2.29610686e+00, -3.37754451e+00, -1.02139787e+00,\n",
       "        3.92954656e+00,  1.01451482e+00,  2.43102712e+00, -2.65075727e-01,\n",
       "        4.08173731e+00, -1.78071266e+00,  4.99908996e+00, -1.24945891e+00,\n",
       "       -1.34903822e+00,  7.16754113e+00,  3.37149880e-01,  4.82372455e+00,\n",
       "       -2.61564250e+00, -1.84596142e+00, -1.99305132e+00, -3.09437836e+00,\n",
       "        1.32838575e-01,  2.60884887e+00,  4.98411780e+00,  2.36674959e+00,\n",
       "        3.14247506e-01,  4.62671932e+00,  1.47604817e-01, -1.50870172e+00,\n",
       "        3.71648533e+00,  4.66244041e+00,  1.80001471e+00, -4.49896211e-01,\n",
       "       -8.11771104e-01,  1.10973221e+00,  3.60580641e+00, -8.27579822e-01,\n",
       "        1.73708154e+00, -1.71758985e+00,  1.08570098e+00, -5.50676893e-01,\n",
       "        4.08264066e-01,  9.65638195e-01,  2.45470197e+00,  1.50233145e+00,\n",
       "       -9.85106567e-01, -1.68919791e-01, -3.56021349e-01,  1.74488648e+00,\n",
       "       -1.87068516e+00,  3.13426972e-01,  8.42528246e+00,  3.96828778e+00,\n",
       "        1.86081527e+00,  5.95046424e+00, -3.02588728e+00,  9.87720875e-01,\n",
       "       -1.83295700e+00, -5.90173359e-01,  4.09796353e+00,  1.22848102e+00,\n",
       "       -2.35355850e+00, -3.74427637e+00, -3.48446084e+00,  1.21208637e+00,\n",
       "        3.21596817e+00,  1.23754850e+00, -2.04434715e+00,  7.99386607e-01,\n",
       "        7.87545645e-01,  2.72476069e+00,  3.51953497e+00, -2.18081521e+00,\n",
       "       -1.40200348e+00, -2.27642937e+00,  2.92443983e+00, -2.61608929e+00,\n",
       "       -1.60241472e+00,  2.72115080e-01,  4.81861249e+00, -3.68654611e-01,\n",
       "       -8.98379669e-01,  1.60331066e+00,  5.87310261e+00, -1.00986125e+00,\n",
       "        3.44491775e+00,  3.11539843e+00, -3.92149138e+00,  5.61249876e+00,\n",
       "        2.87820458e+00,  1.53146324e+00, -7.17427310e+00,  1.42283946e+00,\n",
       "       -1.92747262e+00,  1.28833189e+00, -1.29324676e+00,  1.86163585e+00,\n",
       "        4.56127232e+00, -6.06420471e-03, -1.27336865e+00, -1.54512590e+00,\n",
       "       -1.22032581e+00, -3.31001396e+00,  6.27485256e+00,  7.02314525e-01,\n",
       "       -4.98255941e-01, -6.57907797e+00, -9.67848687e-01, -6.74875568e+00,\n",
       "        4.08099820e+00,  4.37726942e+00,  7.66385548e-01, -1.94372861e+00,\n",
       "       -3.36733204e+00,  3.08187366e-01,  6.61256664e+00,  1.80557048e-01,\n",
       "       -1.71909560e+00, -3.29368387e+00, -3.99323340e+00,  3.72098157e-01,\n",
       "        4.82097413e+00,  4.34770467e+00, -5.41194867e+00, -8.23536303e-01,\n",
       "       -6.42756762e-01, -2.65344645e-01,  2.24766371e+00,  5.91320259e-01,\n",
       "       -3.07987097e-01,  4.14583414e+00,  1.24519267e+00, -6.47186202e-01,\n",
       "       -2.05844960e-01, -3.17181989e+00,  5.47774202e+00, -3.69803587e+00,\n",
       "       -2.19401530e+00, -3.00249153e+00, -1.51475297e+00,  6.67934825e-01,\n",
       "        2.52995866e+00, -7.83315417e-01, -3.86143471e+00,  2.26285408e+00,\n",
       "        9.94337155e-02, -6.15228475e+00, -1.43957670e+00, -2.79573619e+00,\n",
       "       -6.48690502e+00,  2.46502496e+00,  1.97273370e+00,  2.35687841e+00,\n",
       "        6.50951710e-01, -8.97103437e-01, -3.10001498e+00,  2.92891709e+00,\n",
       "       -3.23832697e+00, -8.47470624e-01,  2.86526336e+00, -3.07250976e+00,\n",
       "        2.56105276e+00, -3.53852179e+00,  4.47366504e+00,  1.99464193e+00,\n",
       "       -1.46721805e+00,  1.72115387e+00,  4.23063488e+00, -9.64577525e-01,\n",
       "       -1.86665429e+00, -3.58379563e+00,  8.18773467e+00,  7.57765656e-01,\n",
       "       -2.01441755e+00, -7.53621385e-01,  1.05507466e+00, -2.51291922e+00,\n",
       "       -3.74042985e+00, -4.76580275e+00,  4.13349946e+00, -4.32047680e+00,\n",
       "       -8.71461568e-02,  3.80928765e+00, -8.78412547e-01, -3.26245494e+00,\n",
       "       -1.62244436e+00,  3.97282097e-01, -3.39157650e-01, -3.65808646e+00,\n",
       "       -6.25197308e-01,  9.97137741e-01,  1.43529398e+00, -3.37067895e+00,\n",
       "       -1.24910639e+00, -4.08394567e+00, -2.61985814e-01, -5.27783070e+00,\n",
       "       -3.47283455e+00, -2.78686335e+00, -2.12545188e+00, -4.29333151e-01,\n",
       "        5.59408622e+00, -1.68013409e+00, -3.47644115e+00, -1.36886652e+00,\n",
       "        7.70286015e+00, -5.29489740e+00, -6.24840844e+00,  1.62076519e+00,\n",
       "       -6.09057102e-01,  2.82890112e+00,  1.68399589e+00,  5.56347324e+00,\n",
       "        1.12627436e+00, -2.58099606e+00,  9.91201591e-01,  6.29735082e-01,\n",
       "        1.43415098e+00,  3.35844335e+00,  2.60856081e+00,  1.67297255e+00,\n",
       "       -5.74060728e+00,  3.22676416e+00, -4.05164652e+00, -4.95414998e+00,\n",
       "        2.85936913e+00,  9.91167254e-01,  1.70311180e+00,  4.93946340e+00,\n",
       "        2.86748945e-01,  6.45812689e+00,  2.78237534e+00,  8.79319089e-01,\n",
       "       -1.61251574e+00,  1.62230549e+00,  3.93554269e+00,  4.07352331e+00,\n",
       "       -4.16830059e-02, -1.63386370e+00,  3.48674606e+00,  2.33809197e+00,\n",
       "        1.86329444e+00,  5.56806241e+00,  2.96101158e+00, -3.46788733e-01,\n",
       "       -2.12313747e+00, -1.66600866e-02,  2.67980173e+00,  4.07589362e+00,\n",
       "       -2.05389296e+00,  3.83851842e-01,  7.68472206e-02, -3.77208022e+00,\n",
       "        1.15494830e+00,  2.53151756e+00, -3.42482133e+00, -1.56681931e+00,\n",
       "        2.78314974e+00,  1.02880997e+00,  2.44189041e+00, -1.02407108e+00,\n",
       "        4.02989620e-01,  5.10140469e+00,  1.40760674e+00,  5.10063757e+00,\n",
       "        6.66043821e+00,  3.48422837e+00,  1.45579707e+00, -6.82375584e-01,\n",
       "       -2.37506925e+00,  6.82425749e-01,  7.35171809e-02, -1.55253508e-01,\n",
       "        1.67946588e+00,  4.64647570e+00, -8.94503998e-01, -8.33534385e-01,\n",
       "        2.08058704e+00,  3.45594219e+00,  1.83627258e+00,  3.50861511e+00,\n",
       "        3.13998075e+00,  2.69743828e+00, -3.20743607e-01,  3.89913454e+00])"
      ]
     },
     "execution_count": 155,
     "metadata": {},
     "output_type": "execute_result"
    }
   ],
   "source": [
    "output"
   ]
  },
  {
   "cell_type": "code",
   "execution_count": 156,
   "metadata": {},
   "outputs": [
    {
     "data": {
      "text/plain": [
       "(500,)"
      ]
     },
     "execution_count": 156,
     "metadata": {},
     "output_type": "execute_result"
    }
   ],
   "source": [
    "output.shape"
   ]
  },
  {
   "cell_type": "code",
   "execution_count": 157,
   "metadata": {},
   "outputs": [
    {
     "data": {
      "text/plain": [
       "array([0.        , 0.        , 0.        , 0.        , 0.        ,\n",
       "       0.        , 0.        , 0.        , 1.22712915, 0.39220417,\n",
       "       0.        , 1.6158922 , 0.        , 0.23084051, 0.        ,\n",
       "       6.67611272, 0.        , 0.        , 1.20073909, 0.        ,\n",
       "       0.        , 3.61861352, 0.        , 1.49959314, 1.33080627,\n",
       "       2.59924784, 4.20485515, 0.        , 1.00108432, 1.79412067,\n",
       "       0.        , 0.        , 6.80967776, 2.41864184, 6.60198078,\n",
       "       1.64689362, 0.61190419, 0.        , 0.30856974, 0.        ,\n",
       "       3.04266815, 2.02322084, 0.        , 0.        , 0.        ,\n",
       "       0.        , 0.58067856, 0.        , 0.        , 2.84460658,\n",
       "       0.71650068, 2.18696932, 0.        , 0.33458657, 0.        ,\n",
       "       5.6653959 , 0.        , 2.77068393, 1.81366844, 6.33368287,\n",
       "       2.85702451, 0.        , 0.        , 0.        , 0.15206097,\n",
       "       1.53596839, 0.        , 2.51155029, 0.        , 0.        ,\n",
       "       0.        , 0.        , 0.59561366, 0.28094911, 0.        ,\n",
       "       0.1776796 , 4.70745018, 0.        , 0.22677878, 1.55393758,\n",
       "       0.41616038, 1.21298132, 2.74453921, 0.37281332, 1.44457115,\n",
       "       2.67238882, 1.81349088, 4.11518018, 0.        , 0.        ,\n",
       "       0.        , 0.96395392, 0.        , 1.26473705, 1.68543656,\n",
       "       0.        , 7.25576803, 4.51260485, 0.        , 0.        ,\n",
       "       0.        , 1.89569244, 0.        , 0.        , 0.        ,\n",
       "       3.59607821, 2.15566001, 0.17607723, 0.        , 1.68752043,\n",
       "       0.        , 0.68744036, 3.07862283, 3.83979467, 0.        ,\n",
       "       0.        , 0.        , 0.3285264 , 0.        , 3.68773469,\n",
       "       0.        , 0.        , 0.        , 0.        , 1.67728411,\n",
       "       5.25678586, 4.07421356, 0.        , 0.        , 0.75443311,\n",
       "       0.        , 1.9876107 , 0.        , 1.28240029, 0.        ,\n",
       "       0.43228024, 0.        , 0.        , 0.        , 4.02727459,\n",
       "       0.14791626, 0.        , 0.76308362, 4.95460539, 2.52863757,\n",
       "       0.        , 0.        , 0.        , 1.82709371, 0.        ,\n",
       "       0.        , 0.68903923, 3.80695727, 1.33169169, 1.47669799,\n",
       "       0.5997327 , 0.        , 1.7392487 , 0.        , 0.        ,\n",
       "       4.18703703, 0.        , 4.65532901, 5.12453447, 2.98547328,\n",
       "       1.00671489, 0.        , 0.        , 0.83285348, 0.        ,\n",
       "       5.59113583, 0.        , 2.95931556, 0.78324867, 0.45230503,\n",
       "       0.37740094, 0.        , 1.56918268, 3.42720529, 3.85227074,\n",
       "       0.        , 0.        , 2.8518216 , 0.        , 3.00940164,\n",
       "       0.        , 3.53953775, 0.        , 0.        , 0.        ,\n",
       "       0.823433  , 7.66099484, 0.48248691, 0.        , 5.07836661,\n",
       "       0.        , 0.23615873, 0.        , 0.        , 3.14983636,\n",
       "       2.22128505, 0.        , 7.71438491, 0.        , 0.        ,\n",
       "       5.68079111, 3.06613226, 0.        , 0.        , 0.        ,\n",
       "       0.        , 1.99830811, 4.50394577, 0.        , 0.        ,\n",
       "       0.        , 2.11493004, 0.        , 0.        , 0.        ,\n",
       "       3.92954656, 1.01451482, 2.43102712, 0.        , 4.08173731,\n",
       "       0.        , 4.99908996, 0.        , 0.        , 7.16754113,\n",
       "       0.33714988, 4.82372455, 0.        , 0.        , 0.        ,\n",
       "       0.        , 0.13283858, 2.60884887, 4.9841178 , 2.36674959,\n",
       "       0.31424751, 4.62671932, 0.14760482, 0.        , 3.71648533,\n",
       "       4.66244041, 1.80001471, 0.        , 0.        , 1.10973221,\n",
       "       3.60580641, 0.        , 1.73708154, 0.        , 1.08570098,\n",
       "       0.        , 0.40826407, 0.96563819, 2.45470197, 1.50233145,\n",
       "       0.        , 0.        , 0.        , 1.74488648, 0.        ,\n",
       "       0.31342697, 8.42528246, 3.96828778, 1.86081527, 5.95046424,\n",
       "       0.        , 0.98772087, 0.        , 0.        , 4.09796353,\n",
       "       1.22848102, 0.        , 0.        , 0.        , 1.21208637,\n",
       "       3.21596817, 1.2375485 , 0.        , 0.79938661, 0.78754564,\n",
       "       2.72476069, 3.51953497, 0.        , 0.        , 0.        ,\n",
       "       2.92443983, 0.        , 0.        , 0.27211508, 4.81861249,\n",
       "       0.        , 0.        , 1.60331066, 5.87310261, 0.        ,\n",
       "       3.44491775, 3.11539843, 0.        , 5.61249876, 2.87820458,\n",
       "       1.53146324, 0.        , 1.42283946, 0.        , 1.28833189,\n",
       "       0.        , 1.86163585, 4.56127232, 0.        , 0.        ,\n",
       "       0.        , 0.        , 0.        , 6.27485256, 0.70231453,\n",
       "       0.        , 0.        , 0.        , 0.        , 4.0809982 ,\n",
       "       4.37726942, 0.76638555, 0.        , 0.        , 0.30818737,\n",
       "       6.61256664, 0.18055705, 0.        , 0.        , 0.        ,\n",
       "       0.37209816, 4.82097413, 4.34770467, 0.        , 0.        ,\n",
       "       0.        , 0.        , 2.24766371, 0.59132026, 0.        ,\n",
       "       4.14583414, 1.24519267, 0.        , 0.        , 0.        ,\n",
       "       5.47774202, 0.        , 0.        , 0.        , 0.        ,\n",
       "       0.66793482, 2.52995866, 0.        , 0.        , 2.26285408,\n",
       "       0.09943372, 0.        , 0.        , 0.        , 0.        ,\n",
       "       2.46502496, 1.9727337 , 2.35687841, 0.65095171, 0.        ,\n",
       "       0.        , 2.92891709, 0.        , 0.        , 2.86526336,\n",
       "       0.        , 2.56105276, 0.        , 4.47366504, 1.99464193,\n",
       "       0.        , 1.72115387, 4.23063488, 0.        , 0.        ,\n",
       "       0.        , 8.18773467, 0.75776566, 0.        , 0.        ,\n",
       "       1.05507466, 0.        , 0.        , 0.        , 4.13349946,\n",
       "       0.        , 0.        , 3.80928765, 0.        , 0.        ,\n",
       "       0.        , 0.3972821 , 0.        , 0.        , 0.        ,\n",
       "       0.99713774, 1.43529398, 0.        , 0.        , 0.        ,\n",
       "       0.        , 0.        , 0.        , 0.        , 0.        ,\n",
       "       0.        , 5.59408622, 0.        , 0.        , 0.        ,\n",
       "       7.70286015, 0.        , 0.        , 1.62076519, 0.        ,\n",
       "       2.82890112, 1.68399589, 5.56347324, 1.12627436, 0.        ,\n",
       "       0.99120159, 0.62973508, 1.43415098, 3.35844335, 2.60856081,\n",
       "       1.67297255, 0.        , 3.22676416, 0.        , 0.        ,\n",
       "       2.85936913, 0.99116725, 1.7031118 , 4.9394634 , 0.28674894,\n",
       "       6.45812689, 2.78237534, 0.87931909, 0.        , 1.62230549,\n",
       "       3.93554269, 4.07352331, 0.        , 0.        , 3.48674606,\n",
       "       2.33809197, 1.86329444, 5.56806241, 2.96101158, 0.        ,\n",
       "       0.        , 0.        , 2.67980173, 4.07589362, 0.        ,\n",
       "       0.38385184, 0.07684722, 0.        , 1.1549483 , 2.53151756,\n",
       "       0.        , 0.        , 2.78314974, 1.02880997, 2.44189041,\n",
       "       0.        , 0.40298962, 5.10140469, 1.40760674, 5.10063757,\n",
       "       6.66043821, 3.48422837, 1.45579707, 0.        , 0.        ,\n",
       "       0.68242575, 0.07351718, 0.        , 1.67946588, 4.6464757 ,\n",
       "       0.        , 0.        , 2.08058704, 3.45594219, 1.83627258,\n",
       "       3.50861511, 3.13998075, 2.69743828, 0.        , 3.89913454])"
      ]
     },
     "execution_count": 157,
     "metadata": {},
     "output_type": "execute_result"
    }
   ],
   "source": [
    "np.maximum(0,output)"
   ]
  },
  {
   "cell_type": "code",
   "execution_count": null,
   "metadata": {},
   "outputs": [],
   "source": []
  },
  {
   "cell_type": "markdown",
   "metadata": {},
   "source": [
    "## Convolution layer using Numpy"
   ]
  },
  {
   "cell_type": "code",
   "execution_count": 158,
   "metadata": {},
   "outputs": [
    {
     "data": {
      "text/plain": [
       "675"
      ]
     },
     "execution_count": 158,
     "metadata": {},
     "output_type": "execute_result"
    }
   ],
   "source": [
    "15*15*3"
   ]
  },
  {
   "cell_type": "code",
   "execution_count": 159,
   "metadata": {},
   "outputs": [],
   "source": [
    "imgdata = np.random.rand(225).reshape(15,15)"
   ]
  },
  {
   "cell_type": "code",
   "execution_count": 160,
   "metadata": {},
   "outputs": [
    {
     "data": {
      "text/plain": [
       "array([[0.39640502, 0.36378263, 0.47400247, 0.67411203, 0.40915243,\n",
       "        0.94425486, 0.88607338, 0.13719879, 0.45121919, 0.34065377,\n",
       "        0.25168473, 0.3752671 , 0.03434507, 0.39702243, 0.86370967],\n",
       "       [0.06131089, 0.80582712, 0.86496024, 0.84760302, 0.2989075 ,\n",
       "        0.6671782 , 0.329128  , 0.70597308, 0.17064702, 0.42601306,\n",
       "        0.17126674, 0.07379921, 0.9150814 , 0.74149466, 0.40545227],\n",
       "       [0.86132261, 0.96264138, 0.98809337, 0.84105146, 0.44230261,\n",
       "        0.05849061, 0.93303514, 0.89967575, 0.30487311, 0.60658364,\n",
       "        0.74626976, 0.43775711, 0.36783773, 0.92582582, 0.6775345 ],\n",
       "       [0.56875994, 0.84342335, 0.14834925, 0.84331243, 0.6698232 ,\n",
       "        0.3862112 , 0.31456089, 0.03557041, 0.45458292, 0.25221374,\n",
       "        0.42681152, 0.69776554, 0.66697562, 0.45096266, 0.18313202],\n",
       "       [0.54970036, 0.46508254, 0.64894864, 0.37268381, 0.45672684,\n",
       "        0.87128181, 0.97992338, 0.11613448, 0.70746798, 0.81103157,\n",
       "        0.32769491, 0.08863533, 0.14167215, 0.91365989, 0.67997803],\n",
       "       [0.56656425, 0.31888532, 0.73551171, 0.60043312, 0.91088856,\n",
       "        0.9040636 , 0.87084207, 0.01373626, 0.56523964, 0.9353781 ,\n",
       "        0.50431351, 0.02784916, 0.44568897, 0.36556706, 0.53658614],\n",
       "       [0.00827201, 0.15010198, 0.37835727, 0.5033916 , 0.41946494,\n",
       "        0.73816498, 0.48581601, 0.28115324, 0.53359034, 0.68880879,\n",
       "        0.96233303, 0.9162915 , 0.03566125, 0.21375794, 0.56552346],\n",
       "       [0.15490154, 0.94893889, 0.78282054, 0.15123139, 0.23279588,\n",
       "        0.46728441, 0.96736499, 0.0602225 , 0.04870004, 0.51821144,\n",
       "        0.58298111, 0.13349606, 0.55341316, 0.47656547, 0.09380699],\n",
       "       [0.57561144, 0.18237012, 0.23037344, 0.30210197, 0.95430465,\n",
       "        0.83093852, 0.65462703, 0.05053334, 0.53910833, 0.31141123,\n",
       "        0.07573313, 0.94329077, 0.27939545, 0.08620027, 0.76119463],\n",
       "       [0.28974973, 0.67121664, 0.08139236, 0.11155983, 0.60307708,\n",
       "        0.87110945, 0.59998859, 0.32930058, 0.7714033 , 0.15350764,\n",
       "        0.89418049, 0.77456126, 0.73045639, 0.74116471, 0.72411127],\n",
       "       [0.64953188, 0.02887734, 0.75850168, 0.76636391, 0.06213268,\n",
       "        0.68783553, 0.19625764, 0.55434497, 0.17997898, 0.21277399,\n",
       "        0.33626675, 0.18250242, 0.66112618, 0.03538913, 0.12024005],\n",
       "       [0.24735041, 0.64541474, 0.50765649, 0.32577982, 0.16517471,\n",
       "        0.08545179, 0.92685845, 0.94369278, 0.31504543, 0.17870286,\n",
       "        0.17384803, 0.63595713, 0.65879011, 0.51046217, 0.07531556],\n",
       "       [0.03225564, 0.58334641, 0.67282195, 0.23157567, 0.72156461,\n",
       "        0.17280536, 0.8702181 , 0.21438307, 0.39355908, 0.44041025,\n",
       "        0.52143652, 0.13447618, 0.50710667, 0.56069862, 0.04816383],\n",
       "       [0.35751695, 0.32718766, 0.53044314, 0.09082332, 0.4021751 ,\n",
       "        0.68064055, 0.53824254, 0.70121734, 0.45713079, 0.98537933,\n",
       "        0.50513135, 0.09946465, 0.9915645 , 0.34213083, 0.44715257],\n",
       "       [0.15105491, 0.37332707, 0.95639949, 0.51343385, 0.63731187,\n",
       "        0.01480417, 0.96070575, 0.22894201, 0.07248992, 0.68632273,\n",
       "        0.83171652, 0.38612235, 0.88068526, 0.95690561, 0.07168546]])"
      ]
     },
     "execution_count": 160,
     "metadata": {},
     "output_type": "execute_result"
    }
   ],
   "source": [
    "imgdata"
   ]
  },
  {
   "cell_type": "code",
   "execution_count": 161,
   "metadata": {},
   "outputs": [
    {
     "data": {
      "text/plain": [
       "(15, 15)"
      ]
     },
     "execution_count": 161,
     "metadata": {},
     "output_type": "execute_result"
    }
   ],
   "source": [
    "imgdata.shape"
   ]
  },
  {
   "cell_type": "code",
   "execution_count": 162,
   "metadata": {},
   "outputs": [
    {
     "data": {
      "text/plain": [
       "array([[0.36378263, 0.47400247, 0.67411203],\n",
       "       [0.80582712, 0.86496024, 0.84760302],\n",
       "       [0.96264138, 0.98809337, 0.84105146]])"
      ]
     },
     "execution_count": 162,
     "metadata": {},
     "output_type": "execute_result"
    }
   ],
   "source": [
    "imgdata[0:3,1:4]"
   ]
  },
  {
   "cell_type": "code",
   "execution_count": 163,
   "metadata": {},
   "outputs": [
    {
     "data": {
      "text/plain": [
       "array([[0.39640502, 0.36378263, 0.47400247, 0.67411203, 0.40915243],\n",
       "       [0.06131089, 0.80582712, 0.86496024, 0.84760302, 0.2989075 ],\n",
       "       [0.86132261, 0.96264138, 0.98809337, 0.84105146, 0.44230261],\n",
       "       [0.56875994, 0.84342335, 0.14834925, 0.84331243, 0.6698232 ],\n",
       "       [0.54970036, 0.46508254, 0.64894864, 0.37268381, 0.45672684]])"
      ]
     },
     "execution_count": 163,
     "metadata": {},
     "output_type": "execute_result"
    }
   ],
   "source": [
    "imgdata[:5,:5]"
   ]
  },
  {
   "cell_type": "code",
   "execution_count": 164,
   "metadata": {},
   "outputs": [],
   "source": [
    "filtersize = np.array([[1,0,0],[0,1,0],[0,0,1]])"
   ]
  },
  {
   "cell_type": "code",
   "execution_count": 165,
   "metadata": {},
   "outputs": [
    {
     "data": {
      "text/plain": [
       "array([[1, 0, 0],\n",
       "       [0, 1, 0],\n",
       "       [0, 0, 1]])"
      ]
     },
     "execution_count": 165,
     "metadata": {},
     "output_type": "execute_result"
    }
   ],
   "source": [
    "filtersize"
   ]
  },
  {
   "cell_type": "code",
   "execution_count": 166,
   "metadata": {},
   "outputs": [
    {
     "name": "stdout",
     "output_type": "stream",
     "text": [
      "0 row (0, 3) (0, 3)\n",
      "0 row (0, 3) (1, 4)\n",
      "0 row (0, 3) (2, 5)\n",
      "0 row (0, 3) (3, 6)\n",
      "0 row (0, 3) (4, 7)\n",
      "0 row (0, 3) (5, 8)\n",
      "0 row (0, 3) (6, 9)\n",
      "0 row (0, 3) (7, 10)\n",
      "0 row (0, 3) (8, 11)\n",
      "0 row (0, 3) (9, 12)\n",
      "0 row (0, 3) (10, 13)\n",
      "0 row (0, 3) (11, 14)\n",
      "0 row (0, 3) (12, 15)\n",
      "1 row (1, 4) (0, 3)\n",
      "1 row (1, 4) (1, 4)\n",
      "1 row (1, 4) (2, 5)\n",
      "1 row (1, 4) (3, 6)\n",
      "1 row (1, 4) (4, 7)\n",
      "1 row (1, 4) (5, 8)\n",
      "1 row (1, 4) (6, 9)\n",
      "1 row (1, 4) (7, 10)\n",
      "1 row (1, 4) (8, 11)\n",
      "1 row (1, 4) (9, 12)\n",
      "1 row (1, 4) (10, 13)\n",
      "1 row (1, 4) (11, 14)\n",
      "1 row (1, 4) (12, 15)\n",
      "2 row (2, 5) (0, 3)\n",
      "2 row (2, 5) (1, 4)\n",
      "2 row (2, 5) (2, 5)\n",
      "2 row (2, 5) (3, 6)\n",
      "2 row (2, 5) (4, 7)\n",
      "2 row (2, 5) (5, 8)\n",
      "2 row (2, 5) (6, 9)\n",
      "2 row (2, 5) (7, 10)\n",
      "2 row (2, 5) (8, 11)\n",
      "2 row (2, 5) (9, 12)\n",
      "2 row (2, 5) (10, 13)\n",
      "2 row (2, 5) (11, 14)\n",
      "2 row (2, 5) (12, 15)\n",
      "3 row (3, 6) (0, 3)\n",
      "3 row (3, 6) (1, 4)\n",
      "3 row (3, 6) (2, 5)\n",
      "3 row (3, 6) (3, 6)\n",
      "3 row (3, 6) (4, 7)\n",
      "3 row (3, 6) (5, 8)\n",
      "3 row (3, 6) (6, 9)\n",
      "3 row (3, 6) (7, 10)\n",
      "3 row (3, 6) (8, 11)\n",
      "3 row (3, 6) (9, 12)\n",
      "3 row (3, 6) (10, 13)\n",
      "3 row (3, 6) (11, 14)\n",
      "3 row (3, 6) (12, 15)\n",
      "4 row (4, 7) (0, 3)\n",
      "4 row (4, 7) (1, 4)\n",
      "4 row (4, 7) (2, 5)\n",
      "4 row (4, 7) (3, 6)\n",
      "4 row (4, 7) (4, 7)\n",
      "4 row (4, 7) (5, 8)\n",
      "4 row (4, 7) (6, 9)\n",
      "4 row (4, 7) (7, 10)\n",
      "4 row (4, 7) (8, 11)\n",
      "4 row (4, 7) (9, 12)\n",
      "4 row (4, 7) (10, 13)\n",
      "4 row (4, 7) (11, 14)\n",
      "4 row (4, 7) (12, 15)\n",
      "5 row (5, 8) (0, 3)\n",
      "5 row (5, 8) (1, 4)\n",
      "5 row (5, 8) (2, 5)\n",
      "5 row (5, 8) (3, 6)\n",
      "5 row (5, 8) (4, 7)\n",
      "5 row (5, 8) (5, 8)\n",
      "5 row (5, 8) (6, 9)\n",
      "5 row (5, 8) (7, 10)\n",
      "5 row (5, 8) (8, 11)\n",
      "5 row (5, 8) (9, 12)\n",
      "5 row (5, 8) (10, 13)\n",
      "5 row (5, 8) (11, 14)\n",
      "5 row (5, 8) (12, 15)\n",
      "6 row (6, 9) (0, 3)\n",
      "6 row (6, 9) (1, 4)\n",
      "6 row (6, 9) (2, 5)\n",
      "6 row (6, 9) (3, 6)\n",
      "6 row (6, 9) (4, 7)\n",
      "6 row (6, 9) (5, 8)\n",
      "6 row (6, 9) (6, 9)\n",
      "6 row (6, 9) (7, 10)\n",
      "6 row (6, 9) (8, 11)\n",
      "6 row (6, 9) (9, 12)\n",
      "6 row (6, 9) (10, 13)\n",
      "6 row (6, 9) (11, 14)\n",
      "6 row (6, 9) (12, 15)\n",
      "7 row (7, 10) (0, 3)\n",
      "7 row (7, 10) (1, 4)\n",
      "7 row (7, 10) (2, 5)\n",
      "7 row (7, 10) (3, 6)\n",
      "7 row (7, 10) (4, 7)\n",
      "7 row (7, 10) (5, 8)\n",
      "7 row (7, 10) (6, 9)\n",
      "7 row (7, 10) (7, 10)\n",
      "7 row (7, 10) (8, 11)\n",
      "7 row (7, 10) (9, 12)\n",
      "7 row (7, 10) (10, 13)\n",
      "7 row (7, 10) (11, 14)\n",
      "7 row (7, 10) (12, 15)\n",
      "8 row (8, 11) (0, 3)\n",
      "8 row (8, 11) (1, 4)\n",
      "8 row (8, 11) (2, 5)\n",
      "8 row (8, 11) (3, 6)\n",
      "8 row (8, 11) (4, 7)\n",
      "8 row (8, 11) (5, 8)\n",
      "8 row (8, 11) (6, 9)\n",
      "8 row (8, 11) (7, 10)\n",
      "8 row (8, 11) (8, 11)\n",
      "8 row (8, 11) (9, 12)\n",
      "8 row (8, 11) (10, 13)\n",
      "8 row (8, 11) (11, 14)\n",
      "8 row (8, 11) (12, 15)\n",
      "9 row (9, 12) (0, 3)\n",
      "9 row (9, 12) (1, 4)\n",
      "9 row (9, 12) (2, 5)\n",
      "9 row (9, 12) (3, 6)\n",
      "9 row (9, 12) (4, 7)\n",
      "9 row (9, 12) (5, 8)\n",
      "9 row (9, 12) (6, 9)\n",
      "9 row (9, 12) (7, 10)\n",
      "9 row (9, 12) (8, 11)\n",
      "9 row (9, 12) (9, 12)\n",
      "9 row (9, 12) (10, 13)\n",
      "9 row (9, 12) (11, 14)\n",
      "9 row (9, 12) (12, 15)\n",
      "10 row (10, 13) (0, 3)\n",
      "10 row (10, 13) (1, 4)\n",
      "10 row (10, 13) (2, 5)\n",
      "10 row (10, 13) (3, 6)\n",
      "10 row (10, 13) (4, 7)\n",
      "10 row (10, 13) (5, 8)\n",
      "10 row (10, 13) (6, 9)\n",
      "10 row (10, 13) (7, 10)\n",
      "10 row (10, 13) (8, 11)\n",
      "10 row (10, 13) (9, 12)\n",
      "10 row (10, 13) (10, 13)\n",
      "10 row (10, 13) (11, 14)\n",
      "10 row (10, 13) (12, 15)\n",
      "11 row (11, 14) (0, 3)\n",
      "11 row (11, 14) (1, 4)\n",
      "11 row (11, 14) (2, 5)\n",
      "11 row (11, 14) (3, 6)\n",
      "11 row (11, 14) (4, 7)\n",
      "11 row (11, 14) (5, 8)\n",
      "11 row (11, 14) (6, 9)\n",
      "11 row (11, 14) (7, 10)\n",
      "11 row (11, 14) (8, 11)\n",
      "11 row (11, 14) (9, 12)\n",
      "11 row (11, 14) (10, 13)\n",
      "11 row (11, 14) (11, 14)\n",
      "11 row (11, 14) (12, 15)\n",
      "12 row (12, 15) (0, 3)\n",
      "12 row (12, 15) (1, 4)\n",
      "12 row (12, 15) (2, 5)\n",
      "12 row (12, 15) (3, 6)\n",
      "12 row (12, 15) (4, 7)\n",
      "12 row (12, 15) (5, 8)\n",
      "12 row (12, 15) (6, 9)\n",
      "12 row (12, 15) (7, 10)\n",
      "12 row (12, 15) (8, 11)\n",
      "12 row (12, 15) (9, 12)\n",
      "12 row (12, 15) (10, 13)\n",
      "12 row (12, 15) (11, 14)\n",
      "12 row (12, 15) (12, 15)\n"
     ]
    }
   ],
   "source": [
    "for k in range(13):\n",
    "    for j in range(13):\n",
    "        print(k,\"row\", (k,k+3), (j,j+3))"
   ]
  },
  {
   "cell_type": "code",
   "execution_count": 167,
   "metadata": {},
   "outputs": [
    {
     "name": "stdout",
     "output_type": "stream",
     "text": [
      "0 row  (0, 3) (0, 3)\n",
      "0 row  (0, 3) (1, 4)\n",
      "0 row  (0, 3) (2, 5)\n",
      "0 row  (0, 3) (3, 6)\n",
      "0 row  (0, 3) (4, 7)\n",
      "0 row  (0, 3) (5, 8)\n",
      "0 row  (0, 3) (6, 9)\n",
      "0 row  (0, 3) (7, 10)\n",
      "0 row  (0, 3) (8, 11)\n",
      "0 row  (0, 3) (9, 12)\n",
      "0 row  (0, 3) (10, 13)\n",
      "0 row  (0, 3) (11, 14)\n",
      "0 row  (0, 3) (12, 15)\n",
      "1 row  (1, 4) (0, 3)\n",
      "1 row  (1, 4) (1, 4)\n",
      "1 row  (1, 4) (2, 5)\n",
      "1 row  (1, 4) (3, 6)\n",
      "1 row  (1, 4) (4, 7)\n",
      "1 row  (1, 4) (5, 8)\n",
      "1 row  (1, 4) (6, 9)\n",
      "1 row  (1, 4) (7, 10)\n",
      "1 row  (1, 4) (8, 11)\n",
      "1 row  (1, 4) (9, 12)\n",
      "1 row  (1, 4) (10, 13)\n",
      "1 row  (1, 4) (11, 14)\n",
      "1 row  (1, 4) (12, 15)\n",
      "2 row  (2, 5) (0, 3)\n",
      "2 row  (2, 5) (1, 4)\n",
      "2 row  (2, 5) (2, 5)\n",
      "2 row  (2, 5) (3, 6)\n",
      "2 row  (2, 5) (4, 7)\n",
      "2 row  (2, 5) (5, 8)\n",
      "2 row  (2, 5) (6, 9)\n",
      "2 row  (2, 5) (7, 10)\n",
      "2 row  (2, 5) (8, 11)\n",
      "2 row  (2, 5) (9, 12)\n",
      "2 row  (2, 5) (10, 13)\n",
      "2 row  (2, 5) (11, 14)\n",
      "2 row  (2, 5) (12, 15)\n",
      "3 row  (3, 6) (0, 3)\n",
      "3 row  (3, 6) (1, 4)\n",
      "3 row  (3, 6) (2, 5)\n",
      "3 row  (3, 6) (3, 6)\n",
      "3 row  (3, 6) (4, 7)\n",
      "3 row  (3, 6) (5, 8)\n",
      "3 row  (3, 6) (6, 9)\n",
      "3 row  (3, 6) (7, 10)\n",
      "3 row  (3, 6) (8, 11)\n",
      "3 row  (3, 6) (9, 12)\n",
      "3 row  (3, 6) (10, 13)\n",
      "3 row  (3, 6) (11, 14)\n",
      "3 row  (3, 6) (12, 15)\n",
      "4 row  (4, 7) (0, 3)\n",
      "4 row  (4, 7) (1, 4)\n",
      "4 row  (4, 7) (2, 5)\n",
      "4 row  (4, 7) (3, 6)\n",
      "4 row  (4, 7) (4, 7)\n",
      "4 row  (4, 7) (5, 8)\n",
      "4 row  (4, 7) (6, 9)\n",
      "4 row  (4, 7) (7, 10)\n",
      "4 row  (4, 7) (8, 11)\n",
      "4 row  (4, 7) (9, 12)\n",
      "4 row  (4, 7) (10, 13)\n",
      "4 row  (4, 7) (11, 14)\n",
      "4 row  (4, 7) (12, 15)\n",
      "5 row  (5, 8) (0, 3)\n",
      "5 row  (5, 8) (1, 4)\n",
      "5 row  (5, 8) (2, 5)\n",
      "5 row  (5, 8) (3, 6)\n",
      "5 row  (5, 8) (4, 7)\n",
      "5 row  (5, 8) (5, 8)\n",
      "5 row  (5, 8) (6, 9)\n",
      "5 row  (5, 8) (7, 10)\n",
      "5 row  (5, 8) (8, 11)\n",
      "5 row  (5, 8) (9, 12)\n",
      "5 row  (5, 8) (10, 13)\n",
      "5 row  (5, 8) (11, 14)\n",
      "5 row  (5, 8) (12, 15)\n",
      "6 row  (6, 9) (0, 3)\n",
      "6 row  (6, 9) (1, 4)\n",
      "6 row  (6, 9) (2, 5)\n",
      "6 row  (6, 9) (3, 6)\n",
      "6 row  (6, 9) (4, 7)\n",
      "6 row  (6, 9) (5, 8)\n",
      "6 row  (6, 9) (6, 9)\n",
      "6 row  (6, 9) (7, 10)\n",
      "6 row  (6, 9) (8, 11)\n",
      "6 row  (6, 9) (9, 12)\n",
      "6 row  (6, 9) (10, 13)\n",
      "6 row  (6, 9) (11, 14)\n",
      "6 row  (6, 9) (12, 15)\n",
      "7 row  (7, 10) (0, 3)\n",
      "7 row  (7, 10) (1, 4)\n",
      "7 row  (7, 10) (2, 5)\n",
      "7 row  (7, 10) (3, 6)\n",
      "7 row  (7, 10) (4, 7)\n",
      "7 row  (7, 10) (5, 8)\n",
      "7 row  (7, 10) (6, 9)\n",
      "7 row  (7, 10) (7, 10)\n",
      "7 row  (7, 10) (8, 11)\n",
      "7 row  (7, 10) (9, 12)\n",
      "7 row  (7, 10) (10, 13)\n",
      "7 row  (7, 10) (11, 14)\n",
      "7 row  (7, 10) (12, 15)\n",
      "8 row  (8, 11) (0, 3)\n",
      "8 row  (8, 11) (1, 4)\n",
      "8 row  (8, 11) (2, 5)\n",
      "8 row  (8, 11) (3, 6)\n",
      "8 row  (8, 11) (4, 7)\n",
      "8 row  (8, 11) (5, 8)\n",
      "8 row  (8, 11) (6, 9)\n",
      "8 row  (8, 11) (7, 10)\n",
      "8 row  (8, 11) (8, 11)\n",
      "8 row  (8, 11) (9, 12)\n",
      "8 row  (8, 11) (10, 13)\n",
      "8 row  (8, 11) (11, 14)\n",
      "8 row  (8, 11) (12, 15)\n",
      "9 row  (9, 12) (0, 3)\n",
      "9 row  (9, 12) (1, 4)\n",
      "9 row  (9, 12) (2, 5)\n",
      "9 row  (9, 12) (3, 6)\n",
      "9 row  (9, 12) (4, 7)\n",
      "9 row  (9, 12) (5, 8)\n",
      "9 row  (9, 12) (6, 9)\n",
      "9 row  (9, 12) (7, 10)\n",
      "9 row  (9, 12) (8, 11)\n",
      "9 row  (9, 12) (9, 12)\n",
      "9 row  (9, 12) (10, 13)\n",
      "9 row  (9, 12) (11, 14)\n",
      "9 row  (9, 12) (12, 15)\n",
      "10 row  (10, 13) (0, 3)\n",
      "10 row  (10, 13) (1, 4)\n",
      "10 row  (10, 13) (2, 5)\n",
      "10 row  (10, 13) (3, 6)\n",
      "10 row  (10, 13) (4, 7)\n",
      "10 row  (10, 13) (5, 8)\n",
      "10 row  (10, 13) (6, 9)\n",
      "10 row  (10, 13) (7, 10)\n",
      "10 row  (10, 13) (8, 11)\n",
      "10 row  (10, 13) (9, 12)\n",
      "10 row  (10, 13) (10, 13)\n",
      "10 row  (10, 13) (11, 14)\n",
      "10 row  (10, 13) (12, 15)\n",
      "11 row  (11, 14) (0, 3)\n",
      "11 row  (11, 14) (1, 4)\n",
      "11 row  (11, 14) (2, 5)\n",
      "11 row  (11, 14) (3, 6)\n",
      "11 row  (11, 14) (4, 7)\n",
      "11 row  (11, 14) (5, 8)\n",
      "11 row  (11, 14) (6, 9)\n",
      "11 row  (11, 14) (7, 10)\n",
      "11 row  (11, 14) (8, 11)\n",
      "11 row  (11, 14) (9, 12)\n",
      "11 row  (11, 14) (10, 13)\n",
      "11 row  (11, 14) (11, 14)\n",
      "11 row  (11, 14) (12, 15)\n",
      "12 row  (12, 15) (0, 3)\n",
      "12 row  (12, 15) (1, 4)\n",
      "12 row  (12, 15) (2, 5)\n",
      "12 row  (12, 15) (3, 6)\n",
      "12 row  (12, 15) (4, 7)\n",
      "12 row  (12, 15) (5, 8)\n",
      "12 row  (12, 15) (6, 9)\n",
      "12 row  (12, 15) (7, 10)\n",
      "12 row  (12, 15) (8, 11)\n",
      "12 row  (12, 15) (9, 12)\n",
      "12 row  (12, 15) (10, 13)\n",
      "12 row  (12, 15) (11, 14)\n",
      "12 row  (12, 15) (12, 15)\n"
     ]
    }
   ],
   "source": [
    "filSize=3\n",
    "outputVal=[]\n",
    "for k in range(13):\n",
    "    for j in range(13):\n",
    "        sampD=imgdata[k:k+filSize,j:j+filSize]\n",
    "        outputVal.append(np.sum(sampD*filtersize))\n",
    "        print (k,'row ',(k,k+3),(j,j+3))"
   ]
  },
  {
   "cell_type": "code",
   "execution_count": 168,
   "metadata": {},
   "outputs": [
    {
     "data": {
      "text/plain": [
       "169"
      ]
     },
     "execution_count": 168,
     "metadata": {},
     "output_type": "execute_result"
    }
   ],
   "source": [
    "len(outputVal)"
   ]
  },
  {
   "cell_type": "code",
   "execution_count": 169,
   "metadata": {},
   "outputs": [],
   "source": [
    "outputFinal2=np.array(outputVal).reshape(13,13)"
   ]
  },
  {
   "cell_type": "code",
   "execution_count": 170,
   "metadata": {},
   "outputs": [
    {
     "data": {
      "text/plain": [
       "array([[2.19032551, 2.06979433, 1.76390811, 1.03151014, 2.00936577,\n",
       "        2.17305862, 1.89691957, 0.91442946, 1.62350201, 0.94967762,\n",
       "        0.69332168, 2.21617433, 1.45337423],\n",
       "       [1.17230152, 2.63723292, 2.3758349 , 1.67611683, 0.671959  ,\n",
       "        1.63578376, 1.68338667, 1.26305993, 1.20404219, 1.87004836,\n",
       "        1.27599947, 0.8925996 , 2.02403924],\n",
       "       [2.35369461, 1.48367444, 2.28813264, 2.38215646, 1.80843719,\n",
       "        0.48918599, 1.67607353, 2.16529023, 0.88478176, 1.1220305 ,\n",
       "        1.58570745, 2.01839262, 1.49877842],\n",
       "       [1.7693542 , 2.09280511, 1.43192163, 2.20410287, 2.41194708,\n",
       "        1.37987084, 0.99593502, 1.67841649, 1.76992799, 0.60775781,\n",
       "        0.96113583, 1.20500475, 2.11722165],\n",
       "       [1.24694294, 1.70398586, 1.66884669, 2.02173736, 1.84660645,\n",
       "        2.02327712, 1.52724998, 1.37018291, 2.6051791 , 2.23163657,\n",
       "        0.39120532, 0.74808224, 1.07276267],\n",
       "       [1.49948677, 0.84847398, 1.47169919, 1.48718246, 2.61641854,\n",
       "        1.45010211, 1.20069535, 1.06553803, 1.83702954, 2.03120719,\n",
       "        1.97401817, 0.54007588, 0.7532539 ],\n",
       "       [1.18758434, 1.23502449, 1.48389331, 1.567126  , 1.54137637,\n",
       "        1.75606331, 1.08514685, 0.64126451, 1.12753491, 2.21508067,\n",
       "        1.37522454, 1.55590492, 1.27342135],\n",
       "       [0.41866402, 1.29087217, 1.68799958, 1.97664549, 1.66372299,\n",
       "        1.45121202, 1.78930163, 0.75283848, 1.25429176, 1.36850583,\n",
       "        2.25672827, 1.15405623, 1.3637247 ],\n",
       "       [2.00532976, 1.0301264 , 0.40406596, 1.59301457, 2.02167174,\n",
       "        1.98527209, 1.16390659, 1.03471063, 1.02888272, 1.38809414,\n",
       "        1.51142058, 1.70913629, 1.14080022],\n",
       "       [0.82628356, 1.75549814, 1.01293099, 0.2591443 , 2.21777106,\n",
       "        2.01105987, 1.46937899, 0.68798242, 1.15802532, 1.12573152,\n",
       "        1.73547302, 1.94614962, 0.84116108],\n",
       "       [1.96776856, 0.7681095 , 1.8058461 , 1.10434399, 1.01780257,\n",
       "        1.82907705, 1.5335095 , 1.30980065, 0.88011836, 0.5210982 ,\n",
       "        1.47933055, 1.40199115, 1.21975219],\n",
       "       [1.36113996, 1.40906   , 1.14140726, 1.72798497, 0.87622262,\n",
       "        1.65688722, 1.59837231, 2.32263119, 1.26058702, 0.79960402,\n",
       "        1.29988871, 1.48519464, 1.6666413 ],\n",
       "       [1.31584278, 1.62722341, 1.40095713, 0.64855494, 2.3629109 ,\n",
       "        0.93998992, 1.64392536, 1.35783659, 2.21065492, 1.33166394,\n",
       "        1.50158642, 2.08294629, 0.92092297]])"
      ]
     },
     "execution_count": 170,
     "metadata": {},
     "output_type": "execute_result"
    }
   ],
   "source": [
    "outputFinal2"
   ]
  },
  {
   "cell_type": "code",
   "execution_count": 171,
   "metadata": {},
   "outputs": [],
   "source": [
    "sdata = imgdata[:3,:3]"
   ]
  },
  {
   "cell_type": "code",
   "execution_count": 172,
   "metadata": {},
   "outputs": [
    {
     "data": {
      "text/plain": [
       "array([[0.39640502, 0.36378263, 0.47400247],\n",
       "       [0.06131089, 0.80582712, 0.86496024],\n",
       "       [0.86132261, 0.96264138, 0.98809337]])"
      ]
     },
     "execution_count": 172,
     "metadata": {},
     "output_type": "execute_result"
    }
   ],
   "source": [
    "sdata"
   ]
  },
  {
   "cell_type": "markdown",
   "metadata": {},
   "source": [
    "## Function to try in numpy"
   ]
  },
  {
   "cell_type": "markdown",
   "metadata": {},
   "source": [
    " -  np.newaxis\n",
    " -  np.matrix\n",
    " -  np.tanh\tCompute hyperbolic tangent element-wise.\n",
    " -  np.arcsinh\tInverse hyperbolic sine element-wise.\n",
    " -  np.arccosh\tInverse hyperbolic cosine, element-wise.\n",
    " -  np.arctanh\tInverse hyperbolic tangent element-wise.\n",
    " -  np.expm1\tCalculate exp(x) – 1 for all elements in the array.\n",
    " -  np.exp2\tCalculate 2**p for all p in the input array.\n",
    " -  np.log10\tReturn the base 10 logarithm of the input array, element-wise.\n",
    " -  np.log2\tBase-2 logarithm of x.\n",
    " -  np.log1p\tReturn the natural logarithm of one plus the input array, element-wise.\n",
    " -  np.logaddexp\tLogarithm of the sum of exponentiations of the inputs.\n",
    " -  np.logaddexp2\tLogarithm of the sum of exponentiations of the inputs in base-2.\n",
    " -  np.add\tAdd arguments element-wise.\n",
    " -  np.positive\tNumerical positive, element-wise.\n",
    " -  np.negative\tNumerical negative, element-wise.\n",
    " -  np.multiply\tMultiply arguments element-wise.\n",
    " -  np.power\tFirst array elements raised to powers from second array, element-wise.\n",
    " -  np.subtract\tSubtract arguments, element-wise.\n",
    " -  np.true_divide\tReturns a true division of the inputs, element-wise.\n",
    " -  np.floor_divide\tReturn the largest integer smaller or equal to the division of the inputs.\n",
    " -  np.float_power\tFirst array elements raised to powers from second array, element-wise.\n",
    " -  np.mod\tReturn the element-wise remainder of division.\n",
    " -  np.remainder\tReturn element-wise remainder of division.\n",
    " -  np.divmod\tReturn element-wise quotient and remainder simultaneously."
   ]
  },
  {
   "cell_type": "markdown",
   "metadata": {},
   "source": [
    "source:\n",
    " - https://www.youtube.com/watch?v=poD8ud4MxOY\n",
    " -      :https://numpy.org/\n",
    " -    :https://numpy.org/devdocs/user/quickstart.html"
   ]
  },
  {
   "cell_type": "code",
   "execution_count": null,
   "metadata": {},
   "outputs": [],
   "source": []
  }
 ],
 "metadata": {
  "kernelspec": {
   "display_name": "Python 3",
   "language": "python",
   "name": "python3"
  },
  "language_info": {
   "codemirror_mode": {
    "name": "ipython",
    "version": 3
   },
   "file_extension": ".py",
   "mimetype": "text/x-python",
   "name": "python",
   "nbconvert_exporter": "python",
   "pygments_lexer": "ipython3",
   "version": "3.8.5"
  }
 },
 "nbformat": 4,
 "nbformat_minor": 4
}
